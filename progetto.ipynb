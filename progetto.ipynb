{
  "cells": [
    {
      "cell_type": "markdown",
      "source": [
        "# **Come si fa ad avere successo su Ted?**\n",
        "**Progetto realizzato da**: Siri Filippo (4819642) \\\n",
        "**Dataset**: TED Talks"
      ],
      "metadata": {
        "collapsed": false,
        "pycharm": {
          "name": "#%% md\n"
        },
        "id": "mFH1UsU9vHtf"
      }
    },
    {
      "cell_type": "code",
      "execution_count": 152,
      "outputs": [],
      "source": [
        "import pandas as pd\n",
        "import matplotlib.pyplot as plt\n",
        "import numpy as np\n",
        "import scipy.stats as stats\n",
        "import scipy\n",
        "from sklearn import metrics\n",
        "from sklearn.model_selection import train_test_split\n",
        "from sklearn.linear_model import LinearRegression"
      ],
      "metadata": {
        "pycharm": {
          "name": "#%%\n"
        },
        "id": "E4dtRB9svHti"
      }
    },
    {
      "cell_type": "code",
      "execution_count": 153,
      "outputs": [],
      "source": [
        "ted = pd.read_csv('data.csv')"
      ],
      "metadata": {
        "pycharm": {
          "name": "#%%\n"
        },
        "id": "nvbhH3eavHtk"
      }
    },
    {
      "cell_type": "markdown",
      "source": [
        "Dopo aver importato le varie librerie necessarie ed il file CSV, iniziamo l'analisi del dataset andando a vedere le colonne presenti e la dimensione del dataset."
      ],
      "metadata": {
        "collapsed": false,
        "pycharm": {
          "name": "#%% md\n"
        },
        "id": "HlCxFBwDvHtk"
      }
    },
    {
      "cell_type": "code",
      "execution_count": 154,
      "outputs": [
        {
          "output_type": "execute_result",
          "data": {
            "text/plain": [
              "                                               title                author  \\\n",
              "0      Climate action needs new frontline leadership  Ozawa Bineshi Albert   \n",
              "1        The dark history of the overthrow of Hawaii         Sydney Iaukea   \n",
              "2     How play can spark new ideas for your business         Martin Reeves   \n",
              "3  Why is China appointing judges to combat clima...     James K. Thornton   \n",
              "4     Cement's carbon problem — and 2 ways to fix it       Mahendra Singhi   \n",
              "\n",
              "             date   views  likes  \\\n",
              "0   December 2021  404000  12000   \n",
              "1   February 2022  214000   6400   \n",
              "2  September 2021  412000  12000   \n",
              "3    October 2021  427000  12000   \n",
              "4    October 2021    2400     72   \n",
              "\n",
              "                                                link  \n",
              "0  https://ted.com/talks/ozawa_bineshi_albert_cli...  \n",
              "1  https://ted.com/talks/sydney_iaukea_the_dark_h...  \n",
              "2  https://ted.com/talks/martin_reeves_how_play_c...  \n",
              "3  https://ted.com/talks/james_k_thornton_why_is_...  \n",
              "4  https://ted.com/talks/mahendra_singhi_cement_s...  "
            ],
            "text/html": [
              "\n",
              "  <div id=\"df-12a248ec-9407-4b31-8a8e-07e28a3e8063\">\n",
              "    <div class=\"colab-df-container\">\n",
              "      <div>\n",
              "<style scoped>\n",
              "    .dataframe tbody tr th:only-of-type {\n",
              "        vertical-align: middle;\n",
              "    }\n",
              "\n",
              "    .dataframe tbody tr th {\n",
              "        vertical-align: top;\n",
              "    }\n",
              "\n",
              "    .dataframe thead th {\n",
              "        text-align: right;\n",
              "    }\n",
              "</style>\n",
              "<table border=\"1\" class=\"dataframe\">\n",
              "  <thead>\n",
              "    <tr style=\"text-align: right;\">\n",
              "      <th></th>\n",
              "      <th>title</th>\n",
              "      <th>author</th>\n",
              "      <th>date</th>\n",
              "      <th>views</th>\n",
              "      <th>likes</th>\n",
              "      <th>link</th>\n",
              "    </tr>\n",
              "  </thead>\n",
              "  <tbody>\n",
              "    <tr>\n",
              "      <th>0</th>\n",
              "      <td>Climate action needs new frontline leadership</td>\n",
              "      <td>Ozawa Bineshi Albert</td>\n",
              "      <td>December 2021</td>\n",
              "      <td>404000</td>\n",
              "      <td>12000</td>\n",
              "      <td>https://ted.com/talks/ozawa_bineshi_albert_cli...</td>\n",
              "    </tr>\n",
              "    <tr>\n",
              "      <th>1</th>\n",
              "      <td>The dark history of the overthrow of Hawaii</td>\n",
              "      <td>Sydney Iaukea</td>\n",
              "      <td>February 2022</td>\n",
              "      <td>214000</td>\n",
              "      <td>6400</td>\n",
              "      <td>https://ted.com/talks/sydney_iaukea_the_dark_h...</td>\n",
              "    </tr>\n",
              "    <tr>\n",
              "      <th>2</th>\n",
              "      <td>How play can spark new ideas for your business</td>\n",
              "      <td>Martin Reeves</td>\n",
              "      <td>September 2021</td>\n",
              "      <td>412000</td>\n",
              "      <td>12000</td>\n",
              "      <td>https://ted.com/talks/martin_reeves_how_play_c...</td>\n",
              "    </tr>\n",
              "    <tr>\n",
              "      <th>3</th>\n",
              "      <td>Why is China appointing judges to combat clima...</td>\n",
              "      <td>James K. Thornton</td>\n",
              "      <td>October 2021</td>\n",
              "      <td>427000</td>\n",
              "      <td>12000</td>\n",
              "      <td>https://ted.com/talks/james_k_thornton_why_is_...</td>\n",
              "    </tr>\n",
              "    <tr>\n",
              "      <th>4</th>\n",
              "      <td>Cement's carbon problem — and 2 ways to fix it</td>\n",
              "      <td>Mahendra Singhi</td>\n",
              "      <td>October 2021</td>\n",
              "      <td>2400</td>\n",
              "      <td>72</td>\n",
              "      <td>https://ted.com/talks/mahendra_singhi_cement_s...</td>\n",
              "    </tr>\n",
              "  </tbody>\n",
              "</table>\n",
              "</div>\n",
              "      <button class=\"colab-df-convert\" onclick=\"convertToInteractive('df-12a248ec-9407-4b31-8a8e-07e28a3e8063')\"\n",
              "              title=\"Convert this dataframe to an interactive table.\"\n",
              "              style=\"display:none;\">\n",
              "        \n",
              "  <svg xmlns=\"http://www.w3.org/2000/svg\" height=\"24px\"viewBox=\"0 0 24 24\"\n",
              "       width=\"24px\">\n",
              "    <path d=\"M0 0h24v24H0V0z\" fill=\"none\"/>\n",
              "    <path d=\"M18.56 5.44l.94 2.06.94-2.06 2.06-.94-2.06-.94-.94-2.06-.94 2.06-2.06.94zm-11 1L8.5 8.5l.94-2.06 2.06-.94-2.06-.94L8.5 2.5l-.94 2.06-2.06.94zm10 10l.94 2.06.94-2.06 2.06-.94-2.06-.94-.94-2.06-.94 2.06-2.06.94z\"/><path d=\"M17.41 7.96l-1.37-1.37c-.4-.4-.92-.59-1.43-.59-.52 0-1.04.2-1.43.59L10.3 9.45l-7.72 7.72c-.78.78-.78 2.05 0 2.83L4 21.41c.39.39.9.59 1.41.59.51 0 1.02-.2 1.41-.59l7.78-7.78 2.81-2.81c.8-.78.8-2.07 0-2.86zM5.41 20L4 18.59l7.72-7.72 1.47 1.35L5.41 20z\"/>\n",
              "  </svg>\n",
              "      </button>\n",
              "      \n",
              "  <style>\n",
              "    .colab-df-container {\n",
              "      display:flex;\n",
              "      flex-wrap:wrap;\n",
              "      gap: 12px;\n",
              "    }\n",
              "\n",
              "    .colab-df-convert {\n",
              "      background-color: #E8F0FE;\n",
              "      border: none;\n",
              "      border-radius: 50%;\n",
              "      cursor: pointer;\n",
              "      display: none;\n",
              "      fill: #1967D2;\n",
              "      height: 32px;\n",
              "      padding: 0 0 0 0;\n",
              "      width: 32px;\n",
              "    }\n",
              "\n",
              "    .colab-df-convert:hover {\n",
              "      background-color: #E2EBFA;\n",
              "      box-shadow: 0px 1px 2px rgba(60, 64, 67, 0.3), 0px 1px 3px 1px rgba(60, 64, 67, 0.15);\n",
              "      fill: #174EA6;\n",
              "    }\n",
              "\n",
              "    [theme=dark] .colab-df-convert {\n",
              "      background-color: #3B4455;\n",
              "      fill: #D2E3FC;\n",
              "    }\n",
              "\n",
              "    [theme=dark] .colab-df-convert:hover {\n",
              "      background-color: #434B5C;\n",
              "      box-shadow: 0px 1px 3px 1px rgba(0, 0, 0, 0.15);\n",
              "      filter: drop-shadow(0px 1px 2px rgba(0, 0, 0, 0.3));\n",
              "      fill: #FFFFFF;\n",
              "    }\n",
              "  </style>\n",
              "\n",
              "      <script>\n",
              "        const buttonEl =\n",
              "          document.querySelector('#df-12a248ec-9407-4b31-8a8e-07e28a3e8063 button.colab-df-convert');\n",
              "        buttonEl.style.display =\n",
              "          google.colab.kernel.accessAllowed ? 'block' : 'none';\n",
              "\n",
              "        async function convertToInteractive(key) {\n",
              "          const element = document.querySelector('#df-12a248ec-9407-4b31-8a8e-07e28a3e8063');\n",
              "          const dataTable =\n",
              "            await google.colab.kernel.invokeFunction('convertToInteractive',\n",
              "                                                     [key], {});\n",
              "          if (!dataTable) return;\n",
              "\n",
              "          const docLinkHtml = 'Like what you see? Visit the ' +\n",
              "            '<a target=\"_blank\" href=https://colab.research.google.com/notebooks/data_table.ipynb>data table notebook</a>'\n",
              "            + ' to learn more about interactive tables.';\n",
              "          element.innerHTML = '';\n",
              "          dataTable['output_type'] = 'display_data';\n",
              "          await google.colab.output.renderOutput(dataTable, element);\n",
              "          const docLink = document.createElement('div');\n",
              "          docLink.innerHTML = docLinkHtml;\n",
              "          element.appendChild(docLink);\n",
              "        }\n",
              "      </script>\n",
              "    </div>\n",
              "  </div>\n",
              "  "
            ]
          },
          "metadata": {},
          "execution_count": 154
        }
      ],
      "source": [
        "ted.head()"
      ],
      "metadata": {
        "pycharm": {
          "name": "#%%\n"
        },
        "colab": {
          "base_uri": "https://localhost:8080/",
          "height": 206
        },
        "id": "maWhVs1NvHtl",
        "outputId": "9a1a18a5-0f66-4e99-cdce-9e9f1f7c8141"
      }
    },
    {
      "cell_type": "code",
      "execution_count": 155,
      "outputs": [
        {
          "output_type": "stream",
          "name": "stdout",
          "text": [
            "Righe: 5440\n",
            "Colonne: 6\n"
          ]
        }
      ],
      "source": [
        "print(f\"Righe: {ted.shape[0]}\")\n",
        "print(f\"Colonne: {ted.shape[1]}\")"
      ],
      "metadata": {
        "pycharm": {
          "name": "#%%\n"
        },
        "colab": {
          "base_uri": "https://localhost:8080/"
        },
        "id": "1-R1vF2uvHtl",
        "outputId": "b631f3e3-f3c1-4c7e-ba6c-4727fb02147c"
      }
    },
    {
      "cell_type": "markdown",
      "source": [
        "Per prima cosa analizziamo le feature del dataset dividendole in qualitative e quantitative. In questo modo andiamo possiamo farci una prima idea dei valori presenti ed andiamo a trovare eventuali valori nulli."
      ],
      "metadata": {
        "collapsed": false,
        "pycharm": {
          "name": "#%% md\n"
        },
        "id": "Yfctt8-AvHtl"
      }
    },
    {
      "cell_type": "code",
      "execution_count": 156,
      "outputs": [],
      "source": [
        "ted_quantitative = ted[['views','likes']]\n",
        "ted_qualitative = ted[['title', 'author', 'date', 'link']]"
      ],
      "metadata": {
        "pycharm": {
          "name": "#%%\n"
        },
        "id": "nfOQn-otvHtm"
      }
    },
    {
      "cell_type": "code",
      "execution_count": 157,
      "outputs": [
        {
          "output_type": "execute_result",
          "data": {
            "text/plain": [
              "                views          likes\n",
              "count      5440.00000     5440.00000\n",
              "mean    2061575.95790    62607.61673\n",
              "std     3567097.76512   107646.76946\n",
              "min         532.00000       15.00000\n",
              "25%      670750.00000    20000.00000\n",
              "50%     1300000.00000    40500.00000\n",
              "75%     2100000.00000    65000.00000\n",
              "max    72000000.00000  2100000.00000"
            ],
            "text/html": [
              "\n",
              "  <div id=\"df-5e723c39-86ae-4140-826d-87ba550b49cb\">\n",
              "    <div class=\"colab-df-container\">\n",
              "      <div>\n",
              "<style scoped>\n",
              "    .dataframe tbody tr th:only-of-type {\n",
              "        vertical-align: middle;\n",
              "    }\n",
              "\n",
              "    .dataframe tbody tr th {\n",
              "        vertical-align: top;\n",
              "    }\n",
              "\n",
              "    .dataframe thead th {\n",
              "        text-align: right;\n",
              "    }\n",
              "</style>\n",
              "<table border=\"1\" class=\"dataframe\">\n",
              "  <thead>\n",
              "    <tr style=\"text-align: right;\">\n",
              "      <th></th>\n",
              "      <th>views</th>\n",
              "      <th>likes</th>\n",
              "    </tr>\n",
              "  </thead>\n",
              "  <tbody>\n",
              "    <tr>\n",
              "      <th>count</th>\n",
              "      <td>5440.00000</td>\n",
              "      <td>5440.00000</td>\n",
              "    </tr>\n",
              "    <tr>\n",
              "      <th>mean</th>\n",
              "      <td>2061575.95790</td>\n",
              "      <td>62607.61673</td>\n",
              "    </tr>\n",
              "    <tr>\n",
              "      <th>std</th>\n",
              "      <td>3567097.76512</td>\n",
              "      <td>107646.76946</td>\n",
              "    </tr>\n",
              "    <tr>\n",
              "      <th>min</th>\n",
              "      <td>532.00000</td>\n",
              "      <td>15.00000</td>\n",
              "    </tr>\n",
              "    <tr>\n",
              "      <th>25%</th>\n",
              "      <td>670750.00000</td>\n",
              "      <td>20000.00000</td>\n",
              "    </tr>\n",
              "    <tr>\n",
              "      <th>50%</th>\n",
              "      <td>1300000.00000</td>\n",
              "      <td>40500.00000</td>\n",
              "    </tr>\n",
              "    <tr>\n",
              "      <th>75%</th>\n",
              "      <td>2100000.00000</td>\n",
              "      <td>65000.00000</td>\n",
              "    </tr>\n",
              "    <tr>\n",
              "      <th>max</th>\n",
              "      <td>72000000.00000</td>\n",
              "      <td>2100000.00000</td>\n",
              "    </tr>\n",
              "  </tbody>\n",
              "</table>\n",
              "</div>\n",
              "      <button class=\"colab-df-convert\" onclick=\"convertToInteractive('df-5e723c39-86ae-4140-826d-87ba550b49cb')\"\n",
              "              title=\"Convert this dataframe to an interactive table.\"\n",
              "              style=\"display:none;\">\n",
              "        \n",
              "  <svg xmlns=\"http://www.w3.org/2000/svg\" height=\"24px\"viewBox=\"0 0 24 24\"\n",
              "       width=\"24px\">\n",
              "    <path d=\"M0 0h24v24H0V0z\" fill=\"none\"/>\n",
              "    <path d=\"M18.56 5.44l.94 2.06.94-2.06 2.06-.94-2.06-.94-.94-2.06-.94 2.06-2.06.94zm-11 1L8.5 8.5l.94-2.06 2.06-.94-2.06-.94L8.5 2.5l-.94 2.06-2.06.94zm10 10l.94 2.06.94-2.06 2.06-.94-2.06-.94-.94-2.06-.94 2.06-2.06.94z\"/><path d=\"M17.41 7.96l-1.37-1.37c-.4-.4-.92-.59-1.43-.59-.52 0-1.04.2-1.43.59L10.3 9.45l-7.72 7.72c-.78.78-.78 2.05 0 2.83L4 21.41c.39.39.9.59 1.41.59.51 0 1.02-.2 1.41-.59l7.78-7.78 2.81-2.81c.8-.78.8-2.07 0-2.86zM5.41 20L4 18.59l7.72-7.72 1.47 1.35L5.41 20z\"/>\n",
              "  </svg>\n",
              "      </button>\n",
              "      \n",
              "  <style>\n",
              "    .colab-df-container {\n",
              "      display:flex;\n",
              "      flex-wrap:wrap;\n",
              "      gap: 12px;\n",
              "    }\n",
              "\n",
              "    .colab-df-convert {\n",
              "      background-color: #E8F0FE;\n",
              "      border: none;\n",
              "      border-radius: 50%;\n",
              "      cursor: pointer;\n",
              "      display: none;\n",
              "      fill: #1967D2;\n",
              "      height: 32px;\n",
              "      padding: 0 0 0 0;\n",
              "      width: 32px;\n",
              "    }\n",
              "\n",
              "    .colab-df-convert:hover {\n",
              "      background-color: #E2EBFA;\n",
              "      box-shadow: 0px 1px 2px rgba(60, 64, 67, 0.3), 0px 1px 3px 1px rgba(60, 64, 67, 0.15);\n",
              "      fill: #174EA6;\n",
              "    }\n",
              "\n",
              "    [theme=dark] .colab-df-convert {\n",
              "      background-color: #3B4455;\n",
              "      fill: #D2E3FC;\n",
              "    }\n",
              "\n",
              "    [theme=dark] .colab-df-convert:hover {\n",
              "      background-color: #434B5C;\n",
              "      box-shadow: 0px 1px 3px 1px rgba(0, 0, 0, 0.15);\n",
              "      filter: drop-shadow(0px 1px 2px rgba(0, 0, 0, 0.3));\n",
              "      fill: #FFFFFF;\n",
              "    }\n",
              "  </style>\n",
              "\n",
              "      <script>\n",
              "        const buttonEl =\n",
              "          document.querySelector('#df-5e723c39-86ae-4140-826d-87ba550b49cb button.colab-df-convert');\n",
              "        buttonEl.style.display =\n",
              "          google.colab.kernel.accessAllowed ? 'block' : 'none';\n",
              "\n",
              "        async function convertToInteractive(key) {\n",
              "          const element = document.querySelector('#df-5e723c39-86ae-4140-826d-87ba550b49cb');\n",
              "          const dataTable =\n",
              "            await google.colab.kernel.invokeFunction('convertToInteractive',\n",
              "                                                     [key], {});\n",
              "          if (!dataTable) return;\n",
              "\n",
              "          const docLinkHtml = 'Like what you see? Visit the ' +\n",
              "            '<a target=\"_blank\" href=https://colab.research.google.com/notebooks/data_table.ipynb>data table notebook</a>'\n",
              "            + ' to learn more about interactive tables.';\n",
              "          element.innerHTML = '';\n",
              "          dataTable['output_type'] = 'display_data';\n",
              "          await google.colab.output.renderOutput(dataTable, element);\n",
              "          const docLink = document.createElement('div');\n",
              "          docLink.innerHTML = docLinkHtml;\n",
              "          element.appendChild(docLink);\n",
              "        }\n",
              "      </script>\n",
              "    </div>\n",
              "  </div>\n",
              "  "
            ]
          },
          "metadata": {},
          "execution_count": 157
        }
      ],
      "source": [
        "ted_quantitative.describe().apply(lambda s: s.apply('{0:.5f}'.format))"
      ],
      "metadata": {
        "pycharm": {
          "name": "#%%\n"
        },
        "colab": {
          "base_uri": "https://localhost:8080/",
          "height": 300
        },
        "id": "Mjv3q8S8vHtn",
        "outputId": "407ba424-cf25-4791-918e-ca51e0fe7885"
      }
    },
    {
      "cell_type": "markdown",
      "source": [
        "Le feature quantitative presenti nel dataset `views` e `likes`. È possibile notare che non sono presenti valori nulli e che non esistono talks che non sono mai stati guardati (valore minimo di views 532) o che non hanno ricevuto nemmeno un like. "
      ],
      "metadata": {
        "collapsed": false,
        "pycharm": {
          "name": "#%% md\n"
        },
        "id": "BNQqSllJvHtn"
      }
    },
    {
      "cell_type": "code",
      "execution_count": 158,
      "outputs": [
        {
          "output_type": "execute_result",
          "data": {
            "text/plain": [
              "                                                title        author  \\\n",
              "count                                            5440          5439   \n",
              "unique                                           5440          4443   \n",
              "top     Climate action needs new frontline leadership  Alex Gendler   \n",
              "freq                                                1            45   \n",
              "\n",
              "              date                                               link  \n",
              "count         5440                                               5440  \n",
              "unique         200                                               5440  \n",
              "top     April 2018  https://ted.com/talks/ozawa_bineshi_albert_cli...  \n",
              "freq           127                                                  1  "
            ],
            "text/html": [
              "\n",
              "  <div id=\"df-0997713e-50e1-481d-9167-cac3cc6f6ad8\">\n",
              "    <div class=\"colab-df-container\">\n",
              "      <div>\n",
              "<style scoped>\n",
              "    .dataframe tbody tr th:only-of-type {\n",
              "        vertical-align: middle;\n",
              "    }\n",
              "\n",
              "    .dataframe tbody tr th {\n",
              "        vertical-align: top;\n",
              "    }\n",
              "\n",
              "    .dataframe thead th {\n",
              "        text-align: right;\n",
              "    }\n",
              "</style>\n",
              "<table border=\"1\" class=\"dataframe\">\n",
              "  <thead>\n",
              "    <tr style=\"text-align: right;\">\n",
              "      <th></th>\n",
              "      <th>title</th>\n",
              "      <th>author</th>\n",
              "      <th>date</th>\n",
              "      <th>link</th>\n",
              "    </tr>\n",
              "  </thead>\n",
              "  <tbody>\n",
              "    <tr>\n",
              "      <th>count</th>\n",
              "      <td>5440</td>\n",
              "      <td>5439</td>\n",
              "      <td>5440</td>\n",
              "      <td>5440</td>\n",
              "    </tr>\n",
              "    <tr>\n",
              "      <th>unique</th>\n",
              "      <td>5440</td>\n",
              "      <td>4443</td>\n",
              "      <td>200</td>\n",
              "      <td>5440</td>\n",
              "    </tr>\n",
              "    <tr>\n",
              "      <th>top</th>\n",
              "      <td>Climate action needs new frontline leadership</td>\n",
              "      <td>Alex Gendler</td>\n",
              "      <td>April 2018</td>\n",
              "      <td>https://ted.com/talks/ozawa_bineshi_albert_cli...</td>\n",
              "    </tr>\n",
              "    <tr>\n",
              "      <th>freq</th>\n",
              "      <td>1</td>\n",
              "      <td>45</td>\n",
              "      <td>127</td>\n",
              "      <td>1</td>\n",
              "    </tr>\n",
              "  </tbody>\n",
              "</table>\n",
              "</div>\n",
              "      <button class=\"colab-df-convert\" onclick=\"convertToInteractive('df-0997713e-50e1-481d-9167-cac3cc6f6ad8')\"\n",
              "              title=\"Convert this dataframe to an interactive table.\"\n",
              "              style=\"display:none;\">\n",
              "        \n",
              "  <svg xmlns=\"http://www.w3.org/2000/svg\" height=\"24px\"viewBox=\"0 0 24 24\"\n",
              "       width=\"24px\">\n",
              "    <path d=\"M0 0h24v24H0V0z\" fill=\"none\"/>\n",
              "    <path d=\"M18.56 5.44l.94 2.06.94-2.06 2.06-.94-2.06-.94-.94-2.06-.94 2.06-2.06.94zm-11 1L8.5 8.5l.94-2.06 2.06-.94-2.06-.94L8.5 2.5l-.94 2.06-2.06.94zm10 10l.94 2.06.94-2.06 2.06-.94-2.06-.94-.94-2.06-.94 2.06-2.06.94z\"/><path d=\"M17.41 7.96l-1.37-1.37c-.4-.4-.92-.59-1.43-.59-.52 0-1.04.2-1.43.59L10.3 9.45l-7.72 7.72c-.78.78-.78 2.05 0 2.83L4 21.41c.39.39.9.59 1.41.59.51 0 1.02-.2 1.41-.59l7.78-7.78 2.81-2.81c.8-.78.8-2.07 0-2.86zM5.41 20L4 18.59l7.72-7.72 1.47 1.35L5.41 20z\"/>\n",
              "  </svg>\n",
              "      </button>\n",
              "      \n",
              "  <style>\n",
              "    .colab-df-container {\n",
              "      display:flex;\n",
              "      flex-wrap:wrap;\n",
              "      gap: 12px;\n",
              "    }\n",
              "\n",
              "    .colab-df-convert {\n",
              "      background-color: #E8F0FE;\n",
              "      border: none;\n",
              "      border-radius: 50%;\n",
              "      cursor: pointer;\n",
              "      display: none;\n",
              "      fill: #1967D2;\n",
              "      height: 32px;\n",
              "      padding: 0 0 0 0;\n",
              "      width: 32px;\n",
              "    }\n",
              "\n",
              "    .colab-df-convert:hover {\n",
              "      background-color: #E2EBFA;\n",
              "      box-shadow: 0px 1px 2px rgba(60, 64, 67, 0.3), 0px 1px 3px 1px rgba(60, 64, 67, 0.15);\n",
              "      fill: #174EA6;\n",
              "    }\n",
              "\n",
              "    [theme=dark] .colab-df-convert {\n",
              "      background-color: #3B4455;\n",
              "      fill: #D2E3FC;\n",
              "    }\n",
              "\n",
              "    [theme=dark] .colab-df-convert:hover {\n",
              "      background-color: #434B5C;\n",
              "      box-shadow: 0px 1px 3px 1px rgba(0, 0, 0, 0.15);\n",
              "      filter: drop-shadow(0px 1px 2px rgba(0, 0, 0, 0.3));\n",
              "      fill: #FFFFFF;\n",
              "    }\n",
              "  </style>\n",
              "\n",
              "      <script>\n",
              "        const buttonEl =\n",
              "          document.querySelector('#df-0997713e-50e1-481d-9167-cac3cc6f6ad8 button.colab-df-convert');\n",
              "        buttonEl.style.display =\n",
              "          google.colab.kernel.accessAllowed ? 'block' : 'none';\n",
              "\n",
              "        async function convertToInteractive(key) {\n",
              "          const element = document.querySelector('#df-0997713e-50e1-481d-9167-cac3cc6f6ad8');\n",
              "          const dataTable =\n",
              "            await google.colab.kernel.invokeFunction('convertToInteractive',\n",
              "                                                     [key], {});\n",
              "          if (!dataTable) return;\n",
              "\n",
              "          const docLinkHtml = 'Like what you see? Visit the ' +\n",
              "            '<a target=\"_blank\" href=https://colab.research.google.com/notebooks/data_table.ipynb>data table notebook</a>'\n",
              "            + ' to learn more about interactive tables.';\n",
              "          element.innerHTML = '';\n",
              "          dataTable['output_type'] = 'display_data';\n",
              "          await google.colab.output.renderOutput(dataTable, element);\n",
              "          const docLink = document.createElement('div');\n",
              "          docLink.innerHTML = docLinkHtml;\n",
              "          element.appendChild(docLink);\n",
              "        }\n",
              "      </script>\n",
              "    </div>\n",
              "  </div>\n",
              "  "
            ]
          },
          "metadata": {},
          "execution_count": 158
        }
      ],
      "source": [
        "ted_qualitative.describe()"
      ],
      "metadata": {
        "pycharm": {
          "name": "#%%\n"
        },
        "colab": {
          "base_uri": "https://localhost:8080/",
          "height": 175
        },
        "id": "0C63KZiyvHto",
        "outputId": "fc4308ff-8f20-41c1-add1-8f5001d67896"
      }
    },
    {
      "cell_type": "markdown",
      "source": [
        "Le feature qualitative presenti nel dataset sono `title`, `author`, `date` e `link`. Si può notare che non esistono talks con lo stesso titolo e che un autore può pubblicare diversi talks. Abbiamo anche trovato che l'autore che ha pubblicato il maggior numero di talks è `Alex Gendler`. Siccome sono presenti 5439 valori per la feature `author`, vuol dire che è presente un talk con il campo `author` nullo."
      ],
      "metadata": {
        "collapsed": false,
        "pycharm": {
          "name": "#%% md\n"
        },
        "id": "RM0CnM7uvHto"
      }
    },
    {
      "cell_type": "code",
      "execution_count": 159,
      "outputs": [
        {
          "output_type": "execute_result",
          "data": {
            "text/plain": [
              "                   title author           date  views  likes  \\\n",
              "3039  Year In Ideas 2015    NaN  December 2015    532     15   \n",
              "\n",
              "                                          link  \n",
              "3039  https://ted.com/talks/year_in_ideas_2015  "
            ],
            "text/html": [
              "\n",
              "  <div id=\"df-1210d7be-846e-4428-acfe-77b4a7b91c8e\">\n",
              "    <div class=\"colab-df-container\">\n",
              "      <div>\n",
              "<style scoped>\n",
              "    .dataframe tbody tr th:only-of-type {\n",
              "        vertical-align: middle;\n",
              "    }\n",
              "\n",
              "    .dataframe tbody tr th {\n",
              "        vertical-align: top;\n",
              "    }\n",
              "\n",
              "    .dataframe thead th {\n",
              "        text-align: right;\n",
              "    }\n",
              "</style>\n",
              "<table border=\"1\" class=\"dataframe\">\n",
              "  <thead>\n",
              "    <tr style=\"text-align: right;\">\n",
              "      <th></th>\n",
              "      <th>title</th>\n",
              "      <th>author</th>\n",
              "      <th>date</th>\n",
              "      <th>views</th>\n",
              "      <th>likes</th>\n",
              "      <th>link</th>\n",
              "    </tr>\n",
              "  </thead>\n",
              "  <tbody>\n",
              "    <tr>\n",
              "      <th>3039</th>\n",
              "      <td>Year In Ideas 2015</td>\n",
              "      <td>NaN</td>\n",
              "      <td>December 2015</td>\n",
              "      <td>532</td>\n",
              "      <td>15</td>\n",
              "      <td>https://ted.com/talks/year_in_ideas_2015</td>\n",
              "    </tr>\n",
              "  </tbody>\n",
              "</table>\n",
              "</div>\n",
              "      <button class=\"colab-df-convert\" onclick=\"convertToInteractive('df-1210d7be-846e-4428-acfe-77b4a7b91c8e')\"\n",
              "              title=\"Convert this dataframe to an interactive table.\"\n",
              "              style=\"display:none;\">\n",
              "        \n",
              "  <svg xmlns=\"http://www.w3.org/2000/svg\" height=\"24px\"viewBox=\"0 0 24 24\"\n",
              "       width=\"24px\">\n",
              "    <path d=\"M0 0h24v24H0V0z\" fill=\"none\"/>\n",
              "    <path d=\"M18.56 5.44l.94 2.06.94-2.06 2.06-.94-2.06-.94-.94-2.06-.94 2.06-2.06.94zm-11 1L8.5 8.5l.94-2.06 2.06-.94-2.06-.94L8.5 2.5l-.94 2.06-2.06.94zm10 10l.94 2.06.94-2.06 2.06-.94-2.06-.94-.94-2.06-.94 2.06-2.06.94z\"/><path d=\"M17.41 7.96l-1.37-1.37c-.4-.4-.92-.59-1.43-.59-.52 0-1.04.2-1.43.59L10.3 9.45l-7.72 7.72c-.78.78-.78 2.05 0 2.83L4 21.41c.39.39.9.59 1.41.59.51 0 1.02-.2 1.41-.59l7.78-7.78 2.81-2.81c.8-.78.8-2.07 0-2.86zM5.41 20L4 18.59l7.72-7.72 1.47 1.35L5.41 20z\"/>\n",
              "  </svg>\n",
              "      </button>\n",
              "      \n",
              "  <style>\n",
              "    .colab-df-container {\n",
              "      display:flex;\n",
              "      flex-wrap:wrap;\n",
              "      gap: 12px;\n",
              "    }\n",
              "\n",
              "    .colab-df-convert {\n",
              "      background-color: #E8F0FE;\n",
              "      border: none;\n",
              "      border-radius: 50%;\n",
              "      cursor: pointer;\n",
              "      display: none;\n",
              "      fill: #1967D2;\n",
              "      height: 32px;\n",
              "      padding: 0 0 0 0;\n",
              "      width: 32px;\n",
              "    }\n",
              "\n",
              "    .colab-df-convert:hover {\n",
              "      background-color: #E2EBFA;\n",
              "      box-shadow: 0px 1px 2px rgba(60, 64, 67, 0.3), 0px 1px 3px 1px rgba(60, 64, 67, 0.15);\n",
              "      fill: #174EA6;\n",
              "    }\n",
              "\n",
              "    [theme=dark] .colab-df-convert {\n",
              "      background-color: #3B4455;\n",
              "      fill: #D2E3FC;\n",
              "    }\n",
              "\n",
              "    [theme=dark] .colab-df-convert:hover {\n",
              "      background-color: #434B5C;\n",
              "      box-shadow: 0px 1px 3px 1px rgba(0, 0, 0, 0.15);\n",
              "      filter: drop-shadow(0px 1px 2px rgba(0, 0, 0, 0.3));\n",
              "      fill: #FFFFFF;\n",
              "    }\n",
              "  </style>\n",
              "\n",
              "      <script>\n",
              "        const buttonEl =\n",
              "          document.querySelector('#df-1210d7be-846e-4428-acfe-77b4a7b91c8e button.colab-df-convert');\n",
              "        buttonEl.style.display =\n",
              "          google.colab.kernel.accessAllowed ? 'block' : 'none';\n",
              "\n",
              "        async function convertToInteractive(key) {\n",
              "          const element = document.querySelector('#df-1210d7be-846e-4428-acfe-77b4a7b91c8e');\n",
              "          const dataTable =\n",
              "            await google.colab.kernel.invokeFunction('convertToInteractive',\n",
              "                                                     [key], {});\n",
              "          if (!dataTable) return;\n",
              "\n",
              "          const docLinkHtml = 'Like what you see? Visit the ' +\n",
              "            '<a target=\"_blank\" href=https://colab.research.google.com/notebooks/data_table.ipynb>data table notebook</a>'\n",
              "            + ' to learn more about interactive tables.';\n",
              "          element.innerHTML = '';\n",
              "          dataTable['output_type'] = 'display_data';\n",
              "          await google.colab.output.renderOutput(dataTable, element);\n",
              "          const docLink = document.createElement('div');\n",
              "          docLink.innerHTML = docLinkHtml;\n",
              "          element.appendChild(docLink);\n",
              "        }\n",
              "      </script>\n",
              "    </div>\n",
              "  </div>\n",
              "  "
            ]
          },
          "metadata": {},
          "execution_count": 159
        }
      ],
      "source": [
        "ted[ted.isnull().any(axis=1)]"
      ],
      "metadata": {
        "pycharm": {
          "name": "#%%\n"
        },
        "colab": {
          "base_uri": "https://localhost:8080/",
          "height": 81
        },
        "id": "kk2UnKI1vHto",
        "outputId": "1eb68180-97f3-4fd9-dab1-5b58bf0ce6f9"
      }
    },
    {
      "cell_type": "markdown",
      "source": [
        "Abbiamo trovato che il talk con `author` nullo è un video che racchiude parti dei vari talk presentati durante l'anno. Decidiamo di rimpiazzare il valore nullo con `Unknown author`."
      ],
      "metadata": {
        "collapsed": false,
        "pycharm": {
          "name": "#%% md\n"
        },
        "id": "YwqRMji-vHtp"
      }
    },
    {
      "cell_type": "code",
      "execution_count": 160,
      "outputs": [
        {
          "output_type": "execute_result",
          "data": {
            "text/plain": [
              "title     0\n",
              "author    0\n",
              "date      0\n",
              "views     0\n",
              "likes     0\n",
              "link      0\n",
              "dtype: int64"
            ]
          },
          "metadata": {},
          "execution_count": 160
        }
      ],
      "source": [
        "ted['author'].fillna('Unknown author', inplace=True)\n",
        "ted.isnull().sum()"
      ],
      "metadata": {
        "pycharm": {
          "name": "#%%\n"
        },
        "colab": {
          "base_uri": "https://localhost:8080/"
        },
        "id": "BoxfvKJdvHtp",
        "outputId": "bb596257-8034-431f-f0be-3d8babdda4ca"
      }
    },
    {
      "cell_type": "markdown",
      "source": [
        "### **Le persone sono ancora interessate ai TED Talk?**\n",
        "Se una persona parte da zero la prima cosa che deve chiedersi è se ha ancora senso pubblicare dei talk o se le persone hanno perso interesse. Per questo motivo andiamo a vedere l'andamento di pubblicazioni e views nel corso degli anni."
      ],
      "metadata": {
        "id": "1YqtWuDumAEa"
      }
    },
    {
      "cell_type": "code",
      "execution_count": 161,
      "outputs": [
        {
          "output_type": "execute_result",
          "data": {
            "text/plain": [
              "<matplotlib.axes._subplots.AxesSubplot at 0x7f7f67e73e10>"
            ]
          },
          "metadata": {},
          "execution_count": 161
        },
        {
          "output_type": "display_data",
          "data": {
            "text/plain": [
              "<Figure size 1080x360 with 2 Axes>"
            ],
            "image/png": "[encoded data removed]"
          },
          "metadata": {
            "needs_background": "light"
          }
        }
      ],
      "source": [
        "ted['year'] = [int(x) for x in ted['date'].str.split(' ', expand=True)[1]]\n",
        "\n",
        "views = ted.groupby('year')['views'].sum()#/ted['views'].sum() #normalizzazione\n",
        "year = ted['year'].value_counts().sort_index()\n",
        "\n",
        "plt.figure(figsize=(15,5))\n",
        "plt.subplot(1,2,1)\n",
        "views.plot(kind='bar', color='blue', title=\"Views per anno\")\n",
        "plt.subplot(1,2,2)\n",
        "year.plot(kind='bar', color='red', title=\"Pubblicazioni per anno\")\n",
        "\n",
        "\n"
      ],
      "metadata": {
        "pycharm": {
          "name": "#%%\n"
        },
        "colab": {
          "base_uri": "https://localhost:8080/",
          "height": 383
        },
        "id": "rRsw1CAavHtu",
        "outputId": "6ed969d7-db29-41eb-ce4a-39137353bf6e"
      }
    },
    {
      "cell_type": "markdown",
      "source": [
        "Si può notare che sino al 2015 c'è stata una crescita continua nel numero di views e di pubblicazioni. \\\n",
        "A partire dal 2015 la gente ha iniziato a perdere interesse visto che il numero di views ha iniziato a diminuire. \\\n",
        "Siccome la gente ha iniziato a perdere interesse, probabilmente adesso è più difficile avere successo e registrare numeri elevati rispetto a qualche anno fa. \\\n",
        "Una cosa interessante da notare è che nonostante il calo del numero di views sono continuati gli investimenti nella piattaforma, infatti sino al 2019 il numero di pubblicazioni ha continuato a crescere. \\\n",
        "A partire dal 2020 invece sono diminuite pure le pubblicazioni, ma potrebbe essere anche un effetto della pandemia visto che non è stato possibile fare molte conferenze. \\\n",
        "Siccome fino all'arrivo del Covid il numero di pubblicazioni (e quindi di investimenti) aumentava nonostante la diminuzione nel numero di views ha comunque senso iniziare per provare ad emergere (nonostante la diminuzione di interesse da parte delle persone).\n",
        "\n"
      ],
      "metadata": {
        "id": "rpUMuxSboEps"
      }
    },
    {
      "cell_type": "markdown",
      "source": [
        "### **Qual è il nostro vero obiettivo?**\n",
        "Il nostro obiettivo è di realizzare talk che ottengono il maggior numero di like, quindi che piacciono alla maggior parte della gente.\n",
        "Per prima cosa andiamo a vedere se, come pensiamo, esiste una correlazione tra il numero di like ed il numero di view."
      ],
      "metadata": {
        "id": "EqFi-FjTvUqz"
      }
    },
    {
      "cell_type": "code",
      "execution_count": 162,
      "outputs": [
        {
          "output_type": "stream",
          "name": "stdout",
          "text": [
            "Correlazione (likes/views): 0.9996610444062041\n"
          ]
        }
      ],
      "source": [
        "print(f\"Correlazione (likes/views): {ted['likes'].corr(ted['views'])}\")"
      ],
      "metadata": {
        "pycharm": {
          "name": "#%%\n"
        },
        "colab": {
          "base_uri": "https://localhost:8080/"
        },
        "id": "JIHqYEonvHtq",
        "outputId": "3ae63401-17df-4091-dd34-e4e3e2534d6f"
      }
    },
    {
      "cell_type": "code",
      "execution_count": 163,
      "outputs": [
        {
          "output_type": "execute_result",
          "data": {
            "text/plain": [
              "<matplotlib.collections.PathCollection at 0x7f7f671cfe90>"
            ]
          },
          "metadata": {},
          "execution_count": 163
        },
        {
          "output_type": "display_data",
          "data": {
            "text/plain": [
              "<Figure size 432x288 with 1 Axes>"
            ],
            "image/png": "[encoded data removed]"
          },
          "metadata": {
            "needs_background": "light"
          }
        }
      ],
      "source": [
        "plt.scatter(ted['likes'], ted['views']) #todo: mettere label x e y"
      ],
      "metadata": {
        "pycharm": {
          "name": "#%%\n"
        },
        "colab": {
          "base_uri": "https://localhost:8080/",
          "height": 307
        },
        "id": "7V3-VZpTvHtq",
        "outputId": "96ab9383-474c-4ba7-e5dd-830fd6551b26"
      }
    },
    {
      "cell_type": "markdown",
      "source": [
        "Si può notare che è presente una forte correlazione, quindi implementiamo ed alleniamo un modello di regressione lineare che dato un numero di like che vogliamo ottenere stima un numero di view necessario. \\\n",
        "Per realizzare il modello dividiamo il dataset nel training set che utilizziamo per allenare il modello e nel validation set che utilizziamo per verificare il modello. Utilizziamo un rapporto 70/30 (training/validation).\n"
      ],
      "metadata": {
        "id": "0fh1ChbDwiuZ"
      }
    },
    {
      "cell_type": "code",
      "execution_count": 164,
      "outputs": [],
      "source": [
        "features = ['likes']\n",
        "x = ted[features]\n",
        "y = ted['views']\n",
        "X_train, X_valid, y_train, y_valid = train_test_split(x, y, test_size=0.3)\n",
        "regressor = LinearRegression()\n",
        "lin_reg = regressor.fit(X_train, y_train) #TODO: METTERE ERRORI"
      ],
      "metadata": {
        "pycharm": {
          "name": "#%%\n"
        },
        "id": "XzgcV9aqvHtr"
      }
    },
    {
      "cell_type": "markdown",
      "source": [
        "La funzione è caratterizzata dalle seguenti componenti:"
      ],
      "metadata": {
        "id": "u3RD0r5N4gQp"
      }
    },
    {
      "cell_type": "code",
      "execution_count": 165,
      "outputs": [
        {
          "output_type": "stream",
          "name": "stdout",
          "text": [
            "Coefficiente: [33.12731438]\n",
            "Intercetta: -12380.881475790171\n"
          ]
        }
      ],
      "source": [
        "print(f'Coefficiente: {lin_reg.coef_}')\n",
        "print(f'Intercetta: {lin_reg.intercept_}')"
      ],
      "metadata": {
        "pycharm": {
          "name": "#%%\n"
        },
        "colab": {
          "base_uri": "https://localhost:8080/"
        },
        "id": "2uUGcH6MvHtr",
        "outputId": "6077802d-68a9-464d-e0b4-9fe9252189e0"
      }
    },
    {
      "cell_type": "code",
      "execution_count": 166,
      "outputs": [
        {
          "output_type": "execute_result",
          "data": {
            "text/plain": [
              "[<matplotlib.lines.Line2D at 0x7f7f6c418a50>]"
            ]
          },
          "metadata": {},
          "execution_count": 166
        },
        {
          "output_type": "display_data",
          "data": {
            "text/plain": [
              "<Figure size 432x288 with 1 Axes>"
            ],
            "image/png": "[encoded data removed]"
          },
          "metadata": {
            "needs_background": "light"
          }
        }
      ],
      "source": [
        "plt.scatter(X_train, y_train)\n",
        "\n",
        "y_hat = X_train * lin_reg.coef_ + lin_reg.intercept_\n",
        "\n",
        "plt.plot(X_train, y_hat, color='r') "
      ],
      "metadata": {
        "pycharm": {
          "name": "#%%\n"
        },
        "colab": {
          "base_uri": "https://localhost:8080/",
          "height": 307
        },
        "id": "oRx2uKUwvHts",
        "outputId": "9317503f-9828-4338-f7b7-b5626aa15858"
      }
    },
    {
      "cell_type": "markdown",
      "source": [
        "Adesso andiamo a vedere gli errori commessi dal nostro modello."
      ],
      "metadata": {
        "id": "8egxm7lXyr4m"
      }
    },
    {
      "cell_type": "code",
      "source": [
        "y_pred = regressor.predict(X_valid)\n",
        "print ('MAE:', metrics.mean_absolute_error(y_valid, y_pred))\n",
        "print ('MSE:', metrics.mean_squared_error(y_valid, y_pred))\n",
        "print ('RMSE:', np.sqrt(metrics.mean_squared_error(y_valid, y_pred)))"
      ],
      "metadata": {
        "colab": {
          "base_uri": "https://localhost:8080/"
        },
        "id": "PC07ySV_y0f-",
        "outputId": "60385a8f-4c09-4b44-aec7-4c8232129979"
      },
      "execution_count": 167,
      "outputs": [
        {
          "output_type": "stream",
          "name": "stdout",
          "text": [
            "MAE: 34861.252475206304\n",
            "MSE: 9618870201.792099\n",
            "RMSE: 98075.83903180283\n"
          ]
        }
      ]
    },
    {
      "cell_type": "markdown",
      "source": [
        "Infine andiamo a valutare il nostro modello utilizzando il modello nullo."
      ],
      "metadata": {
        "id": "LsqC0tZPzS6c"
      }
    },
    {
      "cell_type": "code",
      "source": [
        "mean_views = ted['views'].mean()\n",
        "\n",
        "# create la nuova x con lo stesso numero di campioni del dataset originale, e con tutti i valori uguali al valore medio del diametro appena calcolato\n",
        "null_model_y = [mean_views] * ted.shape[0]\n",
        "\n",
        "# valutate il modello nullo usando le funzioni implementate\n",
        "print ('MAE:', metrics.mean_absolute_error(y, null_model_y))\n",
        "print ('MSE:', metrics.mean_squared_error(y, null_model_y))\n",
        "print ('RMSE:', np.sqrt(metrics.mean_squared_error(y, null_model_y)))"
      ],
      "metadata": {
        "colab": {
          "base_uri": "https://localhost:8080/"
        },
        "id": "lMXazNbHzYDo",
        "outputId": "84e53c45-20dc-4455-9c16-93d1efd114f1"
      },
      "execution_count": 168,
      "outputs": [
        {
          "output_type": "stream",
          "name": "stdout",
          "text": [
            "MAE: 1615887.8088377216\n",
            "MSE: 12721847461028.2\n",
            "RMSE: 3566769.891796806\n"
          ]
        }
      ]
    },
    {
      "cell_type": "markdown",
      "source": [
        "OSSERVAZIONI SUL MODELLO NULLO"
      ],
      "metadata": {
        "id": "3LjU45yy4JGK"
      }
    },
    {
      "cell_type": "markdown",
      "source": [
        "### **Esiste un periodo migliore dove pubblicare un talk?**\n",
        "Andiamo a vedere se sono presenti dei periodi dove vengono pubblicati la maggio parte di talk per determinare quando è meglio pubblicare il nostro. "
      ],
      "metadata": {
        "id": "Y4vZK-ODtG2q"
      }
    },
    {
      "cell_type": "code",
      "execution_count": 169,
      "outputs": [
        {
          "output_type": "execute_result",
          "data": {
            "text/plain": [
              "<matplotlib.axes._subplots.AxesSubplot at 0x7f7f66c5c550>"
            ]
          },
          "metadata": {},
          "execution_count": 169
        },
        {
          "output_type": "display_data",
          "data": {
            "text/plain": [
              "<Figure size 432x288 with 1 Axes>"
            ],
            "image/png": "[encoded data removed]"
          },
          "metadata": {
            "needs_background": "light"
          }
        }
      ],
      "source": [
        "import calendar\n",
        "ted['month'] = ted['date'].str.split(' ', expand=True)[0]\n",
        "\n",
        "ted['month']=pd.Categorical(ted['month'], categories=list(calendar.month_name)[1::], ordered=True)\n",
        "views = ted.sort_values(by='month').groupby('month')['views'].sum()\n",
        "\n",
        "views.plot(kind='bar')"
      ],
      "metadata": {
        "pycharm": {
          "name": "#%%\n"
        },
        "colab": {
          "base_uri": "https://localhost:8080/",
          "height": 353
        },
        "id": "5rasZRtqvHtu",
        "outputId": "49b77dc9-72fa-473b-d2fe-31f2c3ba6370"
      }
    },
    {
      "cell_type": "markdown",
      "source": [
        "Si può notare come il mese dove vengono pubblicati la maggior quantità di talk è febbraio. \\\n",
        "I mesi dove vengono pubblicati il minor numero di talk sono Gennaio, Agosto e Dicembre, quindi si può notare che corrispondono a quelli dove le persone tendono ad andare in vacanza. \\\n",
        "Forse conviene evitare tutti questi mesi perchè se non si è già famosi pubblicare un talk nello stesso mese dove vengono pubblicati la maggior parte dei talk potrebbe far si che le persone non lo guardino perchè interessate a vedere altri talk, ma conviene evitare anche i mesi con meno pubblicazioni perchè se le persone sono in vacanza si rischia che non siano interessate a vedere i talk."
      ],
      "metadata": {
        "id": "ImE1e4Mlt6te"
      }
    },
    {
      "cell_type": "markdown",
      "source": [
        "### **Quali sono i talks e gli autori più di successo?**\n",
        "Adesso andiamo a vedere quali sono i talks e gli autori che hanno avuto il maggior successo per poter prendere spunto da loro e poter analizzare i loro punti di forza. \\\n",
        "Partiamo guardando i talk con il maggior numero di likes."
      ],
      "metadata": {
        "id": "0Gfbt0Oo4umm"
      }
    },
    {
      "cell_type": "code",
      "execution_count": 170,
      "outputs": [
        {
          "output_type": "execute_result",
          "data": {
            "text/plain": [
              "                      author  \\\n",
              "0           Sir Ken Robinson   \n",
              "1                  Amy Cuddy   \n",
              "2                  Tim Urban   \n",
              "3                Brené Brown   \n",
              "4                Simon Sinek   \n",
              "5            Julian Treasure   \n",
              "6                  Sam Berns   \n",
              "7                 Bill Gates   \n",
              "8           Robert Waldinger   \n",
              "9                 Mary Roach   \n",
              "10               Graham Shaw   \n",
              "11           Cameron Russell   \n",
              "12                  Tom Thum   \n",
              "13              Pamela Meyer   \n",
              "14            Apollo Robbins   \n",
              "15                Susan Cain   \n",
              "16  Chimamanda Ngozi Adichie   \n",
              "17              David Blaine   \n",
              "18           Kelly McGonigal   \n",
              "19               Mel Robbins   \n",
              "\n",
              "                                                title            date    likes  \n",
              "0                         Do schools kill creativity?   February 2006  2100000  \n",
              "1            Your body language may shape who you are       June 2012  1900000  \n",
              "2          Inside the mind of a master procrastinator   February 2016  1800000  \n",
              "3                          The power of vulnerability       June 2010  1700000  \n",
              "4                    How great leaders inspire action  September 2009  1700000  \n",
              "5          How to speak so that people want to listen       June 2013  1400000  \n",
              "6                      My philosophy for a happy life    October 2013  1300000  \n",
              "7                  The next outbreak? We're not ready      March 2015  1300000  \n",
              "8   What makes a good life? Lessons from the longe...   November 2015  1200000  \n",
              "9              10 things you didn't know about orgasm   February 2009  1100000  \n",
              "10                 Why people believe they can't draw   February 2015  1100000  \n",
              "11  Looks aren't everything. Believe me, I'm a model.    October 2012  1100000  \n",
              "12                          The orchestra in my mouth        May 2013  1000000  \n",
              "13                                 How to spot a liar       July 2011   953000  \n",
              "14                            The art of misdirection       June 2013   933000  \n",
              "15                            The power of introverts   February 2012   915000  \n",
              "16                       The danger of a single story       July 2009   909000  \n",
              "17                How I held my breath for 17 minutes    October 2009   857000  \n",
              "18                     How to make stress your friend       June 2013   855000  \n",
              "19                 How to stop screwing yourself over       June 2011   855000  "
            ],
            "text/html": [
              "\n",
              "  <div id=\"df-a6c7fb20-86b5-48e7-832e-c96aac301bce\">\n",
              "    <div class=\"colab-df-container\">\n",
              "      <div>\n",
              "<style scoped>\n",
              "    .dataframe tbody tr th:only-of-type {\n",
              "        vertical-align: middle;\n",
              "    }\n",
              "\n",
              "    .dataframe tbody tr th {\n",
              "        vertical-align: top;\n",
              "    }\n",
              "\n",
              "    .dataframe thead th {\n",
              "        text-align: right;\n",
              "    }\n",
              "</style>\n",
              "<table border=\"1\" class=\"dataframe\">\n",
              "  <thead>\n",
              "    <tr style=\"text-align: right;\">\n",
              "      <th></th>\n",
              "      <th>author</th>\n",
              "      <th>title</th>\n",
              "      <th>date</th>\n",
              "      <th>likes</th>\n",
              "    </tr>\n",
              "  </thead>\n",
              "  <tbody>\n",
              "    <tr>\n",
              "      <th>0</th>\n",
              "      <td>Sir Ken Robinson</td>\n",
              "      <td>Do schools kill creativity?</td>\n",
              "      <td>February 2006</td>\n",
              "      <td>2100000</td>\n",
              "    </tr>\n",
              "    <tr>\n",
              "      <th>1</th>\n",
              "      <td>Amy Cuddy</td>\n",
              "      <td>Your body language may shape who you are</td>\n",
              "      <td>June 2012</td>\n",
              "      <td>1900000</td>\n",
              "    </tr>\n",
              "    <tr>\n",
              "      <th>2</th>\n",
              "      <td>Tim Urban</td>\n",
              "      <td>Inside the mind of a master procrastinator</td>\n",
              "      <td>February 2016</td>\n",
              "      <td>1800000</td>\n",
              "    </tr>\n",
              "    <tr>\n",
              "      <th>3</th>\n",
              "      <td>Brené Brown</td>\n",
              "      <td>The power of vulnerability</td>\n",
              "      <td>June 2010</td>\n",
              "      <td>1700000</td>\n",
              "    </tr>\n",
              "    <tr>\n",
              "      <th>4</th>\n",
              "      <td>Simon Sinek</td>\n",
              "      <td>How great leaders inspire action</td>\n",
              "      <td>September 2009</td>\n",
              "      <td>1700000</td>\n",
              "    </tr>\n",
              "    <tr>\n",
              "      <th>5</th>\n",
              "      <td>Julian Treasure</td>\n",
              "      <td>How to speak so that people want to listen</td>\n",
              "      <td>June 2013</td>\n",
              "      <td>1400000</td>\n",
              "    </tr>\n",
              "    <tr>\n",
              "      <th>6</th>\n",
              "      <td>Sam Berns</td>\n",
              "      <td>My philosophy for a happy life</td>\n",
              "      <td>October 2013</td>\n",
              "      <td>1300000</td>\n",
              "    </tr>\n",
              "    <tr>\n",
              "      <th>7</th>\n",
              "      <td>Bill Gates</td>\n",
              "      <td>The next outbreak? We're not ready</td>\n",
              "      <td>March 2015</td>\n",
              "      <td>1300000</td>\n",
              "    </tr>\n",
              "    <tr>\n",
              "      <th>8</th>\n",
              "      <td>Robert Waldinger</td>\n",
              "      <td>What makes a good life? Lessons from the longe...</td>\n",
              "      <td>November 2015</td>\n",
              "      <td>1200000</td>\n",
              "    </tr>\n",
              "    <tr>\n",
              "      <th>9</th>\n",
              "      <td>Mary Roach</td>\n",
              "      <td>10 things you didn't know about orgasm</td>\n",
              "      <td>February 2009</td>\n",
              "      <td>1100000</td>\n",
              "    </tr>\n",
              "    <tr>\n",
              "      <th>10</th>\n",
              "      <td>Graham Shaw</td>\n",
              "      <td>Why people believe they can't draw</td>\n",
              "      <td>February 2015</td>\n",
              "      <td>1100000</td>\n",
              "    </tr>\n",
              "    <tr>\n",
              "      <th>11</th>\n",
              "      <td>Cameron Russell</td>\n",
              "      <td>Looks aren't everything. Believe me, I'm a model.</td>\n",
              "      <td>October 2012</td>\n",
              "      <td>1100000</td>\n",
              "    </tr>\n",
              "    <tr>\n",
              "      <th>12</th>\n",
              "      <td>Tom Thum</td>\n",
              "      <td>The orchestra in my mouth</td>\n",
              "      <td>May 2013</td>\n",
              "      <td>1000000</td>\n",
              "    </tr>\n",
              "    <tr>\n",
              "      <th>13</th>\n",
              "      <td>Pamela Meyer</td>\n",
              "      <td>How to spot a liar</td>\n",
              "      <td>July 2011</td>\n",
              "      <td>953000</td>\n",
              "    </tr>\n",
              "    <tr>\n",
              "      <th>14</th>\n",
              "      <td>Apollo Robbins</td>\n",
              "      <td>The art of misdirection</td>\n",
              "      <td>June 2013</td>\n",
              "      <td>933000</td>\n",
              "    </tr>\n",
              "    <tr>\n",
              "      <th>15</th>\n",
              "      <td>Susan Cain</td>\n",
              "      <td>The power of introverts</td>\n",
              "      <td>February 2012</td>\n",
              "      <td>915000</td>\n",
              "    </tr>\n",
              "    <tr>\n",
              "      <th>16</th>\n",
              "      <td>Chimamanda Ngozi Adichie</td>\n",
              "      <td>The danger of a single story</td>\n",
              "      <td>July 2009</td>\n",
              "      <td>909000</td>\n",
              "    </tr>\n",
              "    <tr>\n",
              "      <th>17</th>\n",
              "      <td>David Blaine</td>\n",
              "      <td>How I held my breath for 17 minutes</td>\n",
              "      <td>October 2009</td>\n",
              "      <td>857000</td>\n",
              "    </tr>\n",
              "    <tr>\n",
              "      <th>18</th>\n",
              "      <td>Kelly McGonigal</td>\n",
              "      <td>How to make stress your friend</td>\n",
              "      <td>June 2013</td>\n",
              "      <td>855000</td>\n",
              "    </tr>\n",
              "    <tr>\n",
              "      <th>19</th>\n",
              "      <td>Mel Robbins</td>\n",
              "      <td>How to stop screwing yourself over</td>\n",
              "      <td>June 2011</td>\n",
              "      <td>855000</td>\n",
              "    </tr>\n",
              "  </tbody>\n",
              "</table>\n",
              "</div>\n",
              "      <button class=\"colab-df-convert\" onclick=\"convertToInteractive('df-a6c7fb20-86b5-48e7-832e-c96aac301bce')\"\n",
              "              title=\"Convert this dataframe to an interactive table.\"\n",
              "              style=\"display:none;\">\n",
              "        \n",
              "  <svg xmlns=\"http://www.w3.org/2000/svg\" height=\"24px\"viewBox=\"0 0 24 24\"\n",
              "       width=\"24px\">\n",
              "    <path d=\"M0 0h24v24H0V0z\" fill=\"none\"/>\n",
              "    <path d=\"M18.56 5.44l.94 2.06.94-2.06 2.06-.94-2.06-.94-.94-2.06-.94 2.06-2.06.94zm-11 1L8.5 8.5l.94-2.06 2.06-.94-2.06-.94L8.5 2.5l-.94 2.06-2.06.94zm10 10l.94 2.06.94-2.06 2.06-.94-2.06-.94-.94-2.06-.94 2.06-2.06.94z\"/><path d=\"M17.41 7.96l-1.37-1.37c-.4-.4-.92-.59-1.43-.59-.52 0-1.04.2-1.43.59L10.3 9.45l-7.72 7.72c-.78.78-.78 2.05 0 2.83L4 21.41c.39.39.9.59 1.41.59.51 0 1.02-.2 1.41-.59l7.78-7.78 2.81-2.81c.8-.78.8-2.07 0-2.86zM5.41 20L4 18.59l7.72-7.72 1.47 1.35L5.41 20z\"/>\n",
              "  </svg>\n",
              "      </button>\n",
              "      \n",
              "  <style>\n",
              "    .colab-df-container {\n",
              "      display:flex;\n",
              "      flex-wrap:wrap;\n",
              "      gap: 12px;\n",
              "    }\n",
              "\n",
              "    .colab-df-convert {\n",
              "      background-color: #E8F0FE;\n",
              "      border: none;\n",
              "      border-radius: 50%;\n",
              "      cursor: pointer;\n",
              "      display: none;\n",
              "      fill: #1967D2;\n",
              "      height: 32px;\n",
              "      padding: 0 0 0 0;\n",
              "      width: 32px;\n",
              "    }\n",
              "\n",
              "    .colab-df-convert:hover {\n",
              "      background-color: #E2EBFA;\n",
              "      box-shadow: 0px 1px 2px rgba(60, 64, 67, 0.3), 0px 1px 3px 1px rgba(60, 64, 67, 0.15);\n",
              "      fill: #174EA6;\n",
              "    }\n",
              "\n",
              "    [theme=dark] .colab-df-convert {\n",
              "      background-color: #3B4455;\n",
              "      fill: #D2E3FC;\n",
              "    }\n",
              "\n",
              "    [theme=dark] .colab-df-convert:hover {\n",
              "      background-color: #434B5C;\n",
              "      box-shadow: 0px 1px 3px 1px rgba(0, 0, 0, 0.15);\n",
              "      filter: drop-shadow(0px 1px 2px rgba(0, 0, 0, 0.3));\n",
              "      fill: #FFFFFF;\n",
              "    }\n",
              "  </style>\n",
              "\n",
              "      <script>\n",
              "        const buttonEl =\n",
              "          document.querySelector('#df-a6c7fb20-86b5-48e7-832e-c96aac301bce button.colab-df-convert');\n",
              "        buttonEl.style.display =\n",
              "          google.colab.kernel.accessAllowed ? 'block' : 'none';\n",
              "\n",
              "        async function convertToInteractive(key) {\n",
              "          const element = document.querySelector('#df-a6c7fb20-86b5-48e7-832e-c96aac301bce');\n",
              "          const dataTable =\n",
              "            await google.colab.kernel.invokeFunction('convertToInteractive',\n",
              "                                                     [key], {});\n",
              "          if (!dataTable) return;\n",
              "\n",
              "          const docLinkHtml = 'Like what you see? Visit the ' +\n",
              "            '<a target=\"_blank\" href=https://colab.research.google.com/notebooks/data_table.ipynb>data table notebook</a>'\n",
              "            + ' to learn more about interactive tables.';\n",
              "          element.innerHTML = '';\n",
              "          dataTable['output_type'] = 'display_data';\n",
              "          await google.colab.output.renderOutput(dataTable, element);\n",
              "          const docLink = document.createElement('div');\n",
              "          docLink.innerHTML = docLinkHtml;\n",
              "          element.appendChild(docLink);\n",
              "        }\n",
              "      </script>\n",
              "    </div>\n",
              "  </div>\n",
              "  "
            ]
          },
          "metadata": {},
          "execution_count": 170
        }
      ],
      "source": [
        "bestTalksByLikes = ted.sort_values(by='likes', ascending=False, ignore_index=True).nlargest(20, 'likes')[['author', 'title', 'date', 'likes']]\n",
        "bestTalksByLikes"
      ],
      "metadata": {
        "pycharm": {
          "name": "#%%\n"
        },
        "colab": {
          "base_uri": "https://localhost:8080/",
          "height": 677
        },
        "id": "yjOWiBiwvHts",
        "outputId": "4f5d01ed-64a5-40f9-af52-6dfb514381cd"
      }
    },
    {
      "cell_type": "markdown",
      "source": [
        "Adesso andiamo a vedere quali sono gli autori che hanno ottenuto il maggior numero di likes"
      ],
      "metadata": {
        "id": "U9Kz1O565MP2"
      }
    },
    {
      "cell_type": "code",
      "source": [
        "#TODO: Autori con il maggior numero di like"
      ],
      "metadata": {
        "id": "rji0dbicnxqJ"
      },
      "execution_count": 171,
      "outputs": []
    },
    {
      "cell_type": "markdown",
      "source": [
        "Siccome abbiamo visto che è presente una forte correlazione tra numero di like e numero di view, andiamo a vedere anche quali sono i talks e gli autori con il maggior numero di view."
      ],
      "metadata": {
        "id": "EY2nuGZP5nD_"
      }
    },
    {
      "cell_type": "code",
      "execution_count": 172,
      "outputs": [
        {
          "output_type": "execute_result",
          "data": {
            "text/plain": [
              "                      author  \\\n",
              "0           Sir Ken Robinson   \n",
              "1                  Amy Cuddy   \n",
              "2                  Tim Urban   \n",
              "3                Simon Sinek   \n",
              "4                Brené Brown   \n",
              "5            Julian Treasure   \n",
              "6                  Sam Berns   \n",
              "7                 Bill Gates   \n",
              "8           Robert Waldinger   \n",
              "9            Cameron Russell   \n",
              "10                Mary Roach   \n",
              "11               Graham Shaw   \n",
              "12                  Tom Thum   \n",
              "13            Apollo Robbins   \n",
              "14              Pamela Meyer   \n",
              "15  Chimamanda Ngozi Adichie   \n",
              "16                Susan Cain   \n",
              "17                 Elon Musk   \n",
              "18           Kelly McGonigal   \n",
              "19               Mel Robbins   \n",
              "\n",
              "                                                title            date  \\\n",
              "0                         Do schools kill creativity?   February 2006   \n",
              "1            Your body language may shape who you are       June 2012   \n",
              "2          Inside the mind of a master procrastinator   February 2016   \n",
              "3                    How great leaders inspire action  September 2009   \n",
              "4                          The power of vulnerability       June 2010   \n",
              "5          How to speak so that people want to listen       June 2013   \n",
              "6                      My philosophy for a happy life    October 2013   \n",
              "7                  The next outbreak? We're not ready      March 2015   \n",
              "8   What makes a good life? Lessons from the longe...   November 2015   \n",
              "9   Looks aren't everything. Believe me, I'm a model.    October 2012   \n",
              "10             10 things you didn't know about orgasm   February 2009   \n",
              "11                 Why people believe they can't draw   February 2015   \n",
              "12                          The orchestra in my mouth        May 2013   \n",
              "13                            The art of misdirection       June 2013   \n",
              "14                                 How to spot a liar       July 2011   \n",
              "15                       The danger of a single story       July 2009   \n",
              "16                            The power of introverts   February 2012   \n",
              "17             The future we're building — and boring      April 2017   \n",
              "18                     How to make stress your friend       June 2013   \n",
              "19                 How to stop screwing yourself over       June 2011   \n",
              "\n",
              "       views  \n",
              "0   72000000  \n",
              "1   64000000  \n",
              "2   60000000  \n",
              "3   57000000  \n",
              "4   56000000  \n",
              "5   49000000  \n",
              "6   43000000  \n",
              "7   43000000  \n",
              "8   41000000  \n",
              "9   38000000  \n",
              "10  37000000  \n",
              "11  37000000  \n",
              "12  34000000  \n",
              "13  31000000  \n",
              "14  31000000  \n",
              "15  30000000  \n",
              "16  30000000  \n",
              "17  28000000  \n",
              "18  28000000  \n",
              "19  28000000  "
            ],
            "text/html": [
              "\n",
              "  <div id=\"df-7bf6c48a-d938-4fbf-b4f3-3ee0c02a40da\">\n",
              "    <div class=\"colab-df-container\">\n",
              "      <div>\n",
              "<style scoped>\n",
              "    .dataframe tbody tr th:only-of-type {\n",
              "        vertical-align: middle;\n",
              "    }\n",
              "\n",
              "    .dataframe tbody tr th {\n",
              "        vertical-align: top;\n",
              "    }\n",
              "\n",
              "    .dataframe thead th {\n",
              "        text-align: right;\n",
              "    }\n",
              "</style>\n",
              "<table border=\"1\" class=\"dataframe\">\n",
              "  <thead>\n",
              "    <tr style=\"text-align: right;\">\n",
              "      <th></th>\n",
              "      <th>author</th>\n",
              "      <th>title</th>\n",
              "      <th>date</th>\n",
              "      <th>views</th>\n",
              "    </tr>\n",
              "  </thead>\n",
              "  <tbody>\n",
              "    <tr>\n",
              "      <th>0</th>\n",
              "      <td>Sir Ken Robinson</td>\n",
              "      <td>Do schools kill creativity?</td>\n",
              "      <td>February 2006</td>\n",
              "      <td>72000000</td>\n",
              "    </tr>\n",
              "    <tr>\n",
              "      <th>1</th>\n",
              "      <td>Amy Cuddy</td>\n",
              "      <td>Your body language may shape who you are</td>\n",
              "      <td>June 2012</td>\n",
              "      <td>64000000</td>\n",
              "    </tr>\n",
              "    <tr>\n",
              "      <th>2</th>\n",
              "      <td>Tim Urban</td>\n",
              "      <td>Inside the mind of a master procrastinator</td>\n",
              "      <td>February 2016</td>\n",
              "      <td>60000000</td>\n",
              "    </tr>\n",
              "    <tr>\n",
              "      <th>3</th>\n",
              "      <td>Simon Sinek</td>\n",
              "      <td>How great leaders inspire action</td>\n",
              "      <td>September 2009</td>\n",
              "      <td>57000000</td>\n",
              "    </tr>\n",
              "    <tr>\n",
              "      <th>4</th>\n",
              "      <td>Brené Brown</td>\n",
              "      <td>The power of vulnerability</td>\n",
              "      <td>June 2010</td>\n",
              "      <td>56000000</td>\n",
              "    </tr>\n",
              "    <tr>\n",
              "      <th>5</th>\n",
              "      <td>Julian Treasure</td>\n",
              "      <td>How to speak so that people want to listen</td>\n",
              "      <td>June 2013</td>\n",
              "      <td>49000000</td>\n",
              "    </tr>\n",
              "    <tr>\n",
              "      <th>6</th>\n",
              "      <td>Sam Berns</td>\n",
              "      <td>My philosophy for a happy life</td>\n",
              "      <td>October 2013</td>\n",
              "      <td>43000000</td>\n",
              "    </tr>\n",
              "    <tr>\n",
              "      <th>7</th>\n",
              "      <td>Bill Gates</td>\n",
              "      <td>The next outbreak? We're not ready</td>\n",
              "      <td>March 2015</td>\n",
              "      <td>43000000</td>\n",
              "    </tr>\n",
              "    <tr>\n",
              "      <th>8</th>\n",
              "      <td>Robert Waldinger</td>\n",
              "      <td>What makes a good life? Lessons from the longe...</td>\n",
              "      <td>November 2015</td>\n",
              "      <td>41000000</td>\n",
              "    </tr>\n",
              "    <tr>\n",
              "      <th>9</th>\n",
              "      <td>Cameron Russell</td>\n",
              "      <td>Looks aren't everything. Believe me, I'm a model.</td>\n",
              "      <td>October 2012</td>\n",
              "      <td>38000000</td>\n",
              "    </tr>\n",
              "    <tr>\n",
              "      <th>10</th>\n",
              "      <td>Mary Roach</td>\n",
              "      <td>10 things you didn't know about orgasm</td>\n",
              "      <td>February 2009</td>\n",
              "      <td>37000000</td>\n",
              "    </tr>\n",
              "    <tr>\n",
              "      <th>11</th>\n",
              "      <td>Graham Shaw</td>\n",
              "      <td>Why people believe they can't draw</td>\n",
              "      <td>February 2015</td>\n",
              "      <td>37000000</td>\n",
              "    </tr>\n",
              "    <tr>\n",
              "      <th>12</th>\n",
              "      <td>Tom Thum</td>\n",
              "      <td>The orchestra in my mouth</td>\n",
              "      <td>May 2013</td>\n",
              "      <td>34000000</td>\n",
              "    </tr>\n",
              "    <tr>\n",
              "      <th>13</th>\n",
              "      <td>Apollo Robbins</td>\n",
              "      <td>The art of misdirection</td>\n",
              "      <td>June 2013</td>\n",
              "      <td>31000000</td>\n",
              "    </tr>\n",
              "    <tr>\n",
              "      <th>14</th>\n",
              "      <td>Pamela Meyer</td>\n",
              "      <td>How to spot a liar</td>\n",
              "      <td>July 2011</td>\n",
              "      <td>31000000</td>\n",
              "    </tr>\n",
              "    <tr>\n",
              "      <th>15</th>\n",
              "      <td>Chimamanda Ngozi Adichie</td>\n",
              "      <td>The danger of a single story</td>\n",
              "      <td>July 2009</td>\n",
              "      <td>30000000</td>\n",
              "    </tr>\n",
              "    <tr>\n",
              "      <th>16</th>\n",
              "      <td>Susan Cain</td>\n",
              "      <td>The power of introverts</td>\n",
              "      <td>February 2012</td>\n",
              "      <td>30000000</td>\n",
              "    </tr>\n",
              "    <tr>\n",
              "      <th>17</th>\n",
              "      <td>Elon Musk</td>\n",
              "      <td>The future we're building — and boring</td>\n",
              "      <td>April 2017</td>\n",
              "      <td>28000000</td>\n",
              "    </tr>\n",
              "    <tr>\n",
              "      <th>18</th>\n",
              "      <td>Kelly McGonigal</td>\n",
              "      <td>How to make stress your friend</td>\n",
              "      <td>June 2013</td>\n",
              "      <td>28000000</td>\n",
              "    </tr>\n",
              "    <tr>\n",
              "      <th>19</th>\n",
              "      <td>Mel Robbins</td>\n",
              "      <td>How to stop screwing yourself over</td>\n",
              "      <td>June 2011</td>\n",
              "      <td>28000000</td>\n",
              "    </tr>\n",
              "  </tbody>\n",
              "</table>\n",
              "</div>\n",
              "      <button class=\"colab-df-convert\" onclick=\"convertToInteractive('df-7bf6c48a-d938-4fbf-b4f3-3ee0c02a40da')\"\n",
              "              title=\"Convert this dataframe to an interactive table.\"\n",
              "              style=\"display:none;\">\n",
              "        \n",
              "  <svg xmlns=\"http://www.w3.org/2000/svg\" height=\"24px\"viewBox=\"0 0 24 24\"\n",
              "       width=\"24px\">\n",
              "    <path d=\"M0 0h24v24H0V0z\" fill=\"none\"/>\n",
              "    <path d=\"M18.56 5.44l.94 2.06.94-2.06 2.06-.94-2.06-.94-.94-2.06-.94 2.06-2.06.94zm-11 1L8.5 8.5l.94-2.06 2.06-.94-2.06-.94L8.5 2.5l-.94 2.06-2.06.94zm10 10l.94 2.06.94-2.06 2.06-.94-2.06-.94-.94-2.06-.94 2.06-2.06.94z\"/><path d=\"M17.41 7.96l-1.37-1.37c-.4-.4-.92-.59-1.43-.59-.52 0-1.04.2-1.43.59L10.3 9.45l-7.72 7.72c-.78.78-.78 2.05 0 2.83L4 21.41c.39.39.9.59 1.41.59.51 0 1.02-.2 1.41-.59l7.78-7.78 2.81-2.81c.8-.78.8-2.07 0-2.86zM5.41 20L4 18.59l7.72-7.72 1.47 1.35L5.41 20z\"/>\n",
              "  </svg>\n",
              "      </button>\n",
              "      \n",
              "  <style>\n",
              "    .colab-df-container {\n",
              "      display:flex;\n",
              "      flex-wrap:wrap;\n",
              "      gap: 12px;\n",
              "    }\n",
              "\n",
              "    .colab-df-convert {\n",
              "      background-color: #E8F0FE;\n",
              "      border: none;\n",
              "      border-radius: 50%;\n",
              "      cursor: pointer;\n",
              "      display: none;\n",
              "      fill: #1967D2;\n",
              "      height: 32px;\n",
              "      padding: 0 0 0 0;\n",
              "      width: 32px;\n",
              "    }\n",
              "\n",
              "    .colab-df-convert:hover {\n",
              "      background-color: #E2EBFA;\n",
              "      box-shadow: 0px 1px 2px rgba(60, 64, 67, 0.3), 0px 1px 3px 1px rgba(60, 64, 67, 0.15);\n",
              "      fill: #174EA6;\n",
              "    }\n",
              "\n",
              "    [theme=dark] .colab-df-convert {\n",
              "      background-color: #3B4455;\n",
              "      fill: #D2E3FC;\n",
              "    }\n",
              "\n",
              "    [theme=dark] .colab-df-convert:hover {\n",
              "      background-color: #434B5C;\n",
              "      box-shadow: 0px 1px 3px 1px rgba(0, 0, 0, 0.15);\n",
              "      filter: drop-shadow(0px 1px 2px rgba(0, 0, 0, 0.3));\n",
              "      fill: #FFFFFF;\n",
              "    }\n",
              "  </style>\n",
              "\n",
              "      <script>\n",
              "        const buttonEl =\n",
              "          document.querySelector('#df-7bf6c48a-d938-4fbf-b4f3-3ee0c02a40da button.colab-df-convert');\n",
              "        buttonEl.style.display =\n",
              "          google.colab.kernel.accessAllowed ? 'block' : 'none';\n",
              "\n",
              "        async function convertToInteractive(key) {\n",
              "          const element = document.querySelector('#df-7bf6c48a-d938-4fbf-b4f3-3ee0c02a40da');\n",
              "          const dataTable =\n",
              "            await google.colab.kernel.invokeFunction('convertToInteractive',\n",
              "                                                     [key], {});\n",
              "          if (!dataTable) return;\n",
              "\n",
              "          const docLinkHtml = 'Like what you see? Visit the ' +\n",
              "            '<a target=\"_blank\" href=https://colab.research.google.com/notebooks/data_table.ipynb>data table notebook</a>'\n",
              "            + ' to learn more about interactive tables.';\n",
              "          element.innerHTML = '';\n",
              "          dataTable['output_type'] = 'display_data';\n",
              "          await google.colab.output.renderOutput(dataTable, element);\n",
              "          const docLink = document.createElement('div');\n",
              "          docLink.innerHTML = docLinkHtml;\n",
              "          element.appendChild(docLink);\n",
              "        }\n",
              "      </script>\n",
              "    </div>\n",
              "  </div>\n",
              "  "
            ]
          },
          "metadata": {},
          "execution_count": 172
        }
      ],
      "source": [
        "bestTalksByViews = ted.sort_values(by='views', ascending=False, ignore_index=True).nlargest(20, 'views')[['author', 'title', 'date', 'views']]\n",
        "bestTalksByViews"
      ],
      "metadata": {
        "pycharm": {
          "name": "#%%\n"
        },
        "colab": {
          "base_uri": "https://localhost:8080/",
          "height": 677
        },
        "id": "VwKLm3KlvHts",
        "outputId": "7a865836-cca5-4cbe-d548-21ae850e2197"
      }
    },
    {
      "cell_type": "code",
      "source": [
        "#TODO: Autori con il maggior numero di view"
      ],
      "metadata": {
        "id": "6nLp68rDnxhx"
      },
      "execution_count": 173,
      "outputs": []
    },
    {
      "cell_type": "markdown",
      "source": [
        "### **Per aver successo serve pubblicare molti talk?**\n",
        "Un'altra cosa che vogliamo capire è se è necessario pubblicare molti talk per ottenere molti like. \\\n",
        "Partiamo confrontando gli autori che hanno ottenuto il maggior numero di like con quelli che hanno prodotto il maggior numero di talk."
      ],
      "metadata": {
        "id": "fPnfl0pc6KMk"
      }
    },
    {
      "cell_type": "code",
      "execution_count": 174,
      "outputs": [
        {
          "output_type": "execute_result",
          "data": {
            "text/plain": [
              "<matplotlib.axes._subplots.AxesSubplot at 0x7f7f66d4ec10>"
            ]
          },
          "metadata": {},
          "execution_count": 174
        },
        {
          "output_type": "display_data",
          "data": {
            "text/plain": [
              "<Figure size 1080x360 with 2 Axes>"
            ],
            "image/png": "[encoded data removed]"
          },
          "metadata": {
            "needs_background": "light"
          }
        }
      ],
      "source": [
        "authorProduct = ted.sort_values(by='author')['author'].value_counts()\n",
        "authorProductLimited = authorProduct.nlargest(10)\n",
        "\n",
        "\n",
        "authorLikes = ted.sort_values(by='author').groupby('author')['likes'].sum() #normalizzazione\n",
        "authorLikesLimited = authorLikes.nlargest(10)\n",
        "\n",
        "\n",
        "\n",
        "plt.figure(figsize=(15,5))\n",
        "plt.subplot(1,2,1)\n",
        "authorProductLimited.plot(kind='bar', title=\"Autori che hanno prodotto il maggior numero di talks\")\n",
        "plt.subplot(1,2,2)\n",
        "authorLikesLimited.plot(kind='bar', title=\"Autori che hanno ottenuto il maggior numero di likes\")"
      ],
      "metadata": {
        "pycharm": {
          "name": "#%%\n"
        },
        "colab": {
          "base_uri": "https://localhost:8080/",
          "height": 441
        },
        "id": "4h7nU0QpvHtt",
        "outputId": "37eca091-cc0e-4b6a-f035-e07790420946"
      }
    },
    {
      "cell_type": "markdown",
      "source": [
        "Si può notare come, tranne Alex Gendler e Iseult Gillespie, la maggior parte degli autori con il maggior numero di views non corrispondano con quelli che hanno pubblicato più talks. \\\n",
        "Andiamo a vedere se è presente una correlazione tra il numero di talks pubblicati ed il numero di views di un autore."
      ],
      "metadata": {
        "collapsed": false,
        "pycharm": {
          "name": "#%% md\n"
        },
        "id": "247m-0XovHtt"
      }
    },
    {
      "cell_type": "code",
      "execution_count": 175,
      "outputs": [
        {
          "output_type": "execute_result",
          "data": {
            "text/plain": [
              "<matplotlib.collections.PathCollection at 0x7f7f6c418410>"
            ]
          },
          "metadata": {},
          "execution_count": 175
        },
        {
          "output_type": "display_data",
          "data": {
            "text/plain": [
              "<Figure size 432x288 with 1 Axes>"
            ],
            "image/png": "[encoded data removed]"
          },
          "metadata": {
            "needs_background": "light"
          }
        }
      ],
      "source": [
        "plt.scatter(authorLikes, authorProduct.sort_index())"
      ],
      "metadata": {
        "pycharm": {
          "name": "#%%\n"
        },
        "colab": {
          "base_uri": "https://localhost:8080/",
          "height": 296
        },
        "id": "aO_JUz6qvHtt",
        "outputId": "7feb0f23-9439-4d38-9f21-5ce3775f3fa8"
      }
    },
    {
      "cell_type": "code",
      "execution_count": 176,
      "outputs": [
        {
          "output_type": "execute_result",
          "data": {
            "text/plain": [
              "0.6164811152651448"
            ]
          },
          "metadata": {},
          "execution_count": 176
        }
      ],
      "source": [
        "authorLikes.sort_index().corr(authorProduct.sort_index())"
      ],
      "metadata": {
        "pycharm": {
          "name": "#%%\n"
        },
        "colab": {
          "base_uri": "https://localhost:8080/"
        },
        "id": "yaTPXMiWvHtu",
        "outputId": "b87485b6-2671-4834-dfa8-242159bbda50"
      }
    },
    {
      "cell_type": "markdown",
      "source": [
        "È presente una moderata correlazione tra numero di talks prodotti e numero di views registrate."
      ],
      "metadata": {
        "collapsed": false,
        "pycharm": {
          "name": "#%% md\n"
        },
        "id": "KYsSPNRWvHtu"
      }
    },
    {
      "cell_type": "markdown",
      "source": [
        "### **Quali temi trattare?**\n",
        "Adesso cerchiamo di capire quali sono i temi trattati maggiormente e se sono presenti nei talk di maggior successo. \\\n",
        "Per farlo andiamo a vedere quali sono le parole maggiormente utilizzate all'interno dei titoli.\n"
      ],
      "metadata": {
        "id": "xf8ZTEaDYByV"
      }
    },
    {
      "cell_type": "code",
      "execution_count": 177,
      "outputs": [
        {
          "output_type": "stream",
          "name": "stderr",
          "text": [
            "[nltk_data] Downloading package stopwords to /root/nltk_data...\n",
            "[nltk_data]   Package stopwords is already up-to-date!\n"
          ]
        }
      ],
      "source": [
        "import nltk\n",
        "from nltk.corpus import stopwords\n",
        "from termcolor import colored\n",
        "nltk.download('stopwords')\n",
        "\n",
        "def getWords(ds):\n",
        "  banned = list(stopwords.words('english'))+['—', 'new', 'us', 'could', 'we\\'re']\n",
        "  wordsList=[]\n",
        "  for v in ds.values:\n",
        "    for w in v.split():\n",
        "      if w.lower() not in banned:\n",
        "        wordsList.append(w.lower())\n",
        "  words = pd.DataFrame({'word':wordsList})['word'].value_counts().nlargest(6)\n",
        "  return words\n",
        "\n",
        "def getWordsColor(w, c):\n",
        "  word_color=dict()\n",
        "  count=0\n",
        "  for w in words.index: \n",
        "    word_color[w]=c[count]\n",
        "    count+=1\n",
        "  return word_color\n",
        "\n",
        "def plotWords(w, c):\n",
        "  ax = words.plot(kind='bar')\n",
        "  count=0\n",
        "  for rect in ax.patches:\n",
        "    rect.set_color(c[count])\n",
        "    count+=1\n",
        "\n",
        "def printTitleColor(t, w_dictionary):\n",
        "  for title in t:\n",
        "    for w in title.split():\n",
        "      if w.lower() in w_dictionary:\n",
        "        print(colored(w, w_dictionary[w.lower()]), end=' ')\n",
        "      else:\n",
        "        print(w, end=' ')\n",
        "    print()"
      ],
      "metadata": {
        "pycharm": {
          "name": "#%%\n"
        },
        "colab": {
          "base_uri": "https://localhost:8080/"
        },
        "id": "V2HtrQnIvHt0",
        "outputId": "f569b9b7-c3f2-49a8-8372-b0862adb8993"
      }
    },
    {
      "cell_type": "code",
      "execution_count": 178,
      "outputs": [
        {
          "output_type": "display_data",
          "data": {
            "text/plain": [
              "<Figure size 432x288 with 1 Axes>"
            ],
            "image/png": "[encoded data removed]"
          },
          "metadata": {
            "needs_background": "light"
          }
        }
      ],
      "source": [
        "color=['red','green','yellow','blue','magenta','cyan']\n",
        "\n",
        "words=getWords(ted['title'])\n",
        "word_color=getWordsColor(words,color)\n",
        "plotWords(words,color)"
      ],
      "metadata": {
        "pycharm": {
          "name": "#%%\n"
        },
        "colab": {
          "base_uri": "https://localhost:8080/",
          "height": 292
        },
        "id": "Z4_q2NnhvHt0",
        "outputId": "3419ffc2-4370-416e-f596-4d93bd6cc4de"
      }
    },
    {
      "cell_type": "markdown",
      "source": [
        "Tra le paroli più comuni si può notare come siano presenti, quasi nella stessa quantità, le parole `climate` e `change` suggerendo come uno dei temi più importanti degli ultimi anni, ossia il cambiamento climatico, venga trattato molto frequentemente anche nei talks presenti su Ted Talks. \\\n",
        "Andiamo a verificare quante volte compaiono nello stesso titolo."
      ],
      "metadata": {
        "collapsed": false,
        "pycharm": {
          "name": "#%% md\n"
        },
        "id": "XOKxL9tBvHt0"
      }
    },
    {
      "cell_type": "code",
      "execution_count": 179,
      "outputs": [
        {
          "output_type": "stream",
          "name": "stdout",
          "text": [
            "'Climate' compare 92 volte, 'Change' compare 136 volte e compaiono entrambe nello stesso titolo 48 volte\n"
          ]
        }
      ],
      "source": [
        "countBoth=0\n",
        "countClimate=0\n",
        "countChange=0\n",
        "for v in ted['title'].values:\n",
        "  v = v.lower()\n",
        "  if 'climate' in v and 'change' in v:\n",
        "    countBoth+=1\n",
        "  if 'climate' in v:\n",
        "    countClimate+=1\n",
        "  if 'change' in v:\n",
        "    countChange+=1\n",
        "print(f\"'Climate' compare {countClimate} volte, 'Change' compare {countChange} volte e compaiono entrambe nello stesso titolo {countBoth} volte\")"
      ],
      "metadata": {
        "pycharm": {
          "name": "#%%\n"
        },
        "colab": {
          "base_uri": "https://localhost:8080/"
        },
        "id": "jNxOpPFvvHt0",
        "outputId": "a92eaff7-c778-4978-b9a5-bc35208bcf47"
      }
    },
    {
      "cell_type": "markdown",
      "source": [
        "`Change` ovviamente compare più volte essendo anche una parola che può essere usata in diversi abiti, ma è interessante notare come più del 50% delle volte la parola `Climate` compaia insieme a `Change`. \\\n",
        "Adesso che abbiamo trovato le parole più usate andiamo a vedere se sono presenti all'interno dei titoli dei talk di maggior successo.\n"
      ],
      "metadata": {
        "collapsed": false,
        "pycharm": {
          "name": "#%% md\n"
        },
        "id": "xj-4Wj-KvHt0"
      }
    },
    {
      "cell_type": "code",
      "execution_count": 180,
      "outputs": [
        {
          "output_type": "stream",
          "name": "stdout",
          "text": [
            "Do schools kill creativity? \n",
            "Your body language may shape who you are \n",
            "Inside the mind of a master procrastinator \n",
            "The power of vulnerability \n",
            "How great leaders inspire action \n",
            "How to speak so that people want to listen \n",
            "My philosophy for a happy \u001b[31mlife\u001b[0m \n",
            "The next outbreak? We're not ready \n",
            "What makes a good life? Lessons from the longest study on happiness \n",
            "10 things you didn't know about orgasm \n",
            "Why people believe they can't draw \n",
            "Looks aren't everything. Believe me, I'm a model. \n",
            "The orchestra in my mouth \n",
            "How to spot a liar \n",
            "The art of misdirection \n",
            "The power of introverts \n",
            "The danger of a single story \n",
            "How I held my breath for 17 minutes \n",
            "How to make stress your friend \n",
            "How to stop screwing yourself over \n",
            "The \u001b[32mfuture\u001b[0m we're building — and boring \n",
            "My stroke of insight \n",
            "The puzzle of motivation \n",
            "Strange answers to the psychopath test \n",
            "10 ways to have a better conversation \n",
            "Questions no one knows the answers to \n",
            "Grit: The power of passion and perseverance \n",
            "The happy secret to better work \n",
            "Can you solve the prisoner hat riddle? \n",
            "My escape from North Korea \n",
            "The Infinite Hotel Paradox \n",
            "What are those floaty things in your eye? \n",
            "Your elusive creative genius \n",
            "The price of shame \n",
            "What is depression? \n",
            "The surprising science of happiness \n",
            "Can you solve the bridge riddle? \n",
            "The surprising habits of original thinkers \n",
            "A Saudi, an Indian and an Iranian walk into a Qatari bar ... \n",
            "The secret to desire in a long-term relationship \n",
            "The thrilling potential of SixthSense technology \n",
            "Rethinking infidelity ... a talk for anyone who has ever loved \n",
            "What makes you special? \n",
            "How to stay calm when you know you'll be stressed \n",
            "Everything you think you know about addiction is wrong \n",
            "Brain magic \n",
            "The language of lying \n",
            "What would happen if you didn't drink water? \n",
            "A simple way to break a bad habit \n",
            "How language shapes the way we think \n"
          ]
        }
      ],
      "source": [
        "bestTalksByLikes = ted.sort_values(by='likes', ascending=False, ignore_index=True).nlargest(50, 'likes')['title']\n",
        "printTitleColor(bestTalksByLikes, word_color)"
      ],
      "metadata": {
        "pycharm": {
          "name": "#%%\n"
        },
        "colab": {
          "base_uri": "https://localhost:8080/"
        },
        "id": "IOlNQ3HHvHt1",
        "outputId": "c8fd0b49-7b76-4519-8a69-785417186181"
      }
    },
    {
      "cell_type": "markdown",
      "source": [
        "Si può notare come, tranne una volta `life` e `future`, le parole che abbiamo trovato che vengono utilizzate maggiormente, non compaiono nei primi 50 titoli, quindi non sono presenti legami tra temi trattati e numero di visualizzazioni. \\\n",
        "Andiamo quindi a vedere le parole più utilizzate nei primi 50 talks con più likes e vediamo se sono presenti temi ricorrenti.\n"
      ],
      "metadata": {
        "collapsed": false,
        "pycharm": {
          "name": "#%% md\n"
        },
        "id": "Mwo5fCm1vHt1"
      }
    },
    {
      "cell_type": "code",
      "execution_count": 181,
      "outputs": [
        {
          "output_type": "display_data",
          "data": {
            "text/plain": [
              "<Figure size 432x288 with 1 Axes>"
            ],
            "image/png": "[encoded data removed]"
          },
          "metadata": {
            "needs_background": "light"
          }
        }
      ],
      "source": [
        "words=getWords(bestTalksByLikes)\n",
        "word_color=getWordsColor(words,color)\n",
        "plotWords(words,color)"
      ],
      "metadata": {
        "pycharm": {
          "name": "#%%\n"
        },
        "colab": {
          "base_uri": "https://localhost:8080/",
          "height": 306
        },
        "id": "yDyHaN1vvHt1",
        "outputId": "1085965d-3c36-40c5-832c-fff78401362f"
      }
    },
    {
      "cell_type": "code",
      "execution_count": 182,
      "outputs": [
        {
          "output_type": "stream",
          "name": "stdout",
          "text": [
            "Do schools kill creativity? \n",
            "Your body \u001b[32mlanguage\u001b[0m may shape who you are \n",
            "Inside the mind of a master procrastinator \n",
            "The \u001b[31mpower\u001b[0m of vulnerability \n",
            "How great leaders inspire action \n",
            "How to speak so that \u001b[35mpeople\u001b[0m want to listen \n",
            "My philosophy for a happy life \n",
            "The next outbreak? We're not ready \n",
            "What makes a good life? Lessons from the longest study on \u001b[34mhappiness\u001b[0m \n",
            "10 things you didn't \u001b[33mknow\u001b[0m about orgasm \n",
            "Why \u001b[35mpeople\u001b[0m \u001b[36mbelieve\u001b[0m they can't draw \n",
            "Looks aren't everything. \u001b[36mBelieve\u001b[0m me, I'm a model. \n",
            "The orchestra in my mouth \n",
            "How to spot a liar \n",
            "The art of misdirection \n",
            "The \u001b[31mpower\u001b[0m of introverts \n",
            "The danger of a single story \n",
            "How I held my breath for 17 minutes \n",
            "How to make stress your friend \n",
            "How to stop screwing yourself over \n",
            "The future we're building — and boring \n",
            "My stroke of insight \n",
            "The puzzle of motivation \n",
            "Strange answers to the psychopath test \n",
            "10 ways to have a better conversation \n",
            "Questions no one knows the answers to \n",
            "Grit: The \u001b[31mpower\u001b[0m of passion and perseverance \n",
            "The happy secret to better work \n",
            "Can you solve the prisoner hat riddle? \n",
            "My escape from North Korea \n",
            "The Infinite Hotel Paradox \n",
            "What are those floaty things in your eye? \n",
            "Your elusive creative genius \n",
            "The price of shame \n",
            "What is depression? \n",
            "The surprising science of \u001b[34mhappiness\u001b[0m \n",
            "Can you solve the bridge riddle? \n",
            "The surprising habits of original thinkers \n",
            "A Saudi, an Indian and an Iranian walk into a Qatari bar ... \n",
            "The secret to desire in a long-term relationship \n",
            "The thrilling potential of SixthSense technology \n",
            "Rethinking infidelity ... a talk for anyone who has ever loved \n",
            "What makes you special? \n",
            "How to stay calm when you \u001b[33mknow\u001b[0m you'll be stressed \n",
            "Everything you think you \u001b[33mknow\u001b[0m about addiction is wrong \n",
            "Brain magic \n",
            "The \u001b[32mlanguage\u001b[0m of lying \n",
            "What would happen if you didn't drink water? \n",
            "A simple way to break a bad habit \n",
            "How \u001b[32mlanguage\u001b[0m shapes the way we think \n"
          ]
        }
      ],
      "source": [
        "printTitleColor(bestTalksByLikes, word_color)"
      ],
      "metadata": {
        "pycharm": {
          "name": "#%%\n"
        },
        "colab": {
          "base_uri": "https://localhost:8080/"
        },
        "id": "-F9S1z6NvHt1",
        "outputId": "abe15246-7672-4cd6-a8d1-51358e123142"
      }
    },
    {
      "cell_type": "markdown",
      "source": [
        "Analizzando le parole trovate, è possibile notare come nella top 50 dei talks più visti siano presenti:\n",
        "\n",
        "*   Tre talks dove vengono analizzati i punti di forza (ed hanno in comune la parola `power`)\n",
        "*   Tre talks dove viene analizzato il linguaggio (ed hanno in comune la parola `language`)\n",
        "*   Due talks dove viene trattata la felicità (ed hanno in comune la parola `happiness`)\n"
      ],
      "metadata": {
        "collapsed": false,
        "pycharm": {
          "name": "#%% md\n"
        },
        "id": "RbSYnlcbvHt1"
      }
    },
    {
      "cell_type": "code",
      "source": [
        ""
      ],
      "metadata": {
        "id": "2Gnx0CKHnxVj"
      },
      "execution_count": 182,
      "outputs": []
    },
    {
      "cell_type": "code",
      "source": [
        ""
      ],
      "metadata": {
        "id": "H0szUGoo6F0G"
      },
      "execution_count": 182,
      "outputs": []
    },
    {
      "cell_type": "code",
      "source": [
        ""
      ],
      "metadata": {
        "id": "wvKp63Q16FnO"
      },
      "execution_count": 182,
      "outputs": []
    },
    {
      "cell_type": "markdown",
      "source": [
        "Adesso andiamo a vedere quali sono i talks con il maggior numero di views e con il maggior numero di likes. Siccome è presente questa forte correlazione ci aspettiamo di trovare più o meno gli stessi talks."
      ],
      "metadata": {
        "collapsed": false,
        "pycharm": {
          "name": "#%% md\n"
        },
        "id": "8Ss55yLMvHts"
      }
    },
    {
      "cell_type": "markdown",
      "source": [
        "Come ci aspettavamo, la maggior parte dei talks con più views sono anche quelli con più likes. Adesso andiamo a vedere quali sono i talks con il miglior rapporto `#likes/#views`."
      ],
      "metadata": {
        "collapsed": false,
        "pycharm": {
          "name": "#%% md\n"
        },
        "id": "ET7NQKjKvHts"
      }
    },
    {
      "cell_type": "code",
      "execution_count": 183,
      "outputs": [
        {
          "output_type": "execute_result",
          "data": {
            "text/plain": [
              "                    author                                              title  \\\n",
              "0             Coby Everton  The importance of queer allyship in the classroom   \n",
              "1      Mackenzie Dalrymple                          Three stories of Scotland   \n",
              "2          Mathieu Lamiaux  Imagining a new future for health systems in A...   \n",
              "3             Scott Nguyen  Solar energy can help put power back in the ha...   \n",
              "4        Paul S. Kindstedt                        A brie(f) history of cheese   \n",
              "5              Tim Ferriss  Why you should define your fears instead of yo...   \n",
              "6     Emily Esfahani Smith              There's more to life than being happy   \n",
              "7   Alejandro Chaskielberg  Cómo usar el arte de la fotografía para restau...   \n",
              "8          Tony Buffington                          Why do cats act so weird?   \n",
              "9              Rana Novack          How we'll predict the next refugee crisis   \n",
              "10             Phil Tetlow  8 steps to understanding information (and mayb...   \n",
              "11               Greg Gage  How to control someone else's arm with your brain   \n",
              "12         Claudia Aguirre             What would happen if you didn't sleep?   \n",
              "13           Michael Uslan   How I brought Batman to Hollywood (and academia)   \n",
              "14              Mira Calix                                Sound and sentiment   \n",
              "15       Alejandro Nespral  Hablemos de la muerte con los niños | Alejandr...   \n",
              "16            Eric Mibuari  Can credit scores be determined by cellphone d...   \n",
              "17         Gunjan Bhardwaj  How blockchain and AI can help us decipher med...   \n",
              "18    Shalini Unnikrishnan  We need to turn our response to crisis inside out   \n",
              "19            Reggie Watts                              Beats that defy boxes   \n",
              "\n",
              "       ratio  \n",
              "0   0.032900  \n",
              "1   0.032636  \n",
              "2   0.032600  \n",
              "3   0.032600  \n",
              "4   0.032545  \n",
              "5   0.032500  \n",
              "6   0.032455  \n",
              "7   0.032417  \n",
              "8   0.032364  \n",
              "9   0.032333  \n",
              "10  0.032300  \n",
              "11  0.032250  \n",
              "12  0.032250  \n",
              "13  0.032200  \n",
              "14  0.032182  \n",
              "15  0.032167  \n",
              "16  0.032091  \n",
              "17  0.032083  \n",
              "18  0.032083  \n",
              "19  0.032083  "
            ],
            "text/html": [
              "\n",
              "  <div id=\"df-1c615f37-4075-4839-8a37-84badd8f1a65\">\n",
              "    <div class=\"colab-df-container\">\n",
              "      <div>\n",
              "<style scoped>\n",
              "    .dataframe tbody tr th:only-of-type {\n",
              "        vertical-align: middle;\n",
              "    }\n",
              "\n",
              "    .dataframe tbody tr th {\n",
              "        vertical-align: top;\n",
              "    }\n",
              "\n",
              "    .dataframe thead th {\n",
              "        text-align: right;\n",
              "    }\n",
              "</style>\n",
              "<table border=\"1\" class=\"dataframe\">\n",
              "  <thead>\n",
              "    <tr style=\"text-align: right;\">\n",
              "      <th></th>\n",
              "      <th>author</th>\n",
              "      <th>title</th>\n",
              "      <th>ratio</th>\n",
              "    </tr>\n",
              "  </thead>\n",
              "  <tbody>\n",
              "    <tr>\n",
              "      <th>0</th>\n",
              "      <td>Coby Everton</td>\n",
              "      <td>The importance of queer allyship in the classroom</td>\n",
              "      <td>0.032900</td>\n",
              "    </tr>\n",
              "    <tr>\n",
              "      <th>1</th>\n",
              "      <td>Mackenzie Dalrymple</td>\n",
              "      <td>Three stories of Scotland</td>\n",
              "      <td>0.032636</td>\n",
              "    </tr>\n",
              "    <tr>\n",
              "      <th>2</th>\n",
              "      <td>Mathieu Lamiaux</td>\n",
              "      <td>Imagining a new future for health systems in A...</td>\n",
              "      <td>0.032600</td>\n",
              "    </tr>\n",
              "    <tr>\n",
              "      <th>3</th>\n",
              "      <td>Scott Nguyen</td>\n",
              "      <td>Solar energy can help put power back in the ha...</td>\n",
              "      <td>0.032600</td>\n",
              "    </tr>\n",
              "    <tr>\n",
              "      <th>4</th>\n",
              "      <td>Paul S. Kindstedt</td>\n",
              "      <td>A brie(f) history of cheese</td>\n",
              "      <td>0.032545</td>\n",
              "    </tr>\n",
              "    <tr>\n",
              "      <th>5</th>\n",
              "      <td>Tim Ferriss</td>\n",
              "      <td>Why you should define your fears instead of yo...</td>\n",
              "      <td>0.032500</td>\n",
              "    </tr>\n",
              "    <tr>\n",
              "      <th>6</th>\n",
              "      <td>Emily Esfahani Smith</td>\n",
              "      <td>There's more to life than being happy</td>\n",
              "      <td>0.032455</td>\n",
              "    </tr>\n",
              "    <tr>\n",
              "      <th>7</th>\n",
              "      <td>Alejandro Chaskielberg</td>\n",
              "      <td>Cómo usar el arte de la fotografía para restau...</td>\n",
              "      <td>0.032417</td>\n",
              "    </tr>\n",
              "    <tr>\n",
              "      <th>8</th>\n",
              "      <td>Tony Buffington</td>\n",
              "      <td>Why do cats act so weird?</td>\n",
              "      <td>0.032364</td>\n",
              "    </tr>\n",
              "    <tr>\n",
              "      <th>9</th>\n",
              "      <td>Rana Novack</td>\n",
              "      <td>How we'll predict the next refugee crisis</td>\n",
              "      <td>0.032333</td>\n",
              "    </tr>\n",
              "    <tr>\n",
              "      <th>10</th>\n",
              "      <td>Phil Tetlow</td>\n",
              "      <td>8 steps to understanding information (and mayb...</td>\n",
              "      <td>0.032300</td>\n",
              "    </tr>\n",
              "    <tr>\n",
              "      <th>11</th>\n",
              "      <td>Greg Gage</td>\n",
              "      <td>How to control someone else's arm with your brain</td>\n",
              "      <td>0.032250</td>\n",
              "    </tr>\n",
              "    <tr>\n",
              "      <th>12</th>\n",
              "      <td>Claudia Aguirre</td>\n",
              "      <td>What would happen if you didn't sleep?</td>\n",
              "      <td>0.032250</td>\n",
              "    </tr>\n",
              "    <tr>\n",
              "      <th>13</th>\n",
              "      <td>Michael Uslan</td>\n",
              "      <td>How I brought Batman to Hollywood (and academia)</td>\n",
              "      <td>0.032200</td>\n",
              "    </tr>\n",
              "    <tr>\n",
              "      <th>14</th>\n",
              "      <td>Mira Calix</td>\n",
              "      <td>Sound and sentiment</td>\n",
              "      <td>0.032182</td>\n",
              "    </tr>\n",
              "    <tr>\n",
              "      <th>15</th>\n",
              "      <td>Alejandro Nespral</td>\n",
              "      <td>Hablemos de la muerte con los niños | Alejandr...</td>\n",
              "      <td>0.032167</td>\n",
              "    </tr>\n",
              "    <tr>\n",
              "      <th>16</th>\n",
              "      <td>Eric Mibuari</td>\n",
              "      <td>Can credit scores be determined by cellphone d...</td>\n",
              "      <td>0.032091</td>\n",
              "    </tr>\n",
              "    <tr>\n",
              "      <th>17</th>\n",
              "      <td>Gunjan Bhardwaj</td>\n",
              "      <td>How blockchain and AI can help us decipher med...</td>\n",
              "      <td>0.032083</td>\n",
              "    </tr>\n",
              "    <tr>\n",
              "      <th>18</th>\n",
              "      <td>Shalini Unnikrishnan</td>\n",
              "      <td>We need to turn our response to crisis inside out</td>\n",
              "      <td>0.032083</td>\n",
              "    </tr>\n",
              "    <tr>\n",
              "      <th>19</th>\n",
              "      <td>Reggie Watts</td>\n",
              "      <td>Beats that defy boxes</td>\n",
              "      <td>0.032083</td>\n",
              "    </tr>\n",
              "  </tbody>\n",
              "</table>\n",
              "</div>\n",
              "      <button class=\"colab-df-convert\" onclick=\"convertToInteractive('df-1c615f37-4075-4839-8a37-84badd8f1a65')\"\n",
              "              title=\"Convert this dataframe to an interactive table.\"\n",
              "              style=\"display:none;\">\n",
              "        \n",
              "  <svg xmlns=\"http://www.w3.org/2000/svg\" height=\"24px\"viewBox=\"0 0 24 24\"\n",
              "       width=\"24px\">\n",
              "    <path d=\"M0 0h24v24H0V0z\" fill=\"none\"/>\n",
              "    <path d=\"M18.56 5.44l.94 2.06.94-2.06 2.06-.94-2.06-.94-.94-2.06-.94 2.06-2.06.94zm-11 1L8.5 8.5l.94-2.06 2.06-.94-2.06-.94L8.5 2.5l-.94 2.06-2.06.94zm10 10l.94 2.06.94-2.06 2.06-.94-2.06-.94-.94-2.06-.94 2.06-2.06.94z\"/><path d=\"M17.41 7.96l-1.37-1.37c-.4-.4-.92-.59-1.43-.59-.52 0-1.04.2-1.43.59L10.3 9.45l-7.72 7.72c-.78.78-.78 2.05 0 2.83L4 21.41c.39.39.9.59 1.41.59.51 0 1.02-.2 1.41-.59l7.78-7.78 2.81-2.81c.8-.78.8-2.07 0-2.86zM5.41 20L4 18.59l7.72-7.72 1.47 1.35L5.41 20z\"/>\n",
              "  </svg>\n",
              "      </button>\n",
              "      \n",
              "  <style>\n",
              "    .colab-df-container {\n",
              "      display:flex;\n",
              "      flex-wrap:wrap;\n",
              "      gap: 12px;\n",
              "    }\n",
              "\n",
              "    .colab-df-convert {\n",
              "      background-color: #E8F0FE;\n",
              "      border: none;\n",
              "      border-radius: 50%;\n",
              "      cursor: pointer;\n",
              "      display: none;\n",
              "      fill: #1967D2;\n",
              "      height: 32px;\n",
              "      padding: 0 0 0 0;\n",
              "      width: 32px;\n",
              "    }\n",
              "\n",
              "    .colab-df-convert:hover {\n",
              "      background-color: #E2EBFA;\n",
              "      box-shadow: 0px 1px 2px rgba(60, 64, 67, 0.3), 0px 1px 3px 1px rgba(60, 64, 67, 0.15);\n",
              "      fill: #174EA6;\n",
              "    }\n",
              "\n",
              "    [theme=dark] .colab-df-convert {\n",
              "      background-color: #3B4455;\n",
              "      fill: #D2E3FC;\n",
              "    }\n",
              "\n",
              "    [theme=dark] .colab-df-convert:hover {\n",
              "      background-color: #434B5C;\n",
              "      box-shadow: 0px 1px 3px 1px rgba(0, 0, 0, 0.15);\n",
              "      filter: drop-shadow(0px 1px 2px rgba(0, 0, 0, 0.3));\n",
              "      fill: #FFFFFF;\n",
              "    }\n",
              "  </style>\n",
              "\n",
              "      <script>\n",
              "        const buttonEl =\n",
              "          document.querySelector('#df-1c615f37-4075-4839-8a37-84badd8f1a65 button.colab-df-convert');\n",
              "        buttonEl.style.display =\n",
              "          google.colab.kernel.accessAllowed ? 'block' : 'none';\n",
              "\n",
              "        async function convertToInteractive(key) {\n",
              "          const element = document.querySelector('#df-1c615f37-4075-4839-8a37-84badd8f1a65');\n",
              "          const dataTable =\n",
              "            await google.colab.kernel.invokeFunction('convertToInteractive',\n",
              "                                                     [key], {});\n",
              "          if (!dataTable) return;\n",
              "\n",
              "          const docLinkHtml = 'Like what you see? Visit the ' +\n",
              "            '<a target=\"_blank\" href=https://colab.research.google.com/notebooks/data_table.ipynb>data table notebook</a>'\n",
              "            + ' to learn more about interactive tables.';\n",
              "          element.innerHTML = '';\n",
              "          dataTable['output_type'] = 'display_data';\n",
              "          await google.colab.output.renderOutput(dataTable, element);\n",
              "          const docLink = document.createElement('div');\n",
              "          docLink.innerHTML = docLinkHtml;\n",
              "          element.appendChild(docLink);\n",
              "        }\n",
              "      </script>\n",
              "    </div>\n",
              "  </div>\n",
              "  "
            ]
          },
          "metadata": {},
          "execution_count": 183
        }
      ],
      "source": [
        "ted['ratio']=ted['likes'].div(ted['views'])\n",
        "ted.sort_values(by='ratio', ascending=False, ignore_index=True).nlargest(20, 'ratio')[['author', 'title', 'ratio']]"
      ],
      "metadata": {
        "pycharm": {
          "name": "#%%\n"
        },
        "colab": {
          "base_uri": "https://localhost:8080/",
          "height": 677
        },
        "id": "3Pzdx8CUvHtt",
        "outputId": "beecf348-1fa3-4418-93a4-dd4fc630bf84"
      }
    },
    {
      "cell_type": "markdown",
      "source": [
        "Si può osservare che nessuno dei talks più visti o con più likes compare nella classifica dei talks con il rapporto migliore."
      ],
      "metadata": {
        "collapsed": false,
        "pycharm": {
          "name": "#%% md\n"
        },
        "id": "zdTX9Y3KvHtt"
      }
    },
    {
      "cell_type": "markdown",
      "source": [
        "Andiamo a vedere quali sono gli autori che hanno prodotto il maggior numero di talks e quali hanno ottenuto il maggior numero di views per vedere se è presente una correlazione tra le due cose."
      ],
      "metadata": {
        "collapsed": false,
        "pycharm": {
          "name": "#%% md\n"
        },
        "id": "j9lcSaPlvHtt"
      }
    },
    {
      "cell_type": "markdown",
      "source": [
        "Adesso vogliamo andare a vedere se è presente una preferenza sui mesi dove pubblicare i talks."
      ],
      "metadata": {
        "collapsed": false,
        "pycharm": {
          "name": "#%% md\n"
        },
        "id": "5yB00jtQvHtu"
      }
    },
    {
      "cell_type": "markdown",
      "source": [
        "Si può notare come nei mesi dove sono presenti le festività (gennaio, agosto e dicembre) sono stati pubblicati il minor numero di talks.\n",
        "\n",
        "Adesso andiamo a vedere l'andamento annuale di visualizzazioni e pubblicazioni di nuovi talks."
      ],
      "metadata": {
        "collapsed": false,
        "pycharm": {
          "name": "#%% md\n"
        },
        "id": "ROQFz1y1vHtu"
      }
    },
    {
      "cell_type": "code",
      "execution_count": 184,
      "outputs": [],
      "source": [
        "ted['year'] = [int(x) for x in ted['date'].str.split(' ', expand=True)[1]]"
      ],
      "metadata": {
        "pycharm": {
          "name": "#%%\n"
        },
        "id": "7L33t0EkvHtu"
      }
    },
    {
      "cell_type": "markdown",
      "source": [
        "È possibile osservare che l'andamento del numero di pubblicazioni in un anno è simile a quello del numero di views, ma dal 2015 al 2019 i due andamenti sono andati diversamente, infatti mentre dal 2015 si è iniziato a registrare un calo nel numero di views, il numero di pubblicazioni ha continuato a crescere sino al 2019.\n",
        "Per osservare meglio i due andamenti andiamo a sovrapporre i due grafici."
      ],
      "metadata": {
        "collapsed": false,
        "pycharm": {
          "name": "#%% md\n"
        },
        "id": "3h1aU5POvHtu"
      }
    },
    {
      "cell_type": "markdown",
      "source": [
        "È possibile notare come in realtà sino al 2019 sono stati prodotti un numero sempre maggiore di talks, quindi questo ci fa pensare che a partire dal 2015 la gente ha iniziato a perdere interesse siccome è presente un aumento di talks prodotti (sino al 2019), ma una diminuzione nelle views.\n",
        "<br><br>\n",
        "Per vedere meglio i risultati ottenuti, andiamo a creare un grafico contenente i due risultati ottenuti. In questo caso i dati vengono normalizzati. Vengono rappresentati con la riga rossa il numero di talks prodotti e con la riga blu il numero di views registrate."
      ],
      "metadata": {
        "collapsed": false,
        "pycharm": {
          "name": "#%% md\n"
        },
        "id": "j5xA7hPKvHtv"
      }
    },
    {
      "cell_type": "code",
      "execution_count": 185,
      "outputs": [
        {
          "output_type": "display_data",
          "data": {
            "text/plain": [
              "<Figure size 432x288 with 1 Axes>"
            ],
            "image/png": "[encoded data removed]"
          },
          "metadata": {
            "needs_background": "light"
          }
        }
      ],
      "source": [
        "yearN = ted['year'].value_counts(normalize=True).sort_index()\n",
        "viewsN = views.div(views.sum())\n",
        "\n",
        "ax = viewsN.plot(kind='line', color='blue')\n",
        "ax = yearN.plot(ax=ax, kind='line', color='red')"
      ],
      "metadata": {
        "pycharm": {
          "name": "#%%\n"
        },
        "colab": {
          "base_uri": "https://localhost:8080/",
          "height": 279
        },
        "id": "pblOWpQtvHtv",
        "outputId": "800bf3c9-47d7-4978-908a-e7611d4b6134"
      }
    },
    {
      "cell_type": "markdown",
      "source": [
        "Un altro andamento che vogliamo osservare è quello del numero medio di views per anno. Sicuramente ci aspettiamo che a partire dal 2015 sia calato siccome, come abbiamo visto in precedenza, dal 2015 al 2019 sono aumentati il numero di talks prodotti, ma diminuiva il numero di views."
      ],
      "metadata": {
        "collapsed": false,
        "pycharm": {
          "name": "#%% md\n"
        },
        "id": "c7Azeo4vvHtv"
      }
    },
    {
      "cell_type": "code",
      "execution_count": 186,
      "outputs": [
        {
          "output_type": "display_data",
          "data": {
            "text/plain": [
              "<Figure size 432x288 with 1 Axes>"
            ],
            "image/png": "[encoded data removed]"
          },
          "metadata": {
            "needs_background": "light"
          }
        }
      ],
      "source": [
        "meanV = ted.groupby('year')['views'].mean().sort_index()\n",
        "ax = meanV.plot(kind='bar')"
      ],
      "metadata": {
        "pycharm": {
          "name": "#%%\n"
        },
        "colab": {
          "base_uri": "https://localhost:8080/",
          "height": 306
        },
        "id": "X9rCq9ALvHtv",
        "outputId": "93ceb1e3-6943-4cc3-d52b-df3f444278c2"
      }
    },
    {
      "cell_type": "markdown",
      "source": [
        "Come ci aspettavamo a partire dal 2015 c'è stata una continua diminuzione del numero medio di views. Gli anni in cui le views medie sono andate meglio sono il 2004 ed il 2006. Andiamo a vedere quali sono i talks con più views pubblicati in quei due anni.\n"
      ],
      "metadata": {
        "collapsed": false,
        "pycharm": {
          "name": "#%% md\n"
        },
        "id": "-N6BEaYOvHtv"
      }
    },
    {
      "cell_type": "code",
      "execution_count": 187,
      "outputs": [
        {
          "output_type": "execute_result",
          "data": {
            "text/plain": [
              "                    author                                         title  \\\n",
              "0              Dan Gilbert           The surprising science of happiness   \n",
              "1              Keith Barry                                   Brain magic   \n",
              "2          Matthieu Ricard                       The habits of happiness   \n",
              "3         Malcolm Gladwell         Choice, happiness and spaghetti sauce   \n",
              "4                 Ze Frank                               Nerdcore comedy   \n",
              "5  Mihaly Csikszentmihalyi                 Flow, the secret to happiness   \n",
              "6          Martin Seligman            The new era of positive psychology   \n",
              "7            Steven Levitt             The freakonomics of crack dealing   \n",
              "8    Susan Savage-Rumbaugh                  The gentle genius of bonobos   \n",
              "9                Al Seckel  Visual illusions that show how we (mis)think   \n",
              "\n",
              "      views  \n",
              "0  19000000  \n",
              "1  18000000  \n",
              "2  10000000  \n",
              "3   9200000  \n",
              "4   7300000  \n",
              "5   6800000  \n",
              "6   6600000  \n",
              "7   4200000  \n",
              "8   2900000  \n",
              "9   2600000  "
            ],
            "text/html": [
              "\n",
              "  <div id=\"df-0bc9a772-a202-4ab9-b66e-e64001f61e9c\">\n",
              "    <div class=\"colab-df-container\">\n",
              "      <div>\n",
              "<style scoped>\n",
              "    .dataframe tbody tr th:only-of-type {\n",
              "        vertical-align: middle;\n",
              "    }\n",
              "\n",
              "    .dataframe tbody tr th {\n",
              "        vertical-align: top;\n",
              "    }\n",
              "\n",
              "    .dataframe thead th {\n",
              "        text-align: right;\n",
              "    }\n",
              "</style>\n",
              "<table border=\"1\" class=\"dataframe\">\n",
              "  <thead>\n",
              "    <tr style=\"text-align: right;\">\n",
              "      <th></th>\n",
              "      <th>author</th>\n",
              "      <th>title</th>\n",
              "      <th>views</th>\n",
              "    </tr>\n",
              "  </thead>\n",
              "  <tbody>\n",
              "    <tr>\n",
              "      <th>0</th>\n",
              "      <td>Dan Gilbert</td>\n",
              "      <td>The surprising science of happiness</td>\n",
              "      <td>19000000</td>\n",
              "    </tr>\n",
              "    <tr>\n",
              "      <th>1</th>\n",
              "      <td>Keith Barry</td>\n",
              "      <td>Brain magic</td>\n",
              "      <td>18000000</td>\n",
              "    </tr>\n",
              "    <tr>\n",
              "      <th>2</th>\n",
              "      <td>Matthieu Ricard</td>\n",
              "      <td>The habits of happiness</td>\n",
              "      <td>10000000</td>\n",
              "    </tr>\n",
              "    <tr>\n",
              "      <th>3</th>\n",
              "      <td>Malcolm Gladwell</td>\n",
              "      <td>Choice, happiness and spaghetti sauce</td>\n",
              "      <td>9200000</td>\n",
              "    </tr>\n",
              "    <tr>\n",
              "      <th>4</th>\n",
              "      <td>Ze Frank</td>\n",
              "      <td>Nerdcore comedy</td>\n",
              "      <td>7300000</td>\n",
              "    </tr>\n",
              "    <tr>\n",
              "      <th>5</th>\n",
              "      <td>Mihaly Csikszentmihalyi</td>\n",
              "      <td>Flow, the secret to happiness</td>\n",
              "      <td>6800000</td>\n",
              "    </tr>\n",
              "    <tr>\n",
              "      <th>6</th>\n",
              "      <td>Martin Seligman</td>\n",
              "      <td>The new era of positive psychology</td>\n",
              "      <td>6600000</td>\n",
              "    </tr>\n",
              "    <tr>\n",
              "      <th>7</th>\n",
              "      <td>Steven Levitt</td>\n",
              "      <td>The freakonomics of crack dealing</td>\n",
              "      <td>4200000</td>\n",
              "    </tr>\n",
              "    <tr>\n",
              "      <th>8</th>\n",
              "      <td>Susan Savage-Rumbaugh</td>\n",
              "      <td>The gentle genius of bonobos</td>\n",
              "      <td>2900000</td>\n",
              "    </tr>\n",
              "    <tr>\n",
              "      <th>9</th>\n",
              "      <td>Al Seckel</td>\n",
              "      <td>Visual illusions that show how we (mis)think</td>\n",
              "      <td>2600000</td>\n",
              "    </tr>\n",
              "  </tbody>\n",
              "</table>\n",
              "</div>\n",
              "      <button class=\"colab-df-convert\" onclick=\"convertToInteractive('df-0bc9a772-a202-4ab9-b66e-e64001f61e9c')\"\n",
              "              title=\"Convert this dataframe to an interactive table.\"\n",
              "              style=\"display:none;\">\n",
              "        \n",
              "  <svg xmlns=\"http://www.w3.org/2000/svg\" height=\"24px\"viewBox=\"0 0 24 24\"\n",
              "       width=\"24px\">\n",
              "    <path d=\"M0 0h24v24H0V0z\" fill=\"none\"/>\n",
              "    <path d=\"M18.56 5.44l.94 2.06.94-2.06 2.06-.94-2.06-.94-.94-2.06-.94 2.06-2.06.94zm-11 1L8.5 8.5l.94-2.06 2.06-.94-2.06-.94L8.5 2.5l-.94 2.06-2.06.94zm10 10l.94 2.06.94-2.06 2.06-.94-2.06-.94-.94-2.06-.94 2.06-2.06.94z\"/><path d=\"M17.41 7.96l-1.37-1.37c-.4-.4-.92-.59-1.43-.59-.52 0-1.04.2-1.43.59L10.3 9.45l-7.72 7.72c-.78.78-.78 2.05 0 2.83L4 21.41c.39.39.9.59 1.41.59.51 0 1.02-.2 1.41-.59l7.78-7.78 2.81-2.81c.8-.78.8-2.07 0-2.86zM5.41 20L4 18.59l7.72-7.72 1.47 1.35L5.41 20z\"/>\n",
              "  </svg>\n",
              "      </button>\n",
              "      \n",
              "  <style>\n",
              "    .colab-df-container {\n",
              "      display:flex;\n",
              "      flex-wrap:wrap;\n",
              "      gap: 12px;\n",
              "    }\n",
              "\n",
              "    .colab-df-convert {\n",
              "      background-color: #E8F0FE;\n",
              "      border: none;\n",
              "      border-radius: 50%;\n",
              "      cursor: pointer;\n",
              "      display: none;\n",
              "      fill: #1967D2;\n",
              "      height: 32px;\n",
              "      padding: 0 0 0 0;\n",
              "      width: 32px;\n",
              "    }\n",
              "\n",
              "    .colab-df-convert:hover {\n",
              "      background-color: #E2EBFA;\n",
              "      box-shadow: 0px 1px 2px rgba(60, 64, 67, 0.3), 0px 1px 3px 1px rgba(60, 64, 67, 0.15);\n",
              "      fill: #174EA6;\n",
              "    }\n",
              "\n",
              "    [theme=dark] .colab-df-convert {\n",
              "      background-color: #3B4455;\n",
              "      fill: #D2E3FC;\n",
              "    }\n",
              "\n",
              "    [theme=dark] .colab-df-convert:hover {\n",
              "      background-color: #434B5C;\n",
              "      box-shadow: 0px 1px 3px 1px rgba(0, 0, 0, 0.15);\n",
              "      filter: drop-shadow(0px 1px 2px rgba(0, 0, 0, 0.3));\n",
              "      fill: #FFFFFF;\n",
              "    }\n",
              "  </style>\n",
              "\n",
              "      <script>\n",
              "        const buttonEl =\n",
              "          document.querySelector('#df-0bc9a772-a202-4ab9-b66e-e64001f61e9c button.colab-df-convert');\n",
              "        buttonEl.style.display =\n",
              "          google.colab.kernel.accessAllowed ? 'block' : 'none';\n",
              "\n",
              "        async function convertToInteractive(key) {\n",
              "          const element = document.querySelector('#df-0bc9a772-a202-4ab9-b66e-e64001f61e9c');\n",
              "          const dataTable =\n",
              "            await google.colab.kernel.invokeFunction('convertToInteractive',\n",
              "                                                     [key], {});\n",
              "          if (!dataTable) return;\n",
              "\n",
              "          const docLinkHtml = 'Like what you see? Visit the ' +\n",
              "            '<a target=\"_blank\" href=https://colab.research.google.com/notebooks/data_table.ipynb>data table notebook</a>'\n",
              "            + ' to learn more about interactive tables.';\n",
              "          element.innerHTML = '';\n",
              "          dataTable['output_type'] = 'display_data';\n",
              "          await google.colab.output.renderOutput(dataTable, element);\n",
              "          const docLink = document.createElement('div');\n",
              "          docLink.innerHTML = docLinkHtml;\n",
              "          element.appendChild(docLink);\n",
              "        }\n",
              "      </script>\n",
              "    </div>\n",
              "  </div>\n",
              "  "
            ]
          },
          "metadata": {},
          "execution_count": 187
        }
      ],
      "source": [
        "ted[ted['year'] == 2004].sort_values(by='views', ascending=False, ignore_index=True).nlargest(10, 'views')[['author', 'title', 'views']]"
      ],
      "metadata": {
        "pycharm": {
          "name": "#%%\n"
        },
        "colab": {
          "base_uri": "https://localhost:8080/",
          "height": 363
        },
        "id": "buC6Ak9qvHtv",
        "outputId": "e284c19f-58ef-4cd0-8948-59e8391b04b2"
      }
    },
    {
      "cell_type": "code",
      "execution_count": 188,
      "outputs": [
        {
          "output_type": "execute_result",
          "data": {
            "text/plain": [
              "             author                                             title  \\\n",
              "0  Sir Ken Robinson                       Do schools kill creativity?   \n",
              "1      Hans Rosling                   The best stats you've ever seen   \n",
              "2      Helen Fisher                         Why we love, why we cheat   \n",
              "3   Michael Shermer                   Why people believe weird things   \n",
              "4          Jeff Han  The radical promise of the multi-touch interface   \n",
              "5     Julia Sweeney                                 Letting go of God   \n",
              "6       Rick Warren                                 A life of purpose   \n",
              "7       Dan Dennett  Let's teach religion — all religion — in schools   \n",
              "8           Al Gore                       Averting the climate crisis   \n",
              "9      Sirena Huang                   An 11-year-old's magical violin   \n",
              "\n",
              "      views  \n",
              "0  72000000  \n",
              "1  15000000  \n",
              "2  12000000  \n",
              "3   7800000  \n",
              "4   4800000  \n",
              "5   4800000  \n",
              "6   4200000  \n",
              "7   4099999  \n",
              "8   3600000  \n",
              "9   3300000  "
            ],
            "text/html": [
              "\n",
              "  <div id=\"df-d0b58b54-d57e-490e-8b2e-b8dd49a8a9c6\">\n",
              "    <div class=\"colab-df-container\">\n",
              "      <div>\n",
              "<style scoped>\n",
              "    .dataframe tbody tr th:only-of-type {\n",
              "        vertical-align: middle;\n",
              "    }\n",
              "\n",
              "    .dataframe tbody tr th {\n",
              "        vertical-align: top;\n",
              "    }\n",
              "\n",
              "    .dataframe thead th {\n",
              "        text-align: right;\n",
              "    }\n",
              "</style>\n",
              "<table border=\"1\" class=\"dataframe\">\n",
              "  <thead>\n",
              "    <tr style=\"text-align: right;\">\n",
              "      <th></th>\n",
              "      <th>author</th>\n",
              "      <th>title</th>\n",
              "      <th>views</th>\n",
              "    </tr>\n",
              "  </thead>\n",
              "  <tbody>\n",
              "    <tr>\n",
              "      <th>0</th>\n",
              "      <td>Sir Ken Robinson</td>\n",
              "      <td>Do schools kill creativity?</td>\n",
              "      <td>72000000</td>\n",
              "    </tr>\n",
              "    <tr>\n",
              "      <th>1</th>\n",
              "      <td>Hans Rosling</td>\n",
              "      <td>The best stats you've ever seen</td>\n",
              "      <td>15000000</td>\n",
              "    </tr>\n",
              "    <tr>\n",
              "      <th>2</th>\n",
              "      <td>Helen Fisher</td>\n",
              "      <td>Why we love, why we cheat</td>\n",
              "      <td>12000000</td>\n",
              "    </tr>\n",
              "    <tr>\n",
              "      <th>3</th>\n",
              "      <td>Michael Shermer</td>\n",
              "      <td>Why people believe weird things</td>\n",
              "      <td>7800000</td>\n",
              "    </tr>\n",
              "    <tr>\n",
              "      <th>4</th>\n",
              "      <td>Jeff Han</td>\n",
              "      <td>The radical promise of the multi-touch interface</td>\n",
              "      <td>4800000</td>\n",
              "    </tr>\n",
              "    <tr>\n",
              "      <th>5</th>\n",
              "      <td>Julia Sweeney</td>\n",
              "      <td>Letting go of God</td>\n",
              "      <td>4800000</td>\n",
              "    </tr>\n",
              "    <tr>\n",
              "      <th>6</th>\n",
              "      <td>Rick Warren</td>\n",
              "      <td>A life of purpose</td>\n",
              "      <td>4200000</td>\n",
              "    </tr>\n",
              "    <tr>\n",
              "      <th>7</th>\n",
              "      <td>Dan Dennett</td>\n",
              "      <td>Let's teach religion — all religion — in schools</td>\n",
              "      <td>4099999</td>\n",
              "    </tr>\n",
              "    <tr>\n",
              "      <th>8</th>\n",
              "      <td>Al Gore</td>\n",
              "      <td>Averting the climate crisis</td>\n",
              "      <td>3600000</td>\n",
              "    </tr>\n",
              "    <tr>\n",
              "      <th>9</th>\n",
              "      <td>Sirena Huang</td>\n",
              "      <td>An 11-year-old's magical violin</td>\n",
              "      <td>3300000</td>\n",
              "    </tr>\n",
              "  </tbody>\n",
              "</table>\n",
              "</div>\n",
              "      <button class=\"colab-df-convert\" onclick=\"convertToInteractive('df-d0b58b54-d57e-490e-8b2e-b8dd49a8a9c6')\"\n",
              "              title=\"Convert this dataframe to an interactive table.\"\n",
              "              style=\"display:none;\">\n",
              "        \n",
              "  <svg xmlns=\"http://www.w3.org/2000/svg\" height=\"24px\"viewBox=\"0 0 24 24\"\n",
              "       width=\"24px\">\n",
              "    <path d=\"M0 0h24v24H0V0z\" fill=\"none\"/>\n",
              "    <path d=\"M18.56 5.44l.94 2.06.94-2.06 2.06-.94-2.06-.94-.94-2.06-.94 2.06-2.06.94zm-11 1L8.5 8.5l.94-2.06 2.06-.94-2.06-.94L8.5 2.5l-.94 2.06-2.06.94zm10 10l.94 2.06.94-2.06 2.06-.94-2.06-.94-.94-2.06-.94 2.06-2.06.94z\"/><path d=\"M17.41 7.96l-1.37-1.37c-.4-.4-.92-.59-1.43-.59-.52 0-1.04.2-1.43.59L10.3 9.45l-7.72 7.72c-.78.78-.78 2.05 0 2.83L4 21.41c.39.39.9.59 1.41.59.51 0 1.02-.2 1.41-.59l7.78-7.78 2.81-2.81c.8-.78.8-2.07 0-2.86zM5.41 20L4 18.59l7.72-7.72 1.47 1.35L5.41 20z\"/>\n",
              "  </svg>\n",
              "      </button>\n",
              "      \n",
              "  <style>\n",
              "    .colab-df-container {\n",
              "      display:flex;\n",
              "      flex-wrap:wrap;\n",
              "      gap: 12px;\n",
              "    }\n",
              "\n",
              "    .colab-df-convert {\n",
              "      background-color: #E8F0FE;\n",
              "      border: none;\n",
              "      border-radius: 50%;\n",
              "      cursor: pointer;\n",
              "      display: none;\n",
              "      fill: #1967D2;\n",
              "      height: 32px;\n",
              "      padding: 0 0 0 0;\n",
              "      width: 32px;\n",
              "    }\n",
              "\n",
              "    .colab-df-convert:hover {\n",
              "      background-color: #E2EBFA;\n",
              "      box-shadow: 0px 1px 2px rgba(60, 64, 67, 0.3), 0px 1px 3px 1px rgba(60, 64, 67, 0.15);\n",
              "      fill: #174EA6;\n",
              "    }\n",
              "\n",
              "    [theme=dark] .colab-df-convert {\n",
              "      background-color: #3B4455;\n",
              "      fill: #D2E3FC;\n",
              "    }\n",
              "\n",
              "    [theme=dark] .colab-df-convert:hover {\n",
              "      background-color: #434B5C;\n",
              "      box-shadow: 0px 1px 3px 1px rgba(0, 0, 0, 0.15);\n",
              "      filter: drop-shadow(0px 1px 2px rgba(0, 0, 0, 0.3));\n",
              "      fill: #FFFFFF;\n",
              "    }\n",
              "  </style>\n",
              "\n",
              "      <script>\n",
              "        const buttonEl =\n",
              "          document.querySelector('#df-d0b58b54-d57e-490e-8b2e-b8dd49a8a9c6 button.colab-df-convert');\n",
              "        buttonEl.style.display =\n",
              "          google.colab.kernel.accessAllowed ? 'block' : 'none';\n",
              "\n",
              "        async function convertToInteractive(key) {\n",
              "          const element = document.querySelector('#df-d0b58b54-d57e-490e-8b2e-b8dd49a8a9c6');\n",
              "          const dataTable =\n",
              "            await google.colab.kernel.invokeFunction('convertToInteractive',\n",
              "                                                     [key], {});\n",
              "          if (!dataTable) return;\n",
              "\n",
              "          const docLinkHtml = 'Like what you see? Visit the ' +\n",
              "            '<a target=\"_blank\" href=https://colab.research.google.com/notebooks/data_table.ipynb>data table notebook</a>'\n",
              "            + ' to learn more about interactive tables.';\n",
              "          element.innerHTML = '';\n",
              "          dataTable['output_type'] = 'display_data';\n",
              "          await google.colab.output.renderOutput(dataTable, element);\n",
              "          const docLink = document.createElement('div');\n",
              "          docLink.innerHTML = docLinkHtml;\n",
              "          element.appendChild(docLink);\n",
              "        }\n",
              "      </script>\n",
              "    </div>\n",
              "  </div>\n",
              "  "
            ]
          },
          "metadata": {},
          "execution_count": 188
        }
      ],
      "source": [
        "ted[ted['year'] == 2006].sort_values(by='views', ascending=False, ignore_index=True).nlargest(10, 'views')[['author', 'title', 'views']]"
      ],
      "metadata": {
        "pycharm": {
          "name": "#%%\n"
        },
        "colab": {
          "base_uri": "https://localhost:8080/",
          "height": 363
        },
        "id": "c6POKCFLvHtw",
        "outputId": "d0811e1b-8f2f-4580-ce96-bb20d89d4e67"
      }
    },
    {
      "cell_type": "markdown",
      "source": [
        "Si può notare come solo nel 2006 è presente uno dei 20 talks più visti in assoluto. Adesso andiamo a confrontare la distribuzione delle views in questi due anni con la distribuzione generale."
      ],
      "metadata": {
        "collapsed": false,
        "pycharm": {
          "name": "#%% md\n"
        },
        "id": "VXKhbJmIvHtw"
      }
    },
    {
      "cell_type": "code",
      "execution_count": 189,
      "outputs": [
        {
          "output_type": "display_data",
          "data": {
            "text/plain": [
              "<Figure size 1080x360 with 3 Axes>"
            ],
            "image/png": "[encoded data removed]"
          },
          "metadata": {
            "needs_background": "light"
          }
        }
      ],
      "source": [
        "plt.figure(figsize=(15,5))\n",
        "labels = np.arange(0, 9e7, 1e7)\n",
        "\n",
        "plt.subplot(1,3,1)\n",
        "ax = ted[ted['year'] == 2004]['views'].plot(kind='box', title='2004')\n",
        "_ = ax.set_yticks(labels)\n",
        "\n",
        "plt.subplot(1,3,2)\n",
        "ax = ted[ted['year'] == 2006]['views'].plot(kind='box', title='2006')\n",
        "_ = ax.set_yticks(labels)\n",
        "\n",
        "plt.subplot(1,3,3)\n",
        "ax = ted['views'].plot(kind='box', title='Generale')\n",
        "_ = ax.set_yticks(labels)"
      ],
      "metadata": {
        "pycharm": {
          "name": "#%%\n"
        },
        "colab": {
          "base_uri": "https://localhost:8080/",
          "height": 336
        },
        "id": "gs54q3VEvHtw",
        "outputId": "1410490f-3a6d-4e36-e855-f80e28677e6e"
      }
    },
    {
      "cell_type": "markdown",
      "source": [
        "Per poter vedere meglio la distribuzione, andiamo a vedere la distribuzione considerando solo i talks con meno di 1e7 views."
      ],
      "metadata": {
        "collapsed": false,
        "pycharm": {
          "name": "#%% md\n"
        },
        "id": "ff-FrICBvHtw"
      }
    },
    {
      "cell_type": "code",
      "execution_count": 190,
      "outputs": [
        {
          "output_type": "display_data",
          "data": {
            "text/plain": [
              "<Figure size 1080x360 with 3 Axes>"
            ],
            "image/png": "[encoded data removed]"
          },
          "metadata": {
            "needs_background": "light"
          }
        }
      ],
      "source": [
        "plt.figure(figsize=(15,5))\n",
        "labels = np.arange(0, 1e7+2e6, 1e6)\n",
        "\n",
        "\n",
        "plt.subplot(1,3,1)\n",
        "ax = ted[(ted['year'] == 2004) & (ted['views'] < 1e7)]['views'].plot(kind='box', title='2004 e meno di 1e7 views')\n",
        "_ = ax.set_yticks(labels)\n",
        "\n",
        "plt.subplot(1,3,2)\n",
        "ax = ted[(ted['year'] == 2006) & (ted['views'] < 1e7)]['views'].plot(kind='box', title='2006 e meno di 1e7 views')\n",
        "_ = ax.set_yticks(labels)\n",
        "\n",
        "plt.subplot(1,3,3)\n",
        "ax = ted[ted['views'] < 1e7]['views'].plot(kind='box', title='Meno di 1e7 views')\n",
        "_ = ax.set_yticks(labels)"
      ],
      "metadata": {
        "pycharm": {
          "name": "#%%\n"
        },
        "colab": {
          "base_uri": "https://localhost:8080/",
          "height": 336
        },
        "id": "2aGjHGDlvHtw",
        "outputId": "cec8bd7f-e1fa-4052-e7dd-e3ced31f2755"
      }
    },
    {
      "cell_type": "markdown",
      "source": [
        "Si può osservare che la distribuzione delle views dei talks prodotti nel 2004 e nel 2006 e quella generale sono molto simili tra loro."
      ],
      "metadata": {
        "collapsed": false,
        "pycharm": {
          "name": "#%% md\n"
        },
        "id": "BPw5-oBzvHtz"
      }
    },
    {
      "cell_type": "markdown",
      "source": [
        "Un altro tipo di analisi che vogliamo fare è sui titoli, infatti vogliamo vedere se sono presenti delle parole che compaiono la maggior parte delle volte per provare a trovare le tematiche più comuni."
      ],
      "metadata": {
        "collapsed": false,
        "pycharm": {
          "name": "#%% md\n"
        },
        "id": "CnUwXpNcvHt0"
      }
    },
    {
      "cell_type": "markdown",
      "source": [
        ""
      ],
      "metadata": {
        "id": "ToueHfK0Zi81"
      }
    },
    {
      "cell_type": "markdown",
      "source": [
        ""
      ],
      "metadata": {
        "id": "xMJcU0sdZivj"
      }
    }
  ],
  "metadata": {
    "kernelspec": {
      "display_name": "Python 3",
      "language": "python",
      "name": "python3"
    },
    "language_info": {
      "codemirror_mode": {
        "name": "ipython",
        "version": 2
      },
      "file_extension": ".py",
      "mimetype": "text/x-python",
      "name": "python",
      "nbconvert_exporter": "python",
      "pygments_lexer": "ipython2",
      "version": "2.7.6"
    },
    "colab": {
      "name": "progetto.ipynb",
      "provenance": []
    }
  },
  "nbformat": 4,
  "nbformat_minor": 0
}
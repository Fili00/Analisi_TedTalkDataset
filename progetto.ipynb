{
  "cells": [
    {
      "cell_type": "raw",
      "metadata": {
        "collapsed": true,
        "pycharm": {
          "name": "#%% raw\n"
        },
        "id": "sg7BQp0W9SSK"
      },
      "source": [
        "Progetto realizzato da: Siri Filippo (4819642)<br>Analisi del dataset TED Talks"
      ]
    },
    {
      "cell_type": "code",
      "execution_count": 1,
      "outputs": [],
      "source": [
        "import pandas as pd\n",
        "import matplotlib.pyplot as plt\n",
        "import numpy as np\n",
        "import scipy.stats as stats\n",
        "import scipy\n",
        "from sklearn import metrics\n",
        "from sklearn.model_selection import train_test_split\n",
        "from sklearn.linear_model import LinearRegression"
      ],
      "metadata": {
        "pycharm": {
          "name": "#%%\n"
        },
        "id": "vcJ2DJoj9SSM"
      }
    },
    {
      "cell_type": "raw",
      "source": [
        "Per poter analizzare il dataset iniziamo importando il file csv e vedendo le colonne presenti"
      ],
      "metadata": {
        "collapsed": false,
        "pycharm": {
          "name": "#%% raw\n"
        },
        "id": "RMFKWkAc9SSN"
      }
    },
    {
      "cell_type": "code",
      "execution_count": 2,
      "outputs": [
        {
          "output_type": "execute_result",
          "data": {
            "text/plain": [
              "                                               title                author  \\\n",
              "0      Climate action needs new frontline leadership  Ozawa Bineshi Albert   \n",
              "1        The dark history of the overthrow of Hawaii         Sydney Iaukea   \n",
              "2     How play can spark new ideas for your business         Martin Reeves   \n",
              "3  Why is China appointing judges to combat clima...     James K. Thornton   \n",
              "4     Cement's carbon problem — and 2 ways to fix it       Mahendra Singhi   \n",
              "\n",
              "             date   views  likes  \\\n",
              "0   December 2021  404000  12000   \n",
              "1   February 2022  214000   6400   \n",
              "2  September 2021  412000  12000   \n",
              "3    October 2021  427000  12000   \n",
              "4    October 2021    2400     72   \n",
              "\n",
              "                                                link  \n",
              "0  https://ted.com/talks/ozawa_bineshi_albert_cli...  \n",
              "1  https://ted.com/talks/sydney_iaukea_the_dark_h...  \n",
              "2  https://ted.com/talks/martin_reeves_how_play_c...  \n",
              "3  https://ted.com/talks/james_k_thornton_why_is_...  \n",
              "4  https://ted.com/talks/mahendra_singhi_cement_s...  "
            ],
            "text/html": [
              "\n",
              "  <div id=\"df-340c94d6-35dc-4a11-a543-0f56df713b7a\">\n",
              "    <div class=\"colab-df-container\">\n",
              "      <div>\n",
              "<style scoped>\n",
              "    .dataframe tbody tr th:only-of-type {\n",
              "        vertical-align: middle;\n",
              "    }\n",
              "\n",
              "    .dataframe tbody tr th {\n",
              "        vertical-align: top;\n",
              "    }\n",
              "\n",
              "    .dataframe thead th {\n",
              "        text-align: right;\n",
              "    }\n",
              "</style>\n",
              "<table border=\"1\" class=\"dataframe\">\n",
              "  <thead>\n",
              "    <tr style=\"text-align: right;\">\n",
              "      <th></th>\n",
              "      <th>title</th>\n",
              "      <th>author</th>\n",
              "      <th>date</th>\n",
              "      <th>views</th>\n",
              "      <th>likes</th>\n",
              "      <th>link</th>\n",
              "    </tr>\n",
              "  </thead>\n",
              "  <tbody>\n",
              "    <tr>\n",
              "      <th>0</th>\n",
              "      <td>Climate action needs new frontline leadership</td>\n",
              "      <td>Ozawa Bineshi Albert</td>\n",
              "      <td>December 2021</td>\n",
              "      <td>404000</td>\n",
              "      <td>12000</td>\n",
              "      <td>https://ted.com/talks/ozawa_bineshi_albert_cli...</td>\n",
              "    </tr>\n",
              "    <tr>\n",
              "      <th>1</th>\n",
              "      <td>The dark history of the overthrow of Hawaii</td>\n",
              "      <td>Sydney Iaukea</td>\n",
              "      <td>February 2022</td>\n",
              "      <td>214000</td>\n",
              "      <td>6400</td>\n",
              "      <td>https://ted.com/talks/sydney_iaukea_the_dark_h...</td>\n",
              "    </tr>\n",
              "    <tr>\n",
              "      <th>2</th>\n",
              "      <td>How play can spark new ideas for your business</td>\n",
              "      <td>Martin Reeves</td>\n",
              "      <td>September 2021</td>\n",
              "      <td>412000</td>\n",
              "      <td>12000</td>\n",
              "      <td>https://ted.com/talks/martin_reeves_how_play_c...</td>\n",
              "    </tr>\n",
              "    <tr>\n",
              "      <th>3</th>\n",
              "      <td>Why is China appointing judges to combat clima...</td>\n",
              "      <td>James K. Thornton</td>\n",
              "      <td>October 2021</td>\n",
              "      <td>427000</td>\n",
              "      <td>12000</td>\n",
              "      <td>https://ted.com/talks/james_k_thornton_why_is_...</td>\n",
              "    </tr>\n",
              "    <tr>\n",
              "      <th>4</th>\n",
              "      <td>Cement's carbon problem — and 2 ways to fix it</td>\n",
              "      <td>Mahendra Singhi</td>\n",
              "      <td>October 2021</td>\n",
              "      <td>2400</td>\n",
              "      <td>72</td>\n",
              "      <td>https://ted.com/talks/mahendra_singhi_cement_s...</td>\n",
              "    </tr>\n",
              "  </tbody>\n",
              "</table>\n",
              "</div>\n",
              "      <button class=\"colab-df-convert\" onclick=\"convertToInteractive('df-340c94d6-35dc-4a11-a543-0f56df713b7a')\"\n",
              "              title=\"Convert this dataframe to an interactive table.\"\n",
              "              style=\"display:none;\">\n",
              "        \n",
              "  <svg xmlns=\"http://www.w3.org/2000/svg\" height=\"24px\"viewBox=\"0 0 24 24\"\n",
              "       width=\"24px\">\n",
              "    <path d=\"M0 0h24v24H0V0z\" fill=\"none\"/>\n",
              "    <path d=\"M18.56 5.44l.94 2.06.94-2.06 2.06-.94-2.06-.94-.94-2.06-.94 2.06-2.06.94zm-11 1L8.5 8.5l.94-2.06 2.06-.94-2.06-.94L8.5 2.5l-.94 2.06-2.06.94zm10 10l.94 2.06.94-2.06 2.06-.94-2.06-.94-.94-2.06-.94 2.06-2.06.94z\"/><path d=\"M17.41 7.96l-1.37-1.37c-.4-.4-.92-.59-1.43-.59-.52 0-1.04.2-1.43.59L10.3 9.45l-7.72 7.72c-.78.78-.78 2.05 0 2.83L4 21.41c.39.39.9.59 1.41.59.51 0 1.02-.2 1.41-.59l7.78-7.78 2.81-2.81c.8-.78.8-2.07 0-2.86zM5.41 20L4 18.59l7.72-7.72 1.47 1.35L5.41 20z\"/>\n",
              "  </svg>\n",
              "      </button>\n",
              "      \n",
              "  <style>\n",
              "    .colab-df-container {\n",
              "      display:flex;\n",
              "      flex-wrap:wrap;\n",
              "      gap: 12px;\n",
              "    }\n",
              "\n",
              "    .colab-df-convert {\n",
              "      background-color: #E8F0FE;\n",
              "      border: none;\n",
              "      border-radius: 50%;\n",
              "      cursor: pointer;\n",
              "      display: none;\n",
              "      fill: #1967D2;\n",
              "      height: 32px;\n",
              "      padding: 0 0 0 0;\n",
              "      width: 32px;\n",
              "    }\n",
              "\n",
              "    .colab-df-convert:hover {\n",
              "      background-color: #E2EBFA;\n",
              "      box-shadow: 0px 1px 2px rgba(60, 64, 67, 0.3), 0px 1px 3px 1px rgba(60, 64, 67, 0.15);\n",
              "      fill: #174EA6;\n",
              "    }\n",
              "\n",
              "    [theme=dark] .colab-df-convert {\n",
              "      background-color: #3B4455;\n",
              "      fill: #D2E3FC;\n",
              "    }\n",
              "\n",
              "    [theme=dark] .colab-df-convert:hover {\n",
              "      background-color: #434B5C;\n",
              "      box-shadow: 0px 1px 3px 1px rgba(0, 0, 0, 0.15);\n",
              "      filter: drop-shadow(0px 1px 2px rgba(0, 0, 0, 0.3));\n",
              "      fill: #FFFFFF;\n",
              "    }\n",
              "  </style>\n",
              "\n",
              "      <script>\n",
              "        const buttonEl =\n",
              "          document.querySelector('#df-340c94d6-35dc-4a11-a543-0f56df713b7a button.colab-df-convert');\n",
              "        buttonEl.style.display =\n",
              "          google.colab.kernel.accessAllowed ? 'block' : 'none';\n",
              "\n",
              "        async function convertToInteractive(key) {\n",
              "          const element = document.querySelector('#df-340c94d6-35dc-4a11-a543-0f56df713b7a');\n",
              "          const dataTable =\n",
              "            await google.colab.kernel.invokeFunction('convertToInteractive',\n",
              "                                                     [key], {});\n",
              "          if (!dataTable) return;\n",
              "\n",
              "          const docLinkHtml = 'Like what you see? Visit the ' +\n",
              "            '<a target=\"_blank\" href=https://colab.research.google.com/notebooks/data_table.ipynb>data table notebook</a>'\n",
              "            + ' to learn more about interactive tables.';\n",
              "          element.innerHTML = '';\n",
              "          dataTable['output_type'] = 'display_data';\n",
              "          await google.colab.output.renderOutput(dataTable, element);\n",
              "          const docLink = document.createElement('div');\n",
              "          docLink.innerHTML = docLinkHtml;\n",
              "          element.appendChild(docLink);\n",
              "        }\n",
              "      </script>\n",
              "    </div>\n",
              "  </div>\n",
              "  "
            ]
          },
          "metadata": {},
          "execution_count": 2
        }
      ],
      "source": [
        "ted = pd.read_csv('data.csv')\n",
        "ted.head()"
      ],
      "metadata": {
        "pycharm": {
          "name": "#%%\n"
        },
        "colab": {
          "base_uri": "https://localhost:8080/",
          "height": 206
        },
        "id": "o301ghRo9SSN",
        "outputId": "65b0ff05-eb5a-4496-f07a-ac2101b29bc9"
      }
    },
    {
      "cell_type": "raw",
      "source": [
        "Adesso vogliamo osservare anche la dimensione del dataset"
      ],
      "metadata": {
        "collapsed": false,
        "pycharm": {
          "name": "#%% raw\n"
        },
        "id": "ruwxBCvo9SSP"
      }
    },
    {
      "cell_type": "code",
      "execution_count": 3,
      "outputs": [
        {
          "output_type": "execute_result",
          "data": {
            "text/plain": [
              "(5440, 6)"
            ]
          },
          "metadata": {},
          "execution_count": 3
        }
      ],
      "source": [
        "ted.shape"
      ],
      "metadata": {
        "pycharm": {
          "name": "#%%\n"
        },
        "colab": {
          "base_uri": "https://localhost:8080/"
        },
        "id": "DXeSe-ND9SSP",
        "outputId": "b079250f-f1d6-4a41-b032-4f5cf9b1ae1d"
      }
    },
    {
      "cell_type": "raw",
      "source": [
        "Vogliamo fare una prima analisi dei dati andando ad fare una prima analisi di ogni feature. Per farlo dividiamo le features in quantitative e qualitative"
      ],
      "metadata": {
        "collapsed": false,
        "pycharm": {
          "name": "#%% raw\n"
        },
        "id": "X2fllfEg9SSP"
      }
    },
    {
      "cell_type": "code",
      "execution_count": 4,
      "outputs": [],
      "source": [
        "ted_quantitative = ted[['views','likes']]\n",
        "ted_qualitative = ted[['title', 'author', 'date', 'link']]"
      ],
      "metadata": {
        "pycharm": {
          "name": "#%%\n"
        },
        "id": "MsjNn1f09SSQ"
      }
    },
    {
      "cell_type": "code",
      "execution_count": 5,
      "outputs": [
        {
          "output_type": "execute_result",
          "data": {
            "text/plain": [
              "                views          likes\n",
              "count      5440.00000     5440.00000\n",
              "mean    2061575.95790    62607.61673\n",
              "std     3567097.76512   107646.76946\n",
              "min         532.00000       15.00000\n",
              "25%      670750.00000    20000.00000\n",
              "50%     1300000.00000    40500.00000\n",
              "75%     2100000.00000    65000.00000\n",
              "max    72000000.00000  2100000.00000"
            ],
            "text/html": [
              "\n",
              "  <div id=\"df-44635cb3-386c-4b3d-9a5d-e337f70ce23a\">\n",
              "    <div class=\"colab-df-container\">\n",
              "      <div>\n",
              "<style scoped>\n",
              "    .dataframe tbody tr th:only-of-type {\n",
              "        vertical-align: middle;\n",
              "    }\n",
              "\n",
              "    .dataframe tbody tr th {\n",
              "        vertical-align: top;\n",
              "    }\n",
              "\n",
              "    .dataframe thead th {\n",
              "        text-align: right;\n",
              "    }\n",
              "</style>\n",
              "<table border=\"1\" class=\"dataframe\">\n",
              "  <thead>\n",
              "    <tr style=\"text-align: right;\">\n",
              "      <th></th>\n",
              "      <th>views</th>\n",
              "      <th>likes</th>\n",
              "    </tr>\n",
              "  </thead>\n",
              "  <tbody>\n",
              "    <tr>\n",
              "      <th>count</th>\n",
              "      <td>5440.00000</td>\n",
              "      <td>5440.00000</td>\n",
              "    </tr>\n",
              "    <tr>\n",
              "      <th>mean</th>\n",
              "      <td>2061575.95790</td>\n",
              "      <td>62607.61673</td>\n",
              "    </tr>\n",
              "    <tr>\n",
              "      <th>std</th>\n",
              "      <td>3567097.76512</td>\n",
              "      <td>107646.76946</td>\n",
              "    </tr>\n",
              "    <tr>\n",
              "      <th>min</th>\n",
              "      <td>532.00000</td>\n",
              "      <td>15.00000</td>\n",
              "    </tr>\n",
              "    <tr>\n",
              "      <th>25%</th>\n",
              "      <td>670750.00000</td>\n",
              "      <td>20000.00000</td>\n",
              "    </tr>\n",
              "    <tr>\n",
              "      <th>50%</th>\n",
              "      <td>1300000.00000</td>\n",
              "      <td>40500.00000</td>\n",
              "    </tr>\n",
              "    <tr>\n",
              "      <th>75%</th>\n",
              "      <td>2100000.00000</td>\n",
              "      <td>65000.00000</td>\n",
              "    </tr>\n",
              "    <tr>\n",
              "      <th>max</th>\n",
              "      <td>72000000.00000</td>\n",
              "      <td>2100000.00000</td>\n",
              "    </tr>\n",
              "  </tbody>\n",
              "</table>\n",
              "</div>\n",
              "      <button class=\"colab-df-convert\" onclick=\"convertToInteractive('df-44635cb3-386c-4b3d-9a5d-e337f70ce23a')\"\n",
              "              title=\"Convert this dataframe to an interactive table.\"\n",
              "              style=\"display:none;\">\n",
              "        \n",
              "  <svg xmlns=\"http://www.w3.org/2000/svg\" height=\"24px\"viewBox=\"0 0 24 24\"\n",
              "       width=\"24px\">\n",
              "    <path d=\"M0 0h24v24H0V0z\" fill=\"none\"/>\n",
              "    <path d=\"M18.56 5.44l.94 2.06.94-2.06 2.06-.94-2.06-.94-.94-2.06-.94 2.06-2.06.94zm-11 1L8.5 8.5l.94-2.06 2.06-.94-2.06-.94L8.5 2.5l-.94 2.06-2.06.94zm10 10l.94 2.06.94-2.06 2.06-.94-2.06-.94-.94-2.06-.94 2.06-2.06.94z\"/><path d=\"M17.41 7.96l-1.37-1.37c-.4-.4-.92-.59-1.43-.59-.52 0-1.04.2-1.43.59L10.3 9.45l-7.72 7.72c-.78.78-.78 2.05 0 2.83L4 21.41c.39.39.9.59 1.41.59.51 0 1.02-.2 1.41-.59l7.78-7.78 2.81-2.81c.8-.78.8-2.07 0-2.86zM5.41 20L4 18.59l7.72-7.72 1.47 1.35L5.41 20z\"/>\n",
              "  </svg>\n",
              "      </button>\n",
              "      \n",
              "  <style>\n",
              "    .colab-df-container {\n",
              "      display:flex;\n",
              "      flex-wrap:wrap;\n",
              "      gap: 12px;\n",
              "    }\n",
              "\n",
              "    .colab-df-convert {\n",
              "      background-color: #E8F0FE;\n",
              "      border: none;\n",
              "      border-radius: 50%;\n",
              "      cursor: pointer;\n",
              "      display: none;\n",
              "      fill: #1967D2;\n",
              "      height: 32px;\n",
              "      padding: 0 0 0 0;\n",
              "      width: 32px;\n",
              "    }\n",
              "\n",
              "    .colab-df-convert:hover {\n",
              "      background-color: #E2EBFA;\n",
              "      box-shadow: 0px 1px 2px rgba(60, 64, 67, 0.3), 0px 1px 3px 1px rgba(60, 64, 67, 0.15);\n",
              "      fill: #174EA6;\n",
              "    }\n",
              "\n",
              "    [theme=dark] .colab-df-convert {\n",
              "      background-color: #3B4455;\n",
              "      fill: #D2E3FC;\n",
              "    }\n",
              "\n",
              "    [theme=dark] .colab-df-convert:hover {\n",
              "      background-color: #434B5C;\n",
              "      box-shadow: 0px 1px 3px 1px rgba(0, 0, 0, 0.15);\n",
              "      filter: drop-shadow(0px 1px 2px rgba(0, 0, 0, 0.3));\n",
              "      fill: #FFFFFF;\n",
              "    }\n",
              "  </style>\n",
              "\n",
              "      <script>\n",
              "        const buttonEl =\n",
              "          document.querySelector('#df-44635cb3-386c-4b3d-9a5d-e337f70ce23a button.colab-df-convert');\n",
              "        buttonEl.style.display =\n",
              "          google.colab.kernel.accessAllowed ? 'block' : 'none';\n",
              "\n",
              "        async function convertToInteractive(key) {\n",
              "          const element = document.querySelector('#df-44635cb3-386c-4b3d-9a5d-e337f70ce23a');\n",
              "          const dataTable =\n",
              "            await google.colab.kernel.invokeFunction('convertToInteractive',\n",
              "                                                     [key], {});\n",
              "          if (!dataTable) return;\n",
              "\n",
              "          const docLinkHtml = 'Like what you see? Visit the ' +\n",
              "            '<a target=\"_blank\" href=https://colab.research.google.com/notebooks/data_table.ipynb>data table notebook</a>'\n",
              "            + ' to learn more about interactive tables.';\n",
              "          element.innerHTML = '';\n",
              "          dataTable['output_type'] = 'display_data';\n",
              "          await google.colab.output.renderOutput(dataTable, element);\n",
              "          const docLink = document.createElement('div');\n",
              "          docLink.innerHTML = docLinkHtml;\n",
              "          element.appendChild(docLink);\n",
              "        }\n",
              "      </script>\n",
              "    </div>\n",
              "  </div>\n",
              "  "
            ]
          },
          "metadata": {},
          "execution_count": 5
        }
      ],
      "source": [
        "ted_quantitative.describe().apply(lambda s: s.apply('{0:.5f}'.format))"
      ],
      "metadata": {
        "pycharm": {
          "name": "#%%\n"
        },
        "colab": {
          "base_uri": "https://localhost:8080/",
          "height": 300
        },
        "id": "irWb-enl9SSQ",
        "outputId": "4059bc36-a83e-40d3-b2b3-e6952cd94b35"
      }
    },
    {
      "cell_type": "code",
      "execution_count": 6,
      "outputs": [
        {
          "output_type": "execute_result",
          "data": {
            "text/plain": [
              "                                                title        author  \\\n",
              "count                                            5440          5439   \n",
              "unique                                           5440          4443   \n",
              "top     Climate action needs new frontline leadership  Alex Gendler   \n",
              "freq                                                1            45   \n",
              "\n",
              "              date                                               link  \n",
              "count         5440                                               5440  \n",
              "unique         200                                               5440  \n",
              "top     April 2018  https://ted.com/talks/ozawa_bineshi_albert_cli...  \n",
              "freq           127                                                  1  "
            ],
            "text/html": [
              "\n",
              "  <div id=\"df-225c873b-c43d-4811-b852-66a35b3215ad\">\n",
              "    <div class=\"colab-df-container\">\n",
              "      <div>\n",
              "<style scoped>\n",
              "    .dataframe tbody tr th:only-of-type {\n",
              "        vertical-align: middle;\n",
              "    }\n",
              "\n",
              "    .dataframe tbody tr th {\n",
              "        vertical-align: top;\n",
              "    }\n",
              "\n",
              "    .dataframe thead th {\n",
              "        text-align: right;\n",
              "    }\n",
              "</style>\n",
              "<table border=\"1\" class=\"dataframe\">\n",
              "  <thead>\n",
              "    <tr style=\"text-align: right;\">\n",
              "      <th></th>\n",
              "      <th>title</th>\n",
              "      <th>author</th>\n",
              "      <th>date</th>\n",
              "      <th>link</th>\n",
              "    </tr>\n",
              "  </thead>\n",
              "  <tbody>\n",
              "    <tr>\n",
              "      <th>count</th>\n",
              "      <td>5440</td>\n",
              "      <td>5439</td>\n",
              "      <td>5440</td>\n",
              "      <td>5440</td>\n",
              "    </tr>\n",
              "    <tr>\n",
              "      <th>unique</th>\n",
              "      <td>5440</td>\n",
              "      <td>4443</td>\n",
              "      <td>200</td>\n",
              "      <td>5440</td>\n",
              "    </tr>\n",
              "    <tr>\n",
              "      <th>top</th>\n",
              "      <td>Climate action needs new frontline leadership</td>\n",
              "      <td>Alex Gendler</td>\n",
              "      <td>April 2018</td>\n",
              "      <td>https://ted.com/talks/ozawa_bineshi_albert_cli...</td>\n",
              "    </tr>\n",
              "    <tr>\n",
              "      <th>freq</th>\n",
              "      <td>1</td>\n",
              "      <td>45</td>\n",
              "      <td>127</td>\n",
              "      <td>1</td>\n",
              "    </tr>\n",
              "  </tbody>\n",
              "</table>\n",
              "</div>\n",
              "      <button class=\"colab-df-convert\" onclick=\"convertToInteractive('df-225c873b-c43d-4811-b852-66a35b3215ad')\"\n",
              "              title=\"Convert this dataframe to an interactive table.\"\n",
              "              style=\"display:none;\">\n",
              "        \n",
              "  <svg xmlns=\"http://www.w3.org/2000/svg\" height=\"24px\"viewBox=\"0 0 24 24\"\n",
              "       width=\"24px\">\n",
              "    <path d=\"M0 0h24v24H0V0z\" fill=\"none\"/>\n",
              "    <path d=\"M18.56 5.44l.94 2.06.94-2.06 2.06-.94-2.06-.94-.94-2.06-.94 2.06-2.06.94zm-11 1L8.5 8.5l.94-2.06 2.06-.94-2.06-.94L8.5 2.5l-.94 2.06-2.06.94zm10 10l.94 2.06.94-2.06 2.06-.94-2.06-.94-.94-2.06-.94 2.06-2.06.94z\"/><path d=\"M17.41 7.96l-1.37-1.37c-.4-.4-.92-.59-1.43-.59-.52 0-1.04.2-1.43.59L10.3 9.45l-7.72 7.72c-.78.78-.78 2.05 0 2.83L4 21.41c.39.39.9.59 1.41.59.51 0 1.02-.2 1.41-.59l7.78-7.78 2.81-2.81c.8-.78.8-2.07 0-2.86zM5.41 20L4 18.59l7.72-7.72 1.47 1.35L5.41 20z\"/>\n",
              "  </svg>\n",
              "      </button>\n",
              "      \n",
              "  <style>\n",
              "    .colab-df-container {\n",
              "      display:flex;\n",
              "      flex-wrap:wrap;\n",
              "      gap: 12px;\n",
              "    }\n",
              "\n",
              "    .colab-df-convert {\n",
              "      background-color: #E8F0FE;\n",
              "      border: none;\n",
              "      border-radius: 50%;\n",
              "      cursor: pointer;\n",
              "      display: none;\n",
              "      fill: #1967D2;\n",
              "      height: 32px;\n",
              "      padding: 0 0 0 0;\n",
              "      width: 32px;\n",
              "    }\n",
              "\n",
              "    .colab-df-convert:hover {\n",
              "      background-color: #E2EBFA;\n",
              "      box-shadow: 0px 1px 2px rgba(60, 64, 67, 0.3), 0px 1px 3px 1px rgba(60, 64, 67, 0.15);\n",
              "      fill: #174EA6;\n",
              "    }\n",
              "\n",
              "    [theme=dark] .colab-df-convert {\n",
              "      background-color: #3B4455;\n",
              "      fill: #D2E3FC;\n",
              "    }\n",
              "\n",
              "    [theme=dark] .colab-df-convert:hover {\n",
              "      background-color: #434B5C;\n",
              "      box-shadow: 0px 1px 3px 1px rgba(0, 0, 0, 0.15);\n",
              "      filter: drop-shadow(0px 1px 2px rgba(0, 0, 0, 0.3));\n",
              "      fill: #FFFFFF;\n",
              "    }\n",
              "  </style>\n",
              "\n",
              "      <script>\n",
              "        const buttonEl =\n",
              "          document.querySelector('#df-225c873b-c43d-4811-b852-66a35b3215ad button.colab-df-convert');\n",
              "        buttonEl.style.display =\n",
              "          google.colab.kernel.accessAllowed ? 'block' : 'none';\n",
              "\n",
              "        async function convertToInteractive(key) {\n",
              "          const element = document.querySelector('#df-225c873b-c43d-4811-b852-66a35b3215ad');\n",
              "          const dataTable =\n",
              "            await google.colab.kernel.invokeFunction('convertToInteractive',\n",
              "                                                     [key], {});\n",
              "          if (!dataTable) return;\n",
              "\n",
              "          const docLinkHtml = 'Like what you see? Visit the ' +\n",
              "            '<a target=\"_blank\" href=https://colab.research.google.com/notebooks/data_table.ipynb>data table notebook</a>'\n",
              "            + ' to learn more about interactive tables.';\n",
              "          element.innerHTML = '';\n",
              "          dataTable['output_type'] = 'display_data';\n",
              "          await google.colab.output.renderOutput(dataTable, element);\n",
              "          const docLink = document.createElement('div');\n",
              "          docLink.innerHTML = docLinkHtml;\n",
              "          element.appendChild(docLink);\n",
              "        }\n",
              "      </script>\n",
              "    </div>\n",
              "  </div>\n",
              "  "
            ]
          },
          "metadata": {},
          "execution_count": 6
        }
      ],
      "source": [
        "ted_qualitative.describe()"
      ],
      "metadata": {
        "pycharm": {
          "name": "#%%\n"
        },
        "colab": {
          "base_uri": "https://localhost:8080/",
          "height": 175
        },
        "id": "DNpNtE6u9SSR",
        "outputId": "b0eef7b6-a7bb-47dd-d4f9-8ed27224c296"
      }
    },
    {
      "cell_type": "raw",
      "source": [
        "È possibile notare che per ogni feature sono presenti 5440 valori, tranne che per la feature author dove ne troviamo solo 5439. Andiamo a vedere se è presente un record con author con valore null."
      ],
      "metadata": {
        "collapsed": false,
        "pycharm": {
          "name": "#%% raw\n"
        },
        "id": "AGVU7B299SSR"
      }
    },
    {
      "cell_type": "code",
      "execution_count": 7,
      "outputs": [
        {
          "output_type": "execute_result",
          "data": {
            "text/plain": [
              "                   title author           date  views  likes  \\\n",
              "3039  Year In Ideas 2015    NaN  December 2015    532     15   \n",
              "\n",
              "                                          link  \n",
              "3039  https://ted.com/talks/year_in_ideas_2015  "
            ],
            "text/html": [
              "\n",
              "  <div id=\"df-dc29075f-3662-4f05-bcf7-a77171787c2b\">\n",
              "    <div class=\"colab-df-container\">\n",
              "      <div>\n",
              "<style scoped>\n",
              "    .dataframe tbody tr th:only-of-type {\n",
              "        vertical-align: middle;\n",
              "    }\n",
              "\n",
              "    .dataframe tbody tr th {\n",
              "        vertical-align: top;\n",
              "    }\n",
              "\n",
              "    .dataframe thead th {\n",
              "        text-align: right;\n",
              "    }\n",
              "</style>\n",
              "<table border=\"1\" class=\"dataframe\">\n",
              "  <thead>\n",
              "    <tr style=\"text-align: right;\">\n",
              "      <th></th>\n",
              "      <th>title</th>\n",
              "      <th>author</th>\n",
              "      <th>date</th>\n",
              "      <th>views</th>\n",
              "      <th>likes</th>\n",
              "      <th>link</th>\n",
              "    </tr>\n",
              "  </thead>\n",
              "  <tbody>\n",
              "    <tr>\n",
              "      <th>3039</th>\n",
              "      <td>Year In Ideas 2015</td>\n",
              "      <td>NaN</td>\n",
              "      <td>December 2015</td>\n",
              "      <td>532</td>\n",
              "      <td>15</td>\n",
              "      <td>https://ted.com/talks/year_in_ideas_2015</td>\n",
              "    </tr>\n",
              "  </tbody>\n",
              "</table>\n",
              "</div>\n",
              "      <button class=\"colab-df-convert\" onclick=\"convertToInteractive('df-dc29075f-3662-4f05-bcf7-a77171787c2b')\"\n",
              "              title=\"Convert this dataframe to an interactive table.\"\n",
              "              style=\"display:none;\">\n",
              "        \n",
              "  <svg xmlns=\"http://www.w3.org/2000/svg\" height=\"24px\"viewBox=\"0 0 24 24\"\n",
              "       width=\"24px\">\n",
              "    <path d=\"M0 0h24v24H0V0z\" fill=\"none\"/>\n",
              "    <path d=\"M18.56 5.44l.94 2.06.94-2.06 2.06-.94-2.06-.94-.94-2.06-.94 2.06-2.06.94zm-11 1L8.5 8.5l.94-2.06 2.06-.94-2.06-.94L8.5 2.5l-.94 2.06-2.06.94zm10 10l.94 2.06.94-2.06 2.06-.94-2.06-.94-.94-2.06-.94 2.06-2.06.94z\"/><path d=\"M17.41 7.96l-1.37-1.37c-.4-.4-.92-.59-1.43-.59-.52 0-1.04.2-1.43.59L10.3 9.45l-7.72 7.72c-.78.78-.78 2.05 0 2.83L4 21.41c.39.39.9.59 1.41.59.51 0 1.02-.2 1.41-.59l7.78-7.78 2.81-2.81c.8-.78.8-2.07 0-2.86zM5.41 20L4 18.59l7.72-7.72 1.47 1.35L5.41 20z\"/>\n",
              "  </svg>\n",
              "      </button>\n",
              "      \n",
              "  <style>\n",
              "    .colab-df-container {\n",
              "      display:flex;\n",
              "      flex-wrap:wrap;\n",
              "      gap: 12px;\n",
              "    }\n",
              "\n",
              "    .colab-df-convert {\n",
              "      background-color: #E8F0FE;\n",
              "      border: none;\n",
              "      border-radius: 50%;\n",
              "      cursor: pointer;\n",
              "      display: none;\n",
              "      fill: #1967D2;\n",
              "      height: 32px;\n",
              "      padding: 0 0 0 0;\n",
              "      width: 32px;\n",
              "    }\n",
              "\n",
              "    .colab-df-convert:hover {\n",
              "      background-color: #E2EBFA;\n",
              "      box-shadow: 0px 1px 2px rgba(60, 64, 67, 0.3), 0px 1px 3px 1px rgba(60, 64, 67, 0.15);\n",
              "      fill: #174EA6;\n",
              "    }\n",
              "\n",
              "    [theme=dark] .colab-df-convert {\n",
              "      background-color: #3B4455;\n",
              "      fill: #D2E3FC;\n",
              "    }\n",
              "\n",
              "    [theme=dark] .colab-df-convert:hover {\n",
              "      background-color: #434B5C;\n",
              "      box-shadow: 0px 1px 3px 1px rgba(0, 0, 0, 0.15);\n",
              "      filter: drop-shadow(0px 1px 2px rgba(0, 0, 0, 0.3));\n",
              "      fill: #FFFFFF;\n",
              "    }\n",
              "  </style>\n",
              "\n",
              "      <script>\n",
              "        const buttonEl =\n",
              "          document.querySelector('#df-dc29075f-3662-4f05-bcf7-a77171787c2b button.colab-df-convert');\n",
              "        buttonEl.style.display =\n",
              "          google.colab.kernel.accessAllowed ? 'block' : 'none';\n",
              "\n",
              "        async function convertToInteractive(key) {\n",
              "          const element = document.querySelector('#df-dc29075f-3662-4f05-bcf7-a77171787c2b');\n",
              "          const dataTable =\n",
              "            await google.colab.kernel.invokeFunction('convertToInteractive',\n",
              "                                                     [key], {});\n",
              "          if (!dataTable) return;\n",
              "\n",
              "          const docLinkHtml = 'Like what you see? Visit the ' +\n",
              "            '<a target=\"_blank\" href=https://colab.research.google.com/notebooks/data_table.ipynb>data table notebook</a>'\n",
              "            + ' to learn more about interactive tables.';\n",
              "          element.innerHTML = '';\n",
              "          dataTable['output_type'] = 'display_data';\n",
              "          await google.colab.output.renderOutput(dataTable, element);\n",
              "          const docLink = document.createElement('div');\n",
              "          docLink.innerHTML = docLinkHtml;\n",
              "          element.appendChild(docLink);\n",
              "        }\n",
              "      </script>\n",
              "    </div>\n",
              "  </div>\n",
              "  "
            ]
          },
          "metadata": {},
          "execution_count": 7
        }
      ],
      "source": [
        "ted[ted.isnull().any(axis=1)]"
      ],
      "metadata": {
        "pycharm": {
          "name": "#%%\n"
        },
        "colab": {
          "base_uri": "https://localhost:8080/",
          "height": 80
        },
        "id": "HaKGfgQg9SSR",
        "outputId": "5300867c-5e74-44ed-8f5c-221dc8ba62cd"
      }
    },
    {
      "cell_type": "raw",
      "source": [
        "Effettivamente abbiamo trovato un record con author nullo e decidiamo di rimpiazzare il valore null con `Unknown author`\n"
      ],
      "metadata": {
        "collapsed": false,
        "pycharm": {
          "name": "#%% raw\n"
        },
        "id": "PY9KwZTY9SSS"
      }
    },
    {
      "cell_type": "code",
      "source": [
        "ted['author'].fillna('Unknown author', inplace=True)\n",
        "ted.isnull().sum()"
      ],
      "metadata": {
        "id": "oAVOfX6iV7ON",
        "outputId": "9560c608-a9ca-4a67-9848-4d0e5be1d113",
        "colab": {
          "base_uri": "https://localhost:8080/"
        }
      },
      "execution_count": 8,
      "outputs": [
        {
          "output_type": "execute_result",
          "data": {
            "text/plain": [
              "title     0\n",
              "author    0\n",
              "date      0\n",
              "views     0\n",
              "likes     0\n",
              "link      0\n",
              "dtype: int64"
            ]
          },
          "metadata": {},
          "execution_count": 8
        }
      ]
    },
    {
      "cell_type": "markdown",
      "source": [
        "La prima analisi che andiamo a fare è verificare se è presente una correlazione tra il numero di views ed il numero di likes."
      ],
      "metadata": {
        "id": "viy7zpDLV7wT"
      }
    },
    {
      "cell_type": "code",
      "execution_count": 9,
      "outputs": [
        {
          "output_type": "execute_result",
          "data": {
            "text/plain": [
              "          views     likes\n",
              "views  1.000000  0.999661\n",
              "likes  0.999661  1.000000"
            ],
            "text/html": [
              "\n",
              "  <div id=\"df-904435a7-249c-4e06-94aa-fb1fbaf76676\">\n",
              "    <div class=\"colab-df-container\">\n",
              "      <div>\n",
              "<style scoped>\n",
              "    .dataframe tbody tr th:only-of-type {\n",
              "        vertical-align: middle;\n",
              "    }\n",
              "\n",
              "    .dataframe tbody tr th {\n",
              "        vertical-align: top;\n",
              "    }\n",
              "\n",
              "    .dataframe thead th {\n",
              "        text-align: right;\n",
              "    }\n",
              "</style>\n",
              "<table border=\"1\" class=\"dataframe\">\n",
              "  <thead>\n",
              "    <tr style=\"text-align: right;\">\n",
              "      <th></th>\n",
              "      <th>views</th>\n",
              "      <th>likes</th>\n",
              "    </tr>\n",
              "  </thead>\n",
              "  <tbody>\n",
              "    <tr>\n",
              "      <th>views</th>\n",
              "      <td>1.000000</td>\n",
              "      <td>0.999661</td>\n",
              "    </tr>\n",
              "    <tr>\n",
              "      <th>likes</th>\n",
              "      <td>0.999661</td>\n",
              "      <td>1.000000</td>\n",
              "    </tr>\n",
              "  </tbody>\n",
              "</table>\n",
              "</div>\n",
              "      <button class=\"colab-df-convert\" onclick=\"convertToInteractive('df-904435a7-249c-4e06-94aa-fb1fbaf76676')\"\n",
              "              title=\"Convert this dataframe to an interactive table.\"\n",
              "              style=\"display:none;\">\n",
              "        \n",
              "  <svg xmlns=\"http://www.w3.org/2000/svg\" height=\"24px\"viewBox=\"0 0 24 24\"\n",
              "       width=\"24px\">\n",
              "    <path d=\"M0 0h24v24H0V0z\" fill=\"none\"/>\n",
              "    <path d=\"M18.56 5.44l.94 2.06.94-2.06 2.06-.94-2.06-.94-.94-2.06-.94 2.06-2.06.94zm-11 1L8.5 8.5l.94-2.06 2.06-.94-2.06-.94L8.5 2.5l-.94 2.06-2.06.94zm10 10l.94 2.06.94-2.06 2.06-.94-2.06-.94-.94-2.06-.94 2.06-2.06.94z\"/><path d=\"M17.41 7.96l-1.37-1.37c-.4-.4-.92-.59-1.43-.59-.52 0-1.04.2-1.43.59L10.3 9.45l-7.72 7.72c-.78.78-.78 2.05 0 2.83L4 21.41c.39.39.9.59 1.41.59.51 0 1.02-.2 1.41-.59l7.78-7.78 2.81-2.81c.8-.78.8-2.07 0-2.86zM5.41 20L4 18.59l7.72-7.72 1.47 1.35L5.41 20z\"/>\n",
              "  </svg>\n",
              "      </button>\n",
              "      \n",
              "  <style>\n",
              "    .colab-df-container {\n",
              "      display:flex;\n",
              "      flex-wrap:wrap;\n",
              "      gap: 12px;\n",
              "    }\n",
              "\n",
              "    .colab-df-convert {\n",
              "      background-color: #E8F0FE;\n",
              "      border: none;\n",
              "      border-radius: 50%;\n",
              "      cursor: pointer;\n",
              "      display: none;\n",
              "      fill: #1967D2;\n",
              "      height: 32px;\n",
              "      padding: 0 0 0 0;\n",
              "      width: 32px;\n",
              "    }\n",
              "\n",
              "    .colab-df-convert:hover {\n",
              "      background-color: #E2EBFA;\n",
              "      box-shadow: 0px 1px 2px rgba(60, 64, 67, 0.3), 0px 1px 3px 1px rgba(60, 64, 67, 0.15);\n",
              "      fill: #174EA6;\n",
              "    }\n",
              "\n",
              "    [theme=dark] .colab-df-convert {\n",
              "      background-color: #3B4455;\n",
              "      fill: #D2E3FC;\n",
              "    }\n",
              "\n",
              "    [theme=dark] .colab-df-convert:hover {\n",
              "      background-color: #434B5C;\n",
              "      box-shadow: 0px 1px 3px 1px rgba(0, 0, 0, 0.15);\n",
              "      filter: drop-shadow(0px 1px 2px rgba(0, 0, 0, 0.3));\n",
              "      fill: #FFFFFF;\n",
              "    }\n",
              "  </style>\n",
              "\n",
              "      <script>\n",
              "        const buttonEl =\n",
              "          document.querySelector('#df-904435a7-249c-4e06-94aa-fb1fbaf76676 button.colab-df-convert');\n",
              "        buttonEl.style.display =\n",
              "          google.colab.kernel.accessAllowed ? 'block' : 'none';\n",
              "\n",
              "        async function convertToInteractive(key) {\n",
              "          const element = document.querySelector('#df-904435a7-249c-4e06-94aa-fb1fbaf76676');\n",
              "          const dataTable =\n",
              "            await google.colab.kernel.invokeFunction('convertToInteractive',\n",
              "                                                     [key], {});\n",
              "          if (!dataTable) return;\n",
              "\n",
              "          const docLinkHtml = 'Like what you see? Visit the ' +\n",
              "            '<a target=\"_blank\" href=https://colab.research.google.com/notebooks/data_table.ipynb>data table notebook</a>'\n",
              "            + ' to learn more about interactive tables.';\n",
              "          element.innerHTML = '';\n",
              "          dataTable['output_type'] = 'display_data';\n",
              "          await google.colab.output.renderOutput(dataTable, element);\n",
              "          const docLink = document.createElement('div');\n",
              "          docLink.innerHTML = docLinkHtml;\n",
              "          element.appendChild(docLink);\n",
              "        }\n",
              "      </script>\n",
              "    </div>\n",
              "  </div>\n",
              "  "
            ]
          },
          "metadata": {},
          "execution_count": 9
        }
      ],
      "source": [
        "ted_quantitative.corr()"
      ],
      "metadata": {
        "pycharm": {
          "name": "#%%\n"
        },
        "colab": {
          "base_uri": "https://localhost:8080/",
          "height": 112
        },
        "id": "DYET4paU9SSS",
        "outputId": "44cfe97e-cefe-46b0-ef8b-f59f1a85bcd7"
      }
    },
    {
      "cell_type": "raw",
      "source": [
        "È possibile notare che è presente una forte correlazione. Decidiamo di mostrarlo anche tramite un grafico."
      ],
      "metadata": {
        "collapsed": false,
        "id": "oa7nqPkV9SSS"
      }
    },
    {
      "cell_type": "code",
      "execution_count": 10,
      "outputs": [
        {
          "output_type": "execute_result",
          "data": {
            "text/plain": [
              "<matplotlib.collections.PathCollection at 0x7fd244d71f50>"
            ]
          },
          "metadata": {},
          "execution_count": 10
        },
        {
          "output_type": "display_data",
          "data": {
            "text/plain": [
              "<Figure size 432x288 with 1 Axes>"
            ],
            "image/png": "[encoded data removed]"
          },
          "metadata": {
            "needs_background": "light"
          }
        }
      ],
      "source": [
        "plt.scatter(ted['views'], ted['likes'])"
      ],
      "metadata": {
        "pycharm": {
          "name": "#%%\n"
        },
        "colab": {
          "base_uri": "https://localhost:8080/",
          "height": 307
        },
        "id": "adGIcj5t9SST",
        "outputId": "7598febe-4d1a-4868-efce-4fea80b52d0c"
      }
    },
    {
      "cell_type": "raw",
      "source": [
        "Siccome è presente questa forte correlazione, vogliamo implementare ed allenare un modello di regressione lineare che consenta di prevedere il numero di likes dato il numero di views. Dividiamo il dataset nel training set (utilizzato per allenare il modello) e nel validation set (utilizzato per verificare il modello). Per dividere il dataset usiamo come percentuale 70/30 (training/validation)."
      ],
      "metadata": {
        "collapsed": false,
        "pycharm": {
          "name": "#%% raw\n"
        },
        "id": "K31yttzK9SST"
      }
    },
    {
      "cell_type": "code",
      "execution_count": 11,
      "outputs": [
        {
          "output_type": "stream",
          "name": "stdout",
          "text": [
            "intercept: 250.04968905375426\n",
            "coefficient: [0.03024733]\n"
          ]
        },
        {
          "output_type": "execute_result",
          "data": {
            "text/plain": [
              "[<matplotlib.lines.Line2D at 0x7fd2427f30d0>]"
            ]
          },
          "metadata": {},
          "execution_count": 11
        },
        {
          "output_type": "display_data",
          "data": {
            "text/plain": [
              "<Figure size 432x288 with 1 Axes>"
            ],
            "image/png": "[encoded data removed]"
          },
          "metadata": {
            "needs_background": "light"
          }
        }
      ],
      "source": [
        "features = ['views']\n",
        "x = ted[features]\n",
        "y = ted['likes']\n",
        "X_train, X_valid, y_train, y_valid = train_test_split(x, y, test_size=0.3)\n",
        "regressor = LinearRegression()\n",
        "lin_reg = regressor.fit(X_train, y_train)\n",
        "\n",
        "print('intercept:', lin_reg.intercept_)\n",
        "print('coefficient:', lin_reg.coef_)\n",
        "\n",
        "plt.scatter(X_train, y_train)\n",
        "\n",
        "y_hat = X_train * lin_reg.coef_ + lin_reg.intercept_\n",
        "\n",
        "plt.plot(X_train, y_hat, color='r') "
      ],
      "metadata": {
        "pycharm": {
          "name": "#%%\n"
        },
        "colab": {
          "base_uri": "https://localhost:8080/",
          "height": 342
        },
        "id": "uFESxrIz9SSU",
        "outputId": "b77704a1-fc8f-43a5-e5da-6e834ea66b9a"
      }
    },
    {
      "cell_type": "markdown",
      "source": [
        "Sempre legato al numero di views e di likes, vogliamo andare a vedere quali sono i talks con il miglior rapporto `#likes/#views`."
      ],
      "metadata": {
        "id": "cEPyDd8XXZMA"
      }
    },
    {
      "cell_type": "code",
      "source": [
        "ted['ratio']=ted['likes'].div(ted['views'])\n",
        "ted.sort_values(by='ratio', ascending=False, ignore_index=True).nlargest(10, 'ratio')[['author', 'title']]"
      ],
      "metadata": {
        "id": "unUL0WEsXlZp",
        "outputId": "8ef0babb-f0ca-4c33-c002-44add354260c",
        "colab": {
          "base_uri": "https://localhost:8080/",
          "height": 363
        }
      },
      "execution_count": 12,
      "outputs": [
        {
          "output_type": "execute_result",
          "data": {
            "text/plain": [
              "                   author                                              title\n",
              "0            Coby Everton  The importance of queer allyship in the classroom\n",
              "1     Mackenzie Dalrymple                          Three stories of Scotland\n",
              "2         Mathieu Lamiaux  Imagining a new future for health systems in A...\n",
              "3            Scott Nguyen  Solar energy can help put power back in the ha...\n",
              "4       Paul S. Kindstedt                        A brie(f) history of cheese\n",
              "5             Tim Ferriss  Why you should define your fears instead of yo...\n",
              "6    Emily Esfahani Smith              There's more to life than being happy\n",
              "7  Alejandro Chaskielberg  Cómo usar el arte de la fotografía para restau...\n",
              "8         Tony Buffington                          Why do cats act so weird?\n",
              "9             Rana Novack          How we'll predict the next refugee crisis"
            ],
            "text/html": [
              "\n",
              "  <div id=\"df-9f66dfb2-2a63-4521-8005-87e5f741bf19\">\n",
              "    <div class=\"colab-df-container\">\n",
              "      <div>\n",
              "<style scoped>\n",
              "    .dataframe tbody tr th:only-of-type {\n",
              "        vertical-align: middle;\n",
              "    }\n",
              "\n",
              "    .dataframe tbody tr th {\n",
              "        vertical-align: top;\n",
              "    }\n",
              "\n",
              "    .dataframe thead th {\n",
              "        text-align: right;\n",
              "    }\n",
              "</style>\n",
              "<table border=\"1\" class=\"dataframe\">\n",
              "  <thead>\n",
              "    <tr style=\"text-align: right;\">\n",
              "      <th></th>\n",
              "      <th>author</th>\n",
              "      <th>title</th>\n",
              "    </tr>\n",
              "  </thead>\n",
              "  <tbody>\n",
              "    <tr>\n",
              "      <th>0</th>\n",
              "      <td>Coby Everton</td>\n",
              "      <td>The importance of queer allyship in the classroom</td>\n",
              "    </tr>\n",
              "    <tr>\n",
              "      <th>1</th>\n",
              "      <td>Mackenzie Dalrymple</td>\n",
              "      <td>Three stories of Scotland</td>\n",
              "    </tr>\n",
              "    <tr>\n",
              "      <th>2</th>\n",
              "      <td>Mathieu Lamiaux</td>\n",
              "      <td>Imagining a new future for health systems in A...</td>\n",
              "    </tr>\n",
              "    <tr>\n",
              "      <th>3</th>\n",
              "      <td>Scott Nguyen</td>\n",
              "      <td>Solar energy can help put power back in the ha...</td>\n",
              "    </tr>\n",
              "    <tr>\n",
              "      <th>4</th>\n",
              "      <td>Paul S. Kindstedt</td>\n",
              "      <td>A brie(f) history of cheese</td>\n",
              "    </tr>\n",
              "    <tr>\n",
              "      <th>5</th>\n",
              "      <td>Tim Ferriss</td>\n",
              "      <td>Why you should define your fears instead of yo...</td>\n",
              "    </tr>\n",
              "    <tr>\n",
              "      <th>6</th>\n",
              "      <td>Emily Esfahani Smith</td>\n",
              "      <td>There's more to life than being happy</td>\n",
              "    </tr>\n",
              "    <tr>\n",
              "      <th>7</th>\n",
              "      <td>Alejandro Chaskielberg</td>\n",
              "      <td>Cómo usar el arte de la fotografía para restau...</td>\n",
              "    </tr>\n",
              "    <tr>\n",
              "      <th>8</th>\n",
              "      <td>Tony Buffington</td>\n",
              "      <td>Why do cats act so weird?</td>\n",
              "    </tr>\n",
              "    <tr>\n",
              "      <th>9</th>\n",
              "      <td>Rana Novack</td>\n",
              "      <td>How we'll predict the next refugee crisis</td>\n",
              "    </tr>\n",
              "  </tbody>\n",
              "</table>\n",
              "</div>\n",
              "      <button class=\"colab-df-convert\" onclick=\"convertToInteractive('df-9f66dfb2-2a63-4521-8005-87e5f741bf19')\"\n",
              "              title=\"Convert this dataframe to an interactive table.\"\n",
              "              style=\"display:none;\">\n",
              "        \n",
              "  <svg xmlns=\"http://www.w3.org/2000/svg\" height=\"24px\"viewBox=\"0 0 24 24\"\n",
              "       width=\"24px\">\n",
              "    <path d=\"M0 0h24v24H0V0z\" fill=\"none\"/>\n",
              "    <path d=\"M18.56 5.44l.94 2.06.94-2.06 2.06-.94-2.06-.94-.94-2.06-.94 2.06-2.06.94zm-11 1L8.5 8.5l.94-2.06 2.06-.94-2.06-.94L8.5 2.5l-.94 2.06-2.06.94zm10 10l.94 2.06.94-2.06 2.06-.94-2.06-.94-.94-2.06-.94 2.06-2.06.94z\"/><path d=\"M17.41 7.96l-1.37-1.37c-.4-.4-.92-.59-1.43-.59-.52 0-1.04.2-1.43.59L10.3 9.45l-7.72 7.72c-.78.78-.78 2.05 0 2.83L4 21.41c.39.39.9.59 1.41.59.51 0 1.02-.2 1.41-.59l7.78-7.78 2.81-2.81c.8-.78.8-2.07 0-2.86zM5.41 20L4 18.59l7.72-7.72 1.47 1.35L5.41 20z\"/>\n",
              "  </svg>\n",
              "      </button>\n",
              "      \n",
              "  <style>\n",
              "    .colab-df-container {\n",
              "      display:flex;\n",
              "      flex-wrap:wrap;\n",
              "      gap: 12px;\n",
              "    }\n",
              "\n",
              "    .colab-df-convert {\n",
              "      background-color: #E8F0FE;\n",
              "      border: none;\n",
              "      border-radius: 50%;\n",
              "      cursor: pointer;\n",
              "      display: none;\n",
              "      fill: #1967D2;\n",
              "      height: 32px;\n",
              "      padding: 0 0 0 0;\n",
              "      width: 32px;\n",
              "    }\n",
              "\n",
              "    .colab-df-convert:hover {\n",
              "      background-color: #E2EBFA;\n",
              "      box-shadow: 0px 1px 2px rgba(60, 64, 67, 0.3), 0px 1px 3px 1px rgba(60, 64, 67, 0.15);\n",
              "      fill: #174EA6;\n",
              "    }\n",
              "\n",
              "    [theme=dark] .colab-df-convert {\n",
              "      background-color: #3B4455;\n",
              "      fill: #D2E3FC;\n",
              "    }\n",
              "\n",
              "    [theme=dark] .colab-df-convert:hover {\n",
              "      background-color: #434B5C;\n",
              "      box-shadow: 0px 1px 3px 1px rgba(0, 0, 0, 0.15);\n",
              "      filter: drop-shadow(0px 1px 2px rgba(0, 0, 0, 0.3));\n",
              "      fill: #FFFFFF;\n",
              "    }\n",
              "  </style>\n",
              "\n",
              "      <script>\n",
              "        const buttonEl =\n",
              "          document.querySelector('#df-9f66dfb2-2a63-4521-8005-87e5f741bf19 button.colab-df-convert');\n",
              "        buttonEl.style.display =\n",
              "          google.colab.kernel.accessAllowed ? 'block' : 'none';\n",
              "\n",
              "        async function convertToInteractive(key) {\n",
              "          const element = document.querySelector('#df-9f66dfb2-2a63-4521-8005-87e5f741bf19');\n",
              "          const dataTable =\n",
              "            await google.colab.kernel.invokeFunction('convertToInteractive',\n",
              "                                                     [key], {});\n",
              "          if (!dataTable) return;\n",
              "\n",
              "          const docLinkHtml = 'Like what you see? Visit the ' +\n",
              "            '<a target=\"_blank\" href=https://colab.research.google.com/notebooks/data_table.ipynb>data table notebook</a>'\n",
              "            + ' to learn more about interactive tables.';\n",
              "          element.innerHTML = '';\n",
              "          dataTable['output_type'] = 'display_data';\n",
              "          await google.colab.output.renderOutput(dataTable, element);\n",
              "          const docLink = document.createElement('div');\n",
              "          docLink.innerHTML = docLinkHtml;\n",
              "          element.appendChild(docLink);\n",
              "        }\n",
              "      </script>\n",
              "    </div>\n",
              "  </div>\n",
              "  "
            ]
          },
          "metadata": {},
          "execution_count": 12
        }
      ]
    },
    {
      "cell_type": "markdown",
      "source": [
        "Andiamo a vedere quali sono gli autori che hanno prodotto il maggior numero di talks."
      ],
      "metadata": {
        "id": "eGss5Z5uYwlW"
      }
    },
    {
      "cell_type": "code",
      "source": [
        "authorProduct = ted.sort_values(by='author')['author'].value_counts()\n",
        "authorProductLimited = authorProduct.nlargest(10)\n",
        "authorProductLimited.plot(kind='bar')"
      ],
      "metadata": {
        "id": "iA34YzXEYwQS",
        "outputId": "09ed7b96-7440-4687-e1c2-6fb68d46ae57",
        "colab": {
          "base_uri": "https://localhost:8080/",
          "height": 347
        }
      },
      "execution_count": 13,
      "outputs": [
        {
          "output_type": "execute_result",
          "data": {
            "text/plain": [
              "<matplotlib.axes._subplots.AxesSubplot at 0x7fd24279d8d0>"
            ]
          },
          "metadata": {},
          "execution_count": 13
        },
        {
          "output_type": "display_data",
          "data": {
            "text/plain": [
              "<Figure size 432x288 with 1 Axes>"
            ],
            "image/png": "[encoded data removed]"
          },
          "metadata": {
            "needs_background": "light"
          }
        }
      ]
    },
    {
      "cell_type": "markdown",
      "source": [
        "Adesso andiamo a vedere quali sono gli autori che hanno ottenuto il maggior numero di views."
      ],
      "metadata": {
        "id": "Q9wGQJNAZkZ5"
      }
    },
    {
      "cell_type": "code",
      "source": [
        "authorViews = ted.sort_values(by='author').groupby('author')['views'].sum() #normalizzazione\n",
        "authorViewsLimited = authorViews.nlargest(10)\n",
        "authorViewsLimited.plot(kind='bar')"
      ],
      "metadata": {
        "id": "7VzgDSJLZB8v",
        "outputId": "1db38be6-6b80-4f38-9757-b924de6decfe",
        "colab": {
          "base_uri": "https://localhost:8080/",
          "height": 382
        }
      },
      "execution_count": 14,
      "outputs": [
        {
          "output_type": "execute_result",
          "data": {
            "text/plain": [
              "<matplotlib.axes._subplots.AxesSubplot at 0x7fd2426b73d0>"
            ]
          },
          "metadata": {},
          "execution_count": 14
        },
        {
          "output_type": "display_data",
          "data": {
            "text/plain": [
              "<Figure size 432x288 with 1 Axes>"
            ],
            "image/png": "[encoded data removed]"
          },
          "metadata": {
            "needs_background": "light"
          }
        }
      ]
    },
    {
      "cell_type": "markdown",
      "source": [
        "Si può notare come, tranne Alex Gendler, la maggior parte degli autori con il maggior numero di views non corrispondano con quelli che hanno pubblicato più talks. Andiamo a vedere se è presente una correlazione tra il numero di talks pubblicati ed il numero di views di un autore."
      ],
      "metadata": {
        "id": "PZfaJA6rZPoW"
      }
    },
    {
      "cell_type": "code",
      "source": [
        "plt.scatter(authorViews, authorProduct.sort_index())"
      ],
      "metadata": {
        "colab": {
          "base_uri": "https://localhost:8080/",
          "height": 296
        },
        "id": "xdJ1TaJLL8-L",
        "outputId": "ee0c1b7f-5abf-45a7-f05f-79d3f0b113b0"
      },
      "execution_count": 15,
      "outputs": [
        {
          "output_type": "execute_result",
          "data": {
            "text/plain": [
              "<matplotlib.collections.PathCollection at 0x7fd242663550>"
            ]
          },
          "metadata": {},
          "execution_count": 15
        },
        {
          "output_type": "display_data",
          "data": {
            "text/plain": [
              "<Figure size 432x288 with 1 Axes>"
            ],
            "image/png": "[encoded data removed]"
          },
          "metadata": {
            "needs_background": "light"
          }
        }
      ]
    },
    {
      "cell_type": "code",
      "source": [
        "authorViews.sort_index().corr(authorProduct.sort_index())"
      ],
      "metadata": {
        "colab": {
          "base_uri": "https://localhost:8080/"
        },
        "id": "7krE0Ji7OLkQ",
        "outputId": "2b4d19ce-9fdf-4f53-8ba2-d14d02952260"
      },
      "execution_count": 16,
      "outputs": [
        {
          "output_type": "execute_result",
          "data": {
            "text/plain": [
              "0.6155446399849689"
            ]
          },
          "metadata": {},
          "execution_count": 16
        }
      ]
    },
    {
      "cell_type": "markdown",
      "source": [
        "È possibile notare che è presente una moderata correlazione anche tra il numero di views registrate da un autore e dal numero di talks da lui pubblicati.\n",
        "\n",
        "Adesso andiamo a vedere quali sono i 10 talks più guardati e con più like e chi è il loro autore."
      ],
      "metadata": {
        "id": "d9hTEbIpL3Eo"
      }
    },
    {
      "cell_type": "code",
      "source": [
        "bestTalksByViews = ted.sort_values(by='views', ascending=False, ignore_index=True).nlargest(10, 'views')[['author', 'title']]\n",
        "bestTalksByViews"
      ],
      "metadata": {
        "colab": {
          "base_uri": "https://localhost:8080/",
          "height": 363
        },
        "id": "klikDNZ-WaG1",
        "outputId": "dac5a010-0a67-49fa-aa18-571d0a041bd9"
      },
      "execution_count": 17,
      "outputs": [
        {
          "output_type": "execute_result",
          "data": {
            "text/plain": [
              "             author                                              title\n",
              "0  Sir Ken Robinson                        Do schools kill creativity?\n",
              "1         Amy Cuddy           Your body language may shape who you are\n",
              "2         Tim Urban         Inside the mind of a master procrastinator\n",
              "3       Simon Sinek                   How great leaders inspire action\n",
              "4       Brené Brown                         The power of vulnerability\n",
              "5   Julian Treasure         How to speak so that people want to listen\n",
              "6         Sam Berns                     My philosophy for a happy life\n",
              "7        Bill Gates                 The next outbreak? We're not ready\n",
              "8  Robert Waldinger  What makes a good life? Lessons from the longe...\n",
              "9   Cameron Russell  Looks aren't everything. Believe me, I'm a model."
            ],
            "text/html": [
              "\n",
              "  <div id=\"df-93dc5b24-0fff-4934-84c0-ee184901fd6a\">\n",
              "    <div class=\"colab-df-container\">\n",
              "      <div>\n",
              "<style scoped>\n",
              "    .dataframe tbody tr th:only-of-type {\n",
              "        vertical-align: middle;\n",
              "    }\n",
              "\n",
              "    .dataframe tbody tr th {\n",
              "        vertical-align: top;\n",
              "    }\n",
              "\n",
              "    .dataframe thead th {\n",
              "        text-align: right;\n",
              "    }\n",
              "</style>\n",
              "<table border=\"1\" class=\"dataframe\">\n",
              "  <thead>\n",
              "    <tr style=\"text-align: right;\">\n",
              "      <th></th>\n",
              "      <th>author</th>\n",
              "      <th>title</th>\n",
              "    </tr>\n",
              "  </thead>\n",
              "  <tbody>\n",
              "    <tr>\n",
              "      <th>0</th>\n",
              "      <td>Sir Ken Robinson</td>\n",
              "      <td>Do schools kill creativity?</td>\n",
              "    </tr>\n",
              "    <tr>\n",
              "      <th>1</th>\n",
              "      <td>Amy Cuddy</td>\n",
              "      <td>Your body language may shape who you are</td>\n",
              "    </tr>\n",
              "    <tr>\n",
              "      <th>2</th>\n",
              "      <td>Tim Urban</td>\n",
              "      <td>Inside the mind of a master procrastinator</td>\n",
              "    </tr>\n",
              "    <tr>\n",
              "      <th>3</th>\n",
              "      <td>Simon Sinek</td>\n",
              "      <td>How great leaders inspire action</td>\n",
              "    </tr>\n",
              "    <tr>\n",
              "      <th>4</th>\n",
              "      <td>Brené Brown</td>\n",
              "      <td>The power of vulnerability</td>\n",
              "    </tr>\n",
              "    <tr>\n",
              "      <th>5</th>\n",
              "      <td>Julian Treasure</td>\n",
              "      <td>How to speak so that people want to listen</td>\n",
              "    </tr>\n",
              "    <tr>\n",
              "      <th>6</th>\n",
              "      <td>Sam Berns</td>\n",
              "      <td>My philosophy for a happy life</td>\n",
              "    </tr>\n",
              "    <tr>\n",
              "      <th>7</th>\n",
              "      <td>Bill Gates</td>\n",
              "      <td>The next outbreak? We're not ready</td>\n",
              "    </tr>\n",
              "    <tr>\n",
              "      <th>8</th>\n",
              "      <td>Robert Waldinger</td>\n",
              "      <td>What makes a good life? Lessons from the longe...</td>\n",
              "    </tr>\n",
              "    <tr>\n",
              "      <th>9</th>\n",
              "      <td>Cameron Russell</td>\n",
              "      <td>Looks aren't everything. Believe me, I'm a model.</td>\n",
              "    </tr>\n",
              "  </tbody>\n",
              "</table>\n",
              "</div>\n",
              "      <button class=\"colab-df-convert\" onclick=\"convertToInteractive('df-93dc5b24-0fff-4934-84c0-ee184901fd6a')\"\n",
              "              title=\"Convert this dataframe to an interactive table.\"\n",
              "              style=\"display:none;\">\n",
              "        \n",
              "  <svg xmlns=\"http://www.w3.org/2000/svg\" height=\"24px\"viewBox=\"0 0 24 24\"\n",
              "       width=\"24px\">\n",
              "    <path d=\"M0 0h24v24H0V0z\" fill=\"none\"/>\n",
              "    <path d=\"M18.56 5.44l.94 2.06.94-2.06 2.06-.94-2.06-.94-.94-2.06-.94 2.06-2.06.94zm-11 1L8.5 8.5l.94-2.06 2.06-.94-2.06-.94L8.5 2.5l-.94 2.06-2.06.94zm10 10l.94 2.06.94-2.06 2.06-.94-2.06-.94-.94-2.06-.94 2.06-2.06.94z\"/><path d=\"M17.41 7.96l-1.37-1.37c-.4-.4-.92-.59-1.43-.59-.52 0-1.04.2-1.43.59L10.3 9.45l-7.72 7.72c-.78.78-.78 2.05 0 2.83L4 21.41c.39.39.9.59 1.41.59.51 0 1.02-.2 1.41-.59l7.78-7.78 2.81-2.81c.8-.78.8-2.07 0-2.86zM5.41 20L4 18.59l7.72-7.72 1.47 1.35L5.41 20z\"/>\n",
              "  </svg>\n",
              "      </button>\n",
              "      \n",
              "  <style>\n",
              "    .colab-df-container {\n",
              "      display:flex;\n",
              "      flex-wrap:wrap;\n",
              "      gap: 12px;\n",
              "    }\n",
              "\n",
              "    .colab-df-convert {\n",
              "      background-color: #E8F0FE;\n",
              "      border: none;\n",
              "      border-radius: 50%;\n",
              "      cursor: pointer;\n",
              "      display: none;\n",
              "      fill: #1967D2;\n",
              "      height: 32px;\n",
              "      padding: 0 0 0 0;\n",
              "      width: 32px;\n",
              "    }\n",
              "\n",
              "    .colab-df-convert:hover {\n",
              "      background-color: #E2EBFA;\n",
              "      box-shadow: 0px 1px 2px rgba(60, 64, 67, 0.3), 0px 1px 3px 1px rgba(60, 64, 67, 0.15);\n",
              "      fill: #174EA6;\n",
              "    }\n",
              "\n",
              "    [theme=dark] .colab-df-convert {\n",
              "      background-color: #3B4455;\n",
              "      fill: #D2E3FC;\n",
              "    }\n",
              "\n",
              "    [theme=dark] .colab-df-convert:hover {\n",
              "      background-color: #434B5C;\n",
              "      box-shadow: 0px 1px 3px 1px rgba(0, 0, 0, 0.15);\n",
              "      filter: drop-shadow(0px 1px 2px rgba(0, 0, 0, 0.3));\n",
              "      fill: #FFFFFF;\n",
              "    }\n",
              "  </style>\n",
              "\n",
              "      <script>\n",
              "        const buttonEl =\n",
              "          document.querySelector('#df-93dc5b24-0fff-4934-84c0-ee184901fd6a button.colab-df-convert');\n",
              "        buttonEl.style.display =\n",
              "          google.colab.kernel.accessAllowed ? 'block' : 'none';\n",
              "\n",
              "        async function convertToInteractive(key) {\n",
              "          const element = document.querySelector('#df-93dc5b24-0fff-4934-84c0-ee184901fd6a');\n",
              "          const dataTable =\n",
              "            await google.colab.kernel.invokeFunction('convertToInteractive',\n",
              "                                                     [key], {});\n",
              "          if (!dataTable) return;\n",
              "\n",
              "          const docLinkHtml = 'Like what you see? Visit the ' +\n",
              "            '<a target=\"_blank\" href=https://colab.research.google.com/notebooks/data_table.ipynb>data table notebook</a>'\n",
              "            + ' to learn more about interactive tables.';\n",
              "          element.innerHTML = '';\n",
              "          dataTable['output_type'] = 'display_data';\n",
              "          await google.colab.output.renderOutput(dataTable, element);\n",
              "          const docLink = document.createElement('div');\n",
              "          docLink.innerHTML = docLinkHtml;\n",
              "          element.appendChild(docLink);\n",
              "        }\n",
              "      </script>\n",
              "    </div>\n",
              "  </div>\n",
              "  "
            ]
          },
          "metadata": {},
          "execution_count": 17
        }
      ]
    },
    {
      "cell_type": "code",
      "source": [
        "bestTalksByLikes = ted.sort_values(by='likes', ascending=False, ignore_index=True).nlargest(10, 'likes')[['author', 'title']]\n",
        "bestTalksByLikes"
      ],
      "metadata": {
        "id": "jh2vaeFZY9yT",
        "outputId": "9c3782a5-c487-41ff-d327-0e29d25d1272",
        "colab": {
          "base_uri": "https://localhost:8080/",
          "height": 363
        }
      },
      "execution_count": 18,
      "outputs": [
        {
          "output_type": "execute_result",
          "data": {
            "text/plain": [
              "             author                                              title\n",
              "0  Sir Ken Robinson                        Do schools kill creativity?\n",
              "1         Amy Cuddy           Your body language may shape who you are\n",
              "2         Tim Urban         Inside the mind of a master procrastinator\n",
              "3       Brené Brown                         The power of vulnerability\n",
              "4       Simon Sinek                   How great leaders inspire action\n",
              "5   Julian Treasure         How to speak so that people want to listen\n",
              "6         Sam Berns                     My philosophy for a happy life\n",
              "7        Bill Gates                 The next outbreak? We're not ready\n",
              "8  Robert Waldinger  What makes a good life? Lessons from the longe...\n",
              "9        Mary Roach             10 things you didn't know about orgasm"
            ],
            "text/html": [
              "\n",
              "  <div id=\"df-2e07e467-55a4-47e6-a7db-2f32161a5ad8\">\n",
              "    <div class=\"colab-df-container\">\n",
              "      <div>\n",
              "<style scoped>\n",
              "    .dataframe tbody tr th:only-of-type {\n",
              "        vertical-align: middle;\n",
              "    }\n",
              "\n",
              "    .dataframe tbody tr th {\n",
              "        vertical-align: top;\n",
              "    }\n",
              "\n",
              "    .dataframe thead th {\n",
              "        text-align: right;\n",
              "    }\n",
              "</style>\n",
              "<table border=\"1\" class=\"dataframe\">\n",
              "  <thead>\n",
              "    <tr style=\"text-align: right;\">\n",
              "      <th></th>\n",
              "      <th>author</th>\n",
              "      <th>title</th>\n",
              "    </tr>\n",
              "  </thead>\n",
              "  <tbody>\n",
              "    <tr>\n",
              "      <th>0</th>\n",
              "      <td>Sir Ken Robinson</td>\n",
              "      <td>Do schools kill creativity?</td>\n",
              "    </tr>\n",
              "    <tr>\n",
              "      <th>1</th>\n",
              "      <td>Amy Cuddy</td>\n",
              "      <td>Your body language may shape who you are</td>\n",
              "    </tr>\n",
              "    <tr>\n",
              "      <th>2</th>\n",
              "      <td>Tim Urban</td>\n",
              "      <td>Inside the mind of a master procrastinator</td>\n",
              "    </tr>\n",
              "    <tr>\n",
              "      <th>3</th>\n",
              "      <td>Brené Brown</td>\n",
              "      <td>The power of vulnerability</td>\n",
              "    </tr>\n",
              "    <tr>\n",
              "      <th>4</th>\n",
              "      <td>Simon Sinek</td>\n",
              "      <td>How great leaders inspire action</td>\n",
              "    </tr>\n",
              "    <tr>\n",
              "      <th>5</th>\n",
              "      <td>Julian Treasure</td>\n",
              "      <td>How to speak so that people want to listen</td>\n",
              "    </tr>\n",
              "    <tr>\n",
              "      <th>6</th>\n",
              "      <td>Sam Berns</td>\n",
              "      <td>My philosophy for a happy life</td>\n",
              "    </tr>\n",
              "    <tr>\n",
              "      <th>7</th>\n",
              "      <td>Bill Gates</td>\n",
              "      <td>The next outbreak? We're not ready</td>\n",
              "    </tr>\n",
              "    <tr>\n",
              "      <th>8</th>\n",
              "      <td>Robert Waldinger</td>\n",
              "      <td>What makes a good life? Lessons from the longe...</td>\n",
              "    </tr>\n",
              "    <tr>\n",
              "      <th>9</th>\n",
              "      <td>Mary Roach</td>\n",
              "      <td>10 things you didn't know about orgasm</td>\n",
              "    </tr>\n",
              "  </tbody>\n",
              "</table>\n",
              "</div>\n",
              "      <button class=\"colab-df-convert\" onclick=\"convertToInteractive('df-2e07e467-55a4-47e6-a7db-2f32161a5ad8')\"\n",
              "              title=\"Convert this dataframe to an interactive table.\"\n",
              "              style=\"display:none;\">\n",
              "        \n",
              "  <svg xmlns=\"http://www.w3.org/2000/svg\" height=\"24px\"viewBox=\"0 0 24 24\"\n",
              "       width=\"24px\">\n",
              "    <path d=\"M0 0h24v24H0V0z\" fill=\"none\"/>\n",
              "    <path d=\"M18.56 5.44l.94 2.06.94-2.06 2.06-.94-2.06-.94-.94-2.06-.94 2.06-2.06.94zm-11 1L8.5 8.5l.94-2.06 2.06-.94-2.06-.94L8.5 2.5l-.94 2.06-2.06.94zm10 10l.94 2.06.94-2.06 2.06-.94-2.06-.94-.94-2.06-.94 2.06-2.06.94z\"/><path d=\"M17.41 7.96l-1.37-1.37c-.4-.4-.92-.59-1.43-.59-.52 0-1.04.2-1.43.59L10.3 9.45l-7.72 7.72c-.78.78-.78 2.05 0 2.83L4 21.41c.39.39.9.59 1.41.59.51 0 1.02-.2 1.41-.59l7.78-7.78 2.81-2.81c.8-.78.8-2.07 0-2.86zM5.41 20L4 18.59l7.72-7.72 1.47 1.35L5.41 20z\"/>\n",
              "  </svg>\n",
              "      </button>\n",
              "      \n",
              "  <style>\n",
              "    .colab-df-container {\n",
              "      display:flex;\n",
              "      flex-wrap:wrap;\n",
              "      gap: 12px;\n",
              "    }\n",
              "\n",
              "    .colab-df-convert {\n",
              "      background-color: #E8F0FE;\n",
              "      border: none;\n",
              "      border-radius: 50%;\n",
              "      cursor: pointer;\n",
              "      display: none;\n",
              "      fill: #1967D2;\n",
              "      height: 32px;\n",
              "      padding: 0 0 0 0;\n",
              "      width: 32px;\n",
              "    }\n",
              "\n",
              "    .colab-df-convert:hover {\n",
              "      background-color: #E2EBFA;\n",
              "      box-shadow: 0px 1px 2px rgba(60, 64, 67, 0.3), 0px 1px 3px 1px rgba(60, 64, 67, 0.15);\n",
              "      fill: #174EA6;\n",
              "    }\n",
              "\n",
              "    [theme=dark] .colab-df-convert {\n",
              "      background-color: #3B4455;\n",
              "      fill: #D2E3FC;\n",
              "    }\n",
              "\n",
              "    [theme=dark] .colab-df-convert:hover {\n",
              "      background-color: #434B5C;\n",
              "      box-shadow: 0px 1px 3px 1px rgba(0, 0, 0, 0.15);\n",
              "      filter: drop-shadow(0px 1px 2px rgba(0, 0, 0, 0.3));\n",
              "      fill: #FFFFFF;\n",
              "    }\n",
              "  </style>\n",
              "\n",
              "      <script>\n",
              "        const buttonEl =\n",
              "          document.querySelector('#df-2e07e467-55a4-47e6-a7db-2f32161a5ad8 button.colab-df-convert');\n",
              "        buttonEl.style.display =\n",
              "          google.colab.kernel.accessAllowed ? 'block' : 'none';\n",
              "\n",
              "        async function convertToInteractive(key) {\n",
              "          const element = document.querySelector('#df-2e07e467-55a4-47e6-a7db-2f32161a5ad8');\n",
              "          const dataTable =\n",
              "            await google.colab.kernel.invokeFunction('convertToInteractive',\n",
              "                                                     [key], {});\n",
              "          if (!dataTable) return;\n",
              "\n",
              "          const docLinkHtml = 'Like what you see? Visit the ' +\n",
              "            '<a target=\"_blank\" href=https://colab.research.google.com/notebooks/data_table.ipynb>data table notebook</a>'\n",
              "            + ' to learn more about interactive tables.';\n",
              "          element.innerHTML = '';\n",
              "          dataTable['output_type'] = 'display_data';\n",
              "          await google.colab.output.renderOutput(dataTable, element);\n",
              "          const docLink = document.createElement('div');\n",
              "          docLink.innerHTML = docLinkHtml;\n",
              "          element.appendChild(docLink);\n",
              "        }\n",
              "      </script>\n",
              "    </div>\n",
              "  </div>\n",
              "  "
            ]
          },
          "metadata": {},
          "execution_count": 18
        }
      ]
    },
    {
      "cell_type": "markdown",
      "source": [
        "Si può notare come la maggior parte dei talks con più views corrispondano con quelli con più likes. È un risultato che ci aspettavamo siccome abbiamo visto in precedenza che è presente una forte correlazione tra il numero di views ed il numero di likes."
      ],
      "metadata": {
        "id": "dtyr4p4_aE8d"
      }
    },
    {
      "cell_type": "markdown",
      "source": [
        "Adesso vogliamo andare a vedere se è presente una preferenza sui mesi dove pubblicare i talks."
      ],
      "metadata": {
        "id": "u5uCERFKDZ7J"
      }
    },
    {
      "cell_type": "code",
      "source": [
        "import calendar\n",
        "ted['month'] = ted['date'].str.split(' ', expand=True)[0]\n",
        "\n",
        "ted['month']=pd.Categorical(ted['month'], categories=list(calendar.month_name)[1::], ordered=True)\n",
        "views = ted.sort_values(by='month').groupby('month')['views'].sum()\n",
        "\n",
        "views.plot(kind='bar')"
      ],
      "metadata": {
        "colab": {
          "base_uri": "https://localhost:8080/",
          "height": 353
        },
        "id": "LbKvyBDXDnh_",
        "outputId": "11573c05-3919-48d6-bde0-28c398207b51"
      },
      "execution_count": 19,
      "outputs": [
        {
          "output_type": "execute_result",
          "data": {
            "text/plain": [
              "<matplotlib.axes._subplots.AxesSubplot at 0x7fd24279db50>"
            ]
          },
          "metadata": {},
          "execution_count": 19
        },
        {
          "output_type": "display_data",
          "data": {
            "text/plain": [
              "<Figure size 432x288 with 1 Axes>"
            ],
            "image/png": "[encoded data removed]"
          },
          "metadata": {
            "needs_background": "light"
          }
        }
      ]
    },
    {
      "cell_type": "markdown",
      "source": [
        "Si può notare come nei mesi dove sono presenti le festività (gennaio, agosto e dicembre) sono stati pubblicati il minor numero di talks.\n",
        "\n",
        "Adesso andiamo a vedere l'andamento annuale di visualizzazioni e pubblicazioni di nuovi talks."
      ],
      "metadata": {
        "id": "R_FpNBB5C0em"
      }
    },
    {
      "cell_type": "code",
      "source": [
        "ted['year'] = ted['date'].str.split(' ', expand=True)[1]"
      ],
      "metadata": {
        "id": "u5s9KcyNDJYu"
      },
      "execution_count": 20,
      "outputs": []
    },
    {
      "cell_type": "code",
      "source": [
        "views = ted.groupby('year')['views'].sum()#/ted['views'].sum() #normalizzazione\n",
        "views.plot(kind='line', color='blue')"
      ],
      "metadata": {
        "colab": {
          "base_uri": "https://localhost:8080/",
          "height": 308
        },
        "id": "JhAVnmxaNoJV",
        "outputId": "b36ccbb3-df6f-4f02-d4e0-3e3f5422e264"
      },
      "execution_count": 21,
      "outputs": [
        {
          "output_type": "execute_result",
          "data": {
            "text/plain": [
              "<matplotlib.axes._subplots.AxesSubplot at 0x7fd24239d1d0>"
            ]
          },
          "metadata": {},
          "execution_count": 21
        },
        {
          "output_type": "display_data",
          "data": {
            "text/plain": [
              "<Figure size 432x288 with 1 Axes>"
            ],
            "image/png": "[encoded data removed]"
          },
          "metadata": {
            "needs_background": "light"
          }
        }
      ]
    },
    {
      "cell_type": "markdown",
      "source": [
        "È possibile notare come c'è stata una crescita nel numero di visualizzazioni sino al 2015, anno in cui si è raggiunto il picco, e successivamente sono calate. Andiamo a vedere se il 2015 coincide anche con una diminuzione nel numero di talks prodotti."
      ],
      "metadata": {
        "id": "lWtiavllN-79"
      }
    },
    {
      "cell_type": "code",
      "source": [
        "year = ted['year'].value_counts().sort_index()\n",
        "year.plot(kind='line', color='red')"
      ],
      "metadata": {
        "colab": {
          "base_uri": "https://localhost:8080/",
          "height": 283
        },
        "id": "pir5CSXQIdBJ",
        "outputId": "5e61fd9d-bfb7-4531-9e07-fa1440073c12"
      },
      "execution_count": 22,
      "outputs": [
        {
          "output_type": "execute_result",
          "data": {
            "text/plain": [
              "<matplotlib.axes._subplots.AxesSubplot at 0x7fd2423d3d90>"
            ]
          },
          "metadata": {},
          "execution_count": 22
        },
        {
          "output_type": "display_data",
          "data": {
            "text/plain": [
              "<Figure size 432x288 with 1 Axes>"
            ],
            "image/png": "[encoded data removed]"
          },
          "metadata": {
            "needs_background": "light"
          }
        }
      ]
    },
    {
      "cell_type": "markdown",
      "source": [
        "È possibile notare come in realtà sino al 2019 sono stati prodotti un numero sempre maggiore di talks, quindi questo ci fa pensare che a partire dal 2015 la gente ha iniziato a perdere interesse siccome è presente un aumento di talks prodotti (sino al 2019), ma una diminuzione nelle views.\n",
        "<br><br>\n",
        "Per vedere meglio i risultati ottenuti, andiamo a creare un grafico contenente i due risultati ottenuti. In questo caso i dati vengono normalizzati. Vengono rappresentati con la riga rossa il numero di talks prodotti e con la riga blu il numero di views registrate."
      ],
      "metadata": {
        "id": "_K-jvngHJgYS"
      }
    },
    {
      "cell_type": "code",
      "source": [
        "yearN = ted['year'].value_counts(normalize=True).sort_index()\n",
        "viewsN = views.div(views.sum())\n",
        "\n",
        "ax = viewsN.plot(kind='line', color='blue')\n",
        "ax = yearN.plot(ax=ax, kind='line', color='red')"
      ],
      "metadata": {
        "colab": {
          "base_uri": "https://localhost:8080/",
          "height": 279
        },
        "id": "zC8pzjpKPMg1",
        "outputId": "3613a36f-67b2-4ef3-f687-d3f2a6aef17d"
      },
      "execution_count": 23,
      "outputs": [
        {
          "output_type": "display_data",
          "data": {
            "text/plain": [
              "<Figure size 432x288 with 1 Axes>"
            ],
            "image/png": "[encoded data removed]"
          },
          "metadata": {
            "needs_background": "light"
          }
        }
      ]
    },
    {
      "cell_type": "markdown",
      "source": [
        "Vogliamo andare a vedere anche il numero medio di views per ogni anno."
      ],
      "metadata": {
        "id": "TwyjlaCwmBNf"
      }
    },
    {
      "cell_type": "code",
      "source": [
        "meanV = ted.groupby('year')['views'].mean().sort_index()\n",
        "meanV.plot(kind='line')"
      ],
      "metadata": {
        "id": "Y4FtE6bxhc6V",
        "outputId": "33769625-951a-46aa-d0c6-b8602ae42608",
        "colab": {
          "base_uri": "https://localhost:8080/",
          "height": 308
        }
      },
      "execution_count": 24,
      "outputs": [
        {
          "output_type": "execute_result",
          "data": {
            "text/plain": [
              "<matplotlib.axes._subplots.AxesSubplot at 0x7fd242495050>"
            ]
          },
          "metadata": {},
          "execution_count": 24
        },
        {
          "output_type": "display_data",
          "data": {
            "text/plain": [
              "<Figure size 432x288 with 1 Axes>"
            ],
            "image/png": "[encoded data removed]"
          },
          "metadata": {
            "needs_background": "light"
          }
        }
      ]
    },
    {
      "cell_type": "markdown",
      "source": [
        "Si può notare come l'anno in cui i talks sono andati mediamente meglio è il 2005 ed a partire dal 2015 c'è stata una continua diminuzione nelle views (risultato visto anche in precedenza siccome dal 2015 al 2019 sono sempre aumentati il numero di talks prodotti, ma diminuivano le views totali dell'anno)."
      ],
      "metadata": {
        "id": "i_JOfl7hmnkd"
      }
    },
    {
      "cell_type": "markdown",
      "source": [
        "Un altro tipo di analisi che vogliamo fare è sui titoli, infatti vogliamo vedere se sono presenti delle parole che compaiono la maggior parte delle volte per provare a trovare le tematiche più comuni."
      ],
      "metadata": {
        "id": "x6Nc7zq0TUVu"
      }
    },
    {
      "cell_type": "code",
      "source": [
        "import nltk\n",
        "from nltk.corpus import stopwords\n",
        "from termcolor import colored\n",
        "nltk.download('stopwords')\n",
        "\n",
        "def getWords(ds):\n",
        "  banned = list(stopwords.words('english'))+['—', 'new', 'us', 'could', 'we\\'re']\n",
        "  wordsList=[]\n",
        "  for v in ds.values:\n",
        "    for w in v.split():\n",
        "      if w.lower() not in banned:\n",
        "        wordsList.append(w.lower())\n",
        "  words = pd.DataFrame({'word':wordsList})['word'].value_counts().nlargest(6)\n",
        "  return words\n",
        "\n",
        "def getWordsColor(w, c):\n",
        "  word_color=dict()\n",
        "  count=0\n",
        "  for w in words.index: \n",
        "    word_color[w]=c[count]\n",
        "    count+=1\n",
        "  return word_color\n",
        "\n",
        "def plotWords(w, c):\n",
        "  ax = words.plot(kind='bar')\n",
        "  count=0\n",
        "  for rect in ax.patches:\n",
        "    rect.set_color(c[count])\n",
        "    count+=1\n",
        "\n",
        "def printTitleColor(t, w_dictionary):\n",
        "  for title in t:\n",
        "    for w in title.split():\n",
        "      if w.lower() in w_dictionary:\n",
        "        print(colored(w, w_dictionary[w.lower()]), end=' ')\n",
        "      else:\n",
        "        print(w, end=' ')\n",
        "    print()"
      ],
      "metadata": {
        "id": "5m_fnIVwmUCe",
        "outputId": "35526069-9b44-4d34-a8ca-e021e9bea840",
        "colab": {
          "base_uri": "https://localhost:8080/"
        }
      },
      "execution_count": 32,
      "outputs": [
        {
          "output_type": "stream",
          "name": "stdout",
          "text": [
            "[nltk_data] Downloading package stopwords to /root/nltk_data...\n",
            "[nltk_data]   Package stopwords is already up-to-date!\n"
          ]
        }
      ]
    },
    {
      "cell_type": "code",
      "source": [
        "color=['red','green','yellow','blue','magenta','cyan']\n",
        "\n",
        "\n",
        "words=getWords(ted['title'])\n",
        "word_color=getWordsColor(words,color)\n",
        "plotWords(words,color)\n",
        "\n"
      ],
      "metadata": {
        "id": "T63fbWXgTT5q",
        "outputId": "1c03d925-b4e4-42ea-ba52-c29a5bbcabb4",
        "colab": {
          "base_uri": "https://localhost:8080/",
          "height": 292
        }
      },
      "execution_count": 26,
      "outputs": [
        {
          "output_type": "display_data",
          "data": {
            "text/plain": [
              "<Figure size 432x288 with 1 Axes>"
            ],
            "image/png": "[encoded data removed]"
          },
          "metadata": {
            "needs_background": "light"
          }
        }
      ]
    },
    {
      "cell_type": "markdown",
      "source": [
        "Tra le paroli più comuni, si può notare come siano presenti, quasi nella stessa quantità, le parole `climate` e `change`, a suggerire come uno dei temi più importanti degli ultimi anni, ossia il cambiamento climatico, venga trattato molto frequentemente anche nei talks presenti su Ted Talks. Andiamo a verificare quante volte compaiono nello stesso titolo."
      ],
      "metadata": {
        "id": "i_sQ9qPvdyyt"
      }
    },
    {
      "cell_type": "code",
      "source": [
        "countBoth=0\n",
        "countClimate=0\n",
        "countChange=0\n",
        "for v in ted['title'].values:\n",
        "  v = v.lower()\n",
        "  if 'climate' in v and 'change' in v:\n",
        "    countBoth+=1\n",
        "  if 'climate' in v:\n",
        "    countClimate+=1\n",
        "  if 'change' in v:\n",
        "    countChange+=1\n",
        "print(f\"'Climate' compare {countClimate} volte, 'Change' compare {countChange} volte e compaiono entrambe nello stesso titolo {countBoth} volte\")"
      ],
      "metadata": {
        "id": "f6zjtrm_e9AP",
        "outputId": "dfe93105-a4a7-42e4-9fa3-fcbf56923df9",
        "colab": {
          "base_uri": "https://localhost:8080/"
        }
      },
      "execution_count": 27,
      "outputs": [
        {
          "output_type": "stream",
          "name": "stdout",
          "text": [
            "'Climate' compare 92 volte, 'Change' compare 136 volte e compaiono entrambe nello stesso titolo 48 volte\n"
          ]
        }
      ]
    },
    {
      "cell_type": "markdown",
      "source": [
        "`Change` ovviamente compare più volte essendo anche una parola che può essere usata in diversi abiti, ma è interessante notare come più del 50% delle volte la parola `Climate` compare insieme a `Change`.\n",
        "\n"
      ],
      "metadata": {
        "id": "3YjBpPOjeoyc"
      }
    },
    {
      "cell_type": "markdown",
      "source": [
        "Adesso andiamo a vedere se è presente un legame tra le parole più usate ed i titoli dei 50 talks con più views"
      ],
      "metadata": {
        "id": "UAYqETfSfBzN"
      }
    },
    {
      "cell_type": "code",
      "source": [
        "bestTalksByViews = ted.sort_values(by='views', ascending=False, ignore_index=True).nlargest(50, 'views')['title']\n",
        "printTitleColor(bestTalksByViews, word_color)"
      ],
      "metadata": {
        "id": "pvLggDfhfJvK",
        "outputId": "cd0ec3ba-05bc-4c94-ca59-c0232a831344",
        "colab": {
          "base_uri": "https://localhost:8080/"
        }
      },
      "execution_count": 28,
      "outputs": [
        {
          "output_type": "stream",
          "name": "stdout",
          "text": [
            "Do schools kill creativity? \n",
            "Your body language may shape who you are \n",
            "Inside the mind of a master procrastinator \n",
            "How great leaders inspire action \n",
            "The power of vulnerability \n",
            "How to speak so that people want to listen \n",
            "My philosophy for a happy \u001b[31mlife\u001b[0m \n",
            "The next outbreak? We're not ready \n",
            "What makes a good life? Lessons from the longest study on happiness \n",
            "Looks aren't everything. Believe me, I'm a model. \n",
            "10 things you didn't know about orgasm \n",
            "Why people believe they can't draw \n",
            "The orchestra in my mouth \n",
            "The art of misdirection \n",
            "How to spot a liar \n",
            "The danger of a single story \n",
            "The power of introverts \n",
            "The \u001b[32mfuture\u001b[0m we're building — and boring \n",
            "How to make stress your friend \n",
            "How to stop screwing yourself over \n",
            "How I held my breath for 17 minutes \n",
            "The puzzle of motivation \n",
            "My stroke of insight \n",
            "Strange answers to the psychopath test \n",
            "Questions no one knows the answers to \n",
            "10 ways to have a better conversation \n",
            "Grit: The power of passion and perseverance \n",
            "Can you solve the prisoner hat riddle? \n",
            "The happy secret to better work \n",
            "My escape from North Korea \n",
            "The Infinite Hotel Paradox \n",
            "What are those floaty things in your eye? \n",
            "The price of shame \n",
            "What is depression? \n",
            "Your elusive creative genius \n",
            "The surprising science of happiness \n",
            "A Saudi, an Indian and an Iranian walk into a Qatari bar ... \n",
            "The secret to desire in a long-term relationship \n",
            "Can you solve the bridge riddle? \n",
            "The surprising habits of original thinkers \n",
            "Rethinking infidelity ... a talk for anyone who has ever loved \n",
            "The thrilling potential of SixthSense technology \n",
            "How to stay calm when you know you'll be stressed \n",
            "What makes you special? \n",
            "The language of lying \n",
            "Brain magic \n",
            "Everything you think you know about addiction is wrong \n",
            "A simple way to break a bad habit \n",
            "What would happen if you didn't drink water? \n",
            "How language shapes the way we think \n"
          ]
        }
      ]
    },
    {
      "cell_type": "markdown",
      "source": [
        "Si può notare come, tranne una volta `life` e `future`, le parole che abbiamo trovato che vengono utilizzate maggiormente, non compaiono nei primi 50 titoli, quindi non sono presenti legami tra temi trattati e numero di visualizzazioni.\n"
      ],
      "metadata": {
        "id": "FZUb4eqpleb5"
      }
    },
    {
      "cell_type": "markdown",
      "source": [
        "Andiamo a vedere le parole più usate nei primi 50 titoli per vedere se sono presenti dei temi ricorrenti."
      ],
      "metadata": {
        "id": "pl8f81Mpl44j"
      }
    },
    {
      "cell_type": "code",
      "source": [
        "words=getWords(bestTalksByViews)\n",
        "word_color=getWordsColor(words,color)\n",
        "plotWords(words,color)"
      ],
      "metadata": {
        "id": "cffrWgvKl38K",
        "outputId": "3da6c7f1-76f2-4cdb-9955-2684ef344d5d",
        "colab": {
          "base_uri": "https://localhost:8080/",
          "height": 302
        }
      },
      "execution_count": 29,
      "outputs": [
        {
          "output_type": "display_data",
          "data": {
            "text/plain": [
              "<Figure size 432x288 with 1 Axes>"
            ],
            "image/png": "[encoded data removed]"
          },
          "metadata": {
            "needs_background": "light"
          }
        }
      ]
    },
    {
      "cell_type": "code",
      "source": [
        "printTitleColor(bestTalksByViews, word_color)"
      ],
      "metadata": {
        "id": "nzcWNgLGqQRH",
        "outputId": "0e5caef0-912b-4a93-ab2a-c57f71f2a795",
        "colab": {
          "base_uri": "https://localhost:8080/"
        }
      },
      "execution_count": 33,
      "outputs": [
        {
          "output_type": "stream",
          "name": "stdout",
          "text": [
            "Do schools kill creativity? \n",
            "Your body \u001b[31mlanguage\u001b[0m may shape who you are \n",
            "Inside the mind of a master procrastinator \n",
            "How great leaders inspire action \n",
            "The \u001b[33mpower\u001b[0m of vulnerability \n",
            "How to speak so that people want to listen \n",
            "My philosophy for a happy life \n",
            "The next outbreak? We're not ready \n",
            "What \u001b[36mmakes\u001b[0m a good life? Lessons from the longest study on happiness \n",
            "Looks aren't everything. Believe me, I'm a model. \n",
            "\u001b[35m10\u001b[0m \u001b[34mthings\u001b[0m you didn't \u001b[32mknow\u001b[0m about orgasm \n",
            "Why people believe they can't draw \n",
            "The orchestra in my mouth \n",
            "The art of misdirection \n",
            "How to spot a liar \n",
            "The danger of a single story \n",
            "The \u001b[33mpower\u001b[0m of introverts \n",
            "The future we're building — and boring \n",
            "How to make stress your friend \n",
            "How to stop screwing yourself over \n",
            "How I held my breath for 17 minutes \n",
            "The puzzle of motivation \n",
            "My stroke of insight \n",
            "Strange answers to the psychopath test \n",
            "Questions no one knows the answers to \n",
            "\u001b[35m10\u001b[0m ways to have a better conversation \n",
            "Grit: The \u001b[33mpower\u001b[0m of passion and perseverance \n",
            "Can you solve the prisoner hat riddle? \n",
            "The happy secret to better work \n",
            "My escape from North Korea \n",
            "The Infinite Hotel Paradox \n",
            "What are those floaty \u001b[34mthings\u001b[0m in your eye? \n",
            "The price of shame \n",
            "What is depression? \n",
            "Your elusive creative genius \n",
            "The surprising science of happiness \n",
            "A Saudi, an Indian and an Iranian walk into a Qatari bar ... \n",
            "The secret to desire in a long-term relationship \n",
            "Can you solve the bridge riddle? \n",
            "The surprising habits of original thinkers \n",
            "Rethinking infidelity ... a talk for anyone who has ever loved \n",
            "The thrilling potential of SixthSense technology \n",
            "How to stay calm when you \u001b[32mknow\u001b[0m you'll be stressed \n",
            "What \u001b[36mmakes\u001b[0m you special? \n",
            "The \u001b[31mlanguage\u001b[0m of lying \n",
            "Brain magic \n",
            "Everything you think you \u001b[32mknow\u001b[0m about addiction is wrong \n",
            "A simple way to break a bad habit \n",
            "What would happen if you didn't drink water? \n",
            "How \u001b[31mlanguage\u001b[0m shapes the way we think \n"
          ]
        }
      ]
    },
    {
      "cell_type": "markdown",
      "source": [
        "Analizzando le parole trovate, è possibile notare come nella top 50 dei talks più visti siano presenti:\n",
        "\n",
        "\n",
        "*   Due talks dove viene trattato un elenco di cose da fare (ed hanno in comune la parola `10`)\n",
        "*   Tre talks dove vengono analizzati i punti di forza (ed hanno in comune la parola `power`)\n",
        "*   Tre talks dove viene analizzato il linguaggio (ed hanno in comune la parola `language`)\n",
        "*   Due talks dove vengono dati consigli su come migliorare la propria vita e la propria persona (ed hanno in comune la parola `makes`)\n"
      ],
      "metadata": {
        "id": "xk_EUCS0qc6V"
      }
    },
    {
      "cell_type": "markdown",
      "source": [
        "Adesso andiamo a mostrare la distribuzione del numero di visualizzazioni"
      ],
      "metadata": {
        "id": "S0VXl0ClMyku"
      }
    },
    {
      "cell_type": "code",
      "source": [
        "ted['views'].plot(kind='box')"
      ],
      "metadata": {
        "colab": {
          "base_uri": "https://localhost:8080/",
          "height": 294
        },
        "id": "ru44l2zCNtmS",
        "outputId": "91082818-a5c2-4414-8511-35352a24923e"
      },
      "execution_count": 30,
      "outputs": [
        {
          "output_type": "execute_result",
          "data": {
            "text/plain": [
              "<matplotlib.axes._subplots.AxesSubplot at 0x7fd23de8b890>"
            ]
          },
          "metadata": {},
          "execution_count": 30
        },
        {
          "output_type": "display_data",
          "data": {
            "text/plain": [
              "<Figure size 432x288 with 1 Axes>"
            ],
            "image/png": "[encoded data removed]"
          },
          "metadata": {
            "needs_background": "light"
          }
        }
      ]
    },
    {
      "cell_type": "markdown",
      "source": [
        "È possibile notare come la maggior parte dei talks abbia molte meno views rispetto ai talks più guardati. \n",
        "\n",
        "\n",
        "\n",
        "\n"
      ],
      "metadata": {
        "id": "NJ-XS_nTQfJr"
      }
    },
    {
      "cell_type": "markdown",
      "source": [
        "Adesso andiamo a dividere il grafico in due parti:\n",
        "\n",
        "\n",
        "*   I talks con un numero di views inferiore al terzo quantile\n",
        "*   I talks con un numero di views superiore al terzo quantile"
      ],
      "metadata": {
        "id": "wLtptZDuWeZO"
      }
    },
    {
      "cell_type": "code",
      "source": [
        "q3 = ted['views'].quantile(0.75)\n",
        "lessThan = np.where(ted['views']<=q3)[0]\n",
        "moreThan = np.where(ted['views']>q3)[0]\n",
        "plt.figure(figsize=(15,5))\n",
        "plt.subplot(1,2,1)\n",
        "ted['views'][lessThan].plot(kind='box', title=\"Meno di \"+str(q3)+\" visualizzazioni\")\n",
        "plt.subplot(1,2,2)\n",
        "ted['views'][moreThan].plot(kind='box', title=\"Più di \"+str(q3)+\" visualizzazioni\")"
      ],
      "metadata": {
        "colab": {
          "base_uri": "https://localhost:8080/",
          "height": 354
        },
        "id": "KDP--najOHCS",
        "outputId": "a0bceeaa-b50c-4f67-87f7-c5beab42b2e1"
      },
      "execution_count": 31,
      "outputs": [
        {
          "output_type": "execute_result",
          "data": {
            "text/plain": [
              "<matplotlib.axes._subplots.AxesSubplot at 0x7fd23dd9f150>"
            ]
          },
          "metadata": {},
          "execution_count": 31
        },
        {
          "output_type": "display_data",
          "data": {
            "text/plain": [
              "<Figure size 1080x360 with 2 Axes>"
            ],
            "image/png": "[encoded data removed]"
          },
          "metadata": {
            "needs_background": "light"
          }
        }
      ]
    },
    {
      "cell_type": "markdown",
      "source": [
        "È possibile notare come la maggior parte dei talks con un numero di views inferiore a 2100000 (terzo quantile), abbia un numero di views compreso tra le 500000 e le 1500000, al di sopra del terzo quantile possiamo vedere come la maggior parte dei talks abbia comunque meno di 10000000 views e veramente pochi talks superano le 30000000 views."
      ],
      "metadata": {
        "id": "GL4xYUadUK-O"
      }
    }
  ],
  "metadata": {
    "kernelspec": {
      "display_name": "Python 3",
      "language": "python",
      "name": "python3"
    },
    "language_info": {
      "codemirror_mode": {
        "name": "ipython",
        "version": 2
      },
      "file_extension": ".py",
      "mimetype": "text/x-python",
      "name": "python",
      "nbconvert_exporter": "python",
      "pygments_lexer": "ipython2",
      "version": "2.7.6"
    },
    "colab": {
      "name": "progetto.ipynb",
      "provenance": []
    }
  },
  "nbformat": 4,
  "nbformat_minor": 0
}
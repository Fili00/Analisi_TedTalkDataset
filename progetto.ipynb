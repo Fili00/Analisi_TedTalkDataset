{
 "cells": [
  {
   "cell_type": "markdown",
   "source": [
    "Progetto realizzato da: Siri Filippo (4819642)<br>Analisi del dataset TED Talks"
   ],
   "metadata": {
    "collapsed": false,
    "pycharm": {
     "name": "#%% md\n"
    }
   }
  },
  {
   "cell_type": "code",
   "execution_count": null,
   "outputs": [],
   "source": [
    "import pandas as pd\n",
    "import matplotlib.pyplot as plt\n",
    "import numpy as np\n",
    "import scipy.stats as stats\n",
    "import scipy\n",
    "from sklearn import metrics\n",
    "from sklearn.model_selection import train_test_split\n",
    "from sklearn.linear_model import LinearRegression"
   ],
   "metadata": {
    "collapsed": false,
    "pycharm": {
     "name": "#%%\n"
    }
   }
  },
  {
   "cell_type": "code",
   "execution_count": null,
   "outputs": [],
   "source": [
    "ted = pd.read_csv('data.csv')"
   ],
   "metadata": {
    "collapsed": false,
    "pycharm": {
     "name": "#%%\n"
    }
   }
  },
  {
   "cell_type": "markdown",
   "source": [
    "Dopo aver importato le varie librerie necessarie ed il file CSV, iniziamo l'analisi del dataset andando a vedere le colonne presenti e la dimensione del dataset."
   ],
   "metadata": {
    "collapsed": false,
    "pycharm": {
     "name": "#%% md\n"
    }
   }
  },
  {
   "cell_type": "code",
   "execution_count": null,
   "outputs": [],
   "source": [
    "ted.head()"
   ],
   "metadata": {
    "collapsed": false,
    "pycharm": {
     "name": "#%%\n"
    }
   }
  },
  {
   "cell_type": "code",
   "execution_count": null,
   "outputs": [],
   "source": [
    "ted.shape"
   ],
   "metadata": {
    "collapsed": false,
    "pycharm": {
     "name": "#%%\n"
    }
   }
  },
  {
   "cell_type": "markdown",
   "source": [
    "Per prima cosa analizziamo le feature del dataset dividendole in qualitative e quantitative. In questo modo andiamo possiamo farci una prima idea dei valori presenti ed andiamo a trovare eventuali valori nulli."
   ],
   "metadata": {
    "collapsed": false,
    "pycharm": {
     "name": "#%% md\n"
    }
   }
  },
  {
   "cell_type": "code",
   "execution_count": null,
   "outputs": [],
   "source": [
    "ted_quantitative = ted[['views','likes']]\n",
    "ted_qualitative = ted[['title', 'author', 'date', 'link']]"
   ],
   "metadata": {
    "collapsed": false,
    "pycharm": {
     "name": "#%%\n"
    }
   }
  },
  {
   "cell_type": "code",
   "execution_count": null,
   "outputs": [],
   "source": [
    "ted_quantitative.describe().apply(lambda s: s.apply('{0:.5f}'.format))"
   ],
   "metadata": {
    "collapsed": false,
    "pycharm": {
     "name": "#%%\n"
    }
   }
  },
  {
   "cell_type": "markdown",
   "source": [
    "Le feature quantitative presenti nel dataset `views` e `likes`. È possibile notare che non sono presenti valori nulli e che non esistono talks che non sono mai stati guardati (valore minimo di views 532) o che non hanno ricevuto nemmeno un like. "
   ],
   "metadata": {
    "collapsed": false,
    "pycharm": {
     "name": "#%% md\n"
    }
   }
  },
  {
   "cell_type": "code",
   "execution_count": null,
   "outputs": [],
   "source": [
    "ted_qualitative.describe()"
   ],
   "metadata": {
    "collapsed": false,
    "pycharm": {
     "name": "#%%\n"
    }
   }
  },
  {
   "cell_type": "markdown",
   "source": [
    "Le feature qualitative presenti nel dataset sono `title`, `author`, `date` e `link`. Si può notare che non esistono talks con lo stesso titolo e che un autore può pubblicare diversi talks. Abbiamo anche trovato che l'autore che ha pubblicato il maggior numero di talks è `Alex Gendler`. Siccome sono presenti 5439 valori per la feature `author`, vuol dire che è presente un talk con il campo `author` nullo."
   ],
   "metadata": {
    "collapsed": false,
    "pycharm": {
     "name": "#%% md\n"
    }
   }
  },
  {
   "cell_type": "code",
   "execution_count": null,
   "outputs": [],
   "source": [
    "ted[ted.isnull().any(axis=1)]"
   ],
   "metadata": {
    "collapsed": false,
    "pycharm": {
     "name": "#%%\n"
    }
   }
  },
  {
   "cell_type": "markdown",
   "source": [
    "Abbiamo trovato che il talk con `author` nullo è un video che racchiude parti dei vari talk presentati durante l'anno. Decidiamo di rimpiazzare il valore nullo con `Unknown author`."
   ],
   "metadata": {
    "collapsed": false,
    "pycharm": {
     "name": "#%% md\n"
    }
   }
  },
  {
   "cell_type": "code",
   "execution_count": null,
   "outputs": [],
   "source": [
    "ted['author'].fillna('Unknown author', inplace=True)\n",
    "ted.isnull().sum()"
   ],
   "metadata": {
    "collapsed": false,
    "pycharm": {
     "name": "#%%\n"
    }
   }
  },
  {
   "cell_type": "markdown",
   "source": [
    "Adesso vogliamo vedere se è presente una correlazione tra il numero di views ed il numero di likes (le due feature quantitative)."
   ],
   "metadata": {
    "collapsed": false,
    "pycharm": {
     "name": "#%% md\n"
    }
   }
  },
  {
   "cell_type": "code",
   "execution_count": null,
   "outputs": [],
   "source": [
    "ted.corr()"
   ],
   "metadata": {
    "collapsed": false,
    "pycharm": {
     "name": "#%%\n"
    }
   }
  },
  {
   "cell_type": "code",
   "execution_count": null,
   "outputs": [],
   "source": [
    "plt.scatter(ted['views'], ted['likes'])"
   ],
   "metadata": {
    "collapsed": false,
    "pycharm": {
     "name": "#%%\n"
    }
   }
  },
  {
   "cell_type": "markdown",
   "source": [
    "È possibile notare che è presente una forte correlazione ed è possibile notarlo anche dal grafico.\n"
   ],
   "metadata": {
    "collapsed": false,
    "pycharm": {
     "name": "#%% md\n"
    }
   }
  },
  {
   "cell_type": "markdown",
   "source": [
    "Siccome è presente questa forte correlazione, vogliamo implementare ed allenare un modello di regressione lineare che consenta di prevedere il numero di likes dato il numero di views. Dividiamo il dataset nel training set (utilizzato per allenare il modello) e nel validation set (utilizzato per verificare il modello). Per dividere il dataset usiamo come rapporto 70/30 (training/validation).\n"
   ],
   "metadata": {
    "collapsed": false,
    "pycharm": {
     "name": "#%% md\n"
    }
   }
  },
  {
   "cell_type": "code",
   "execution_count": null,
   "outputs": [],
   "source": [
    "features = ['views']\n",
    "x = ted[features]\n",
    "y = ted['likes']\n",
    "X_train, X_valid, y_train, y_valid = train_test_split(x, y, test_size=0.3)\n",
    "regressor = LinearRegression()\n",
    "lin_reg = regressor.fit(X_train, y_train)\n",
    "\n",
    "print(\"Score:\",regressor.score(X_valid, y_valid))"
   ],
   "metadata": {
    "collapsed": false,
    "pycharm": {
     "name": "#%%\n"
    }
   }
  },
  {
   "cell_type": "markdown",
   "source": [
    "Grazie all'alta correlazione presente tra numero di views e numero di likes abbiamo ottenuto uno score molto alto e quindi la funzione generata sarà in grado di approssimare correttamente l'andamento dei dati."
   ],
   "metadata": {
    "collapsed": false,
    "pycharm": {
     "name": "#%% md\n"
    }
   }
  },
  {
   "cell_type": "markdown",
   "source": [
    "La funzione ottenuta è caratterizzata dalle seguenti componenti:"
   ],
   "metadata": {
    "collapsed": false,
    "pycharm": {
     "name": "#%% md\n"
    }
   }
  },
  {
   "cell_type": "code",
   "execution_count": null,
   "outputs": [],
   "source": [
    "print('Coefficiente:', lin_reg.coef_)\n",
    "print('Intercetta:', lin_reg.intercept_)"
   ],
   "metadata": {
    "collapsed": false,
    "pycharm": {
     "name": "#%%\n"
    }
   }
  },
  {
   "cell_type": "markdown",
   "source": [
    "Per vedere meglio la funzione ottenuta andiamo ad osservare il grafico"
   ],
   "metadata": {
    "collapsed": false,
    "pycharm": {
     "name": "#%% md\n"
    }
   }
  },
  {
   "cell_type": "code",
   "execution_count": null,
   "outputs": [],
   "source": [
    "plt.scatter(X_train, y_train)\n",
    "\n",
    "y_hat = X_train * lin_reg.coef_ + lin_reg.intercept_\n",
    "\n",
    "plt.plot(X_train, y_hat, color='r') "
   ],
   "metadata": {
    "collapsed": false,
    "pycharm": {
     "name": "#%%\n"
    }
   }
  },
  {
   "cell_type": "markdown",
   "source": [
    "Adesso andiamo a vedere quali sono i talks con il maggior numero di views e con il maggior numero di likes. Siccome è presente questa forte correlazione ci aspettiamo di trovare più o meno gli stessi talks."
   ],
   "metadata": {
    "collapsed": false,
    "pycharm": {
     "name": "#%% md\n"
    }
   }
  },
  {
   "cell_type": "code",
   "execution_count": null,
   "outputs": [],
   "source": [
    "bestTalksByViews = ted.sort_values(by='views', ascending=False, ignore_index=True).nlargest(20, 'views')[['author', 'title', 'date', 'views']]\n",
    "bestTalksByViews"
   ],
   "metadata": {
    "collapsed": false,
    "pycharm": {
     "name": "#%%\n"
    }
   }
  },
  {
   "cell_type": "code",
   "execution_count": null,
   "outputs": [],
   "source": [
    "bestTalksByLikes = ted.sort_values(by='likes', ascending=False, ignore_index=True).nlargest(20, 'likes')[['author', 'title', 'date', 'likes']]\n",
    "bestTalksByLikes"
   ],
   "metadata": {
    "collapsed": false,
    "pycharm": {
     "name": "#%%\n"
    }
   }
  },
  {
   "cell_type": "markdown",
   "source": [
    "Come ci aspettavamo, la maggior parte dei talks con più views sono anche quelli con più likes. Adesso andiamo a vedere quali sono i talks con il miglior rapporto `#likes/#views`."
   ],
   "metadata": {
    "collapsed": false,
    "pycharm": {
     "name": "#%% md\n"
    }
   }
  },
  {
   "cell_type": "code",
   "execution_count": null,
   "outputs": [],
   "source": [
    "ted['ratio']=ted['likes'].div(ted['views'])\n",
    "ted.sort_values(by='ratio', ascending=False, ignore_index=True).nlargest(20, 'ratio')[['author', 'title', 'ratio']]"
   ],
   "metadata": {
    "collapsed": false,
    "pycharm": {
     "name": "#%%\n"
    }
   }
  },
  {
   "cell_type": "markdown",
   "source": [
    "Si può osservare che nessuno dei talks più visti o con più likes compare nella classifica dei talks con il rapporto migliore."
   ],
   "metadata": {
    "collapsed": false,
    "pycharm": {
     "name": "#%% md\n"
    }
   }
  },
  {
   "cell_type": "markdown",
   "source": [
    "Andiamo a vedere quali sono gli autori che hanno prodotto il maggior numero di talks e quali hanno ottenuto il maggior numero di views per vedere se è presente una correlazione tra le due cose."
   ],
   "metadata": {
    "collapsed": false,
    "pycharm": {
     "name": "#%% md\n"
    }
   }
  },
  {
   "cell_type": "code",
   "execution_count": null,
   "outputs": [],
   "source": [
    "authorProduct = ted.sort_values(by='author')['author'].value_counts()\n",
    "authorProductLimited = authorProduct.nlargest(10)\n",
    "\n",
    "\n",
    "authorViews = ted.sort_values(by='author').groupby('author')['views'].sum() #normalizzazione\n",
    "authorViewsLimited = authorViews.nlargest(10)\n",
    "\n",
    "\n",
    "\n",
    "plt.figure(figsize=(15,5))\n",
    "plt.subplot(1,2,1)\n",
    "authorProductLimited.plot(kind='bar', title=\"Autori che hanno prodotto il maggior numero di talks\")\n",
    "plt.subplot(1,2,2)\n",
    "authorViewsLimited.plot(kind='bar', title=\"Autori che hanno ottenuto il maggior numero di views\")"
   ],
   "metadata": {
    "collapsed": false,
    "pycharm": {
     "name": "#%%\n"
    }
   }
  },
  {
   "cell_type": "markdown",
   "source": [
    "Si può notare come, tranne Alex Gendler, la maggior parte degli autori con il maggior numero di views non corrispondano con quelli che hanno pubblicato più talks. Andiamo a vedere se è presente una correlazione tra il numero di talks pubblicati ed il numero di views di un autore utilizzando l'intero dataset."
   ],
   "metadata": {
    "collapsed": false,
    "pycharm": {
     "name": "#%% md\n"
    }
   }
  },
  {
   "cell_type": "code",
   "execution_count": null,
   "outputs": [],
   "source": [
    "plt.scatter(authorViews, authorProduct.sort_index())"
   ],
   "metadata": {
    "collapsed": false,
    "pycharm": {
     "name": "#%%\n"
    }
   }
  },
  {
   "cell_type": "code",
   "execution_count": null,
   "outputs": [],
   "source": [
    "authorViews.sort_index().corr(authorProduct.sort_index())"
   ],
   "metadata": {
    "collapsed": false,
    "pycharm": {
     "name": "#%%\n"
    }
   }
  },
  {
   "cell_type": "markdown",
   "source": [
    "È presente una moderata correlazione tra numero di talks prodotti e numero di views registrate."
   ],
   "metadata": {
    "collapsed": false,
    "pycharm": {
     "name": "#%% md\n"
    }
   }
  },
  {
   "cell_type": "markdown",
   "source": [
    "Adesso vogliamo andare a vedere se è presente una preferenza sui mesi dove pubblicare i talks."
   ],
   "metadata": {
    "collapsed": false,
    "pycharm": {
     "name": "#%% md\n"
    }
   }
  },
  {
   "cell_type": "code",
   "execution_count": null,
   "outputs": [],
   "source": [
    "import calendar\n",
    "ted['month'] = ted['date'].str.split(' ', expand=True)[0]\n",
    "\n",
    "ted['month']=pd.Categorical(ted['month'], categories=list(calendar.month_name)[1::], ordered=True)\n",
    "views = ted.sort_values(by='month').groupby('month')['views'].sum()\n",
    "\n",
    "views.plot(kind='bar')"
   ],
   "metadata": {
    "collapsed": false,
    "pycharm": {
     "name": "#%%\n"
    }
   }
  },
  {
   "cell_type": "markdown",
   "source": [
    "Si può notare come nei mesi dove sono presenti le festività (gennaio, agosto e dicembre) sono stati pubblicati il minor numero di talks.\n",
    "\n",
    "Adesso andiamo a vedere l'andamento annuale di visualizzazioni e pubblicazioni di nuovi talks."
   ],
   "metadata": {
    "collapsed": false,
    "pycharm": {
     "name": "#%% md\n"
    }
   }
  },
  {
   "cell_type": "code",
   "execution_count": null,
   "outputs": [],
   "source": [
    "ted['year'] = [int(x) for x in ted['date'].str.split(' ', expand=True)[1]]"
   ],
   "metadata": {
    "collapsed": false,
    "pycharm": {
     "name": "#%%\n"
    }
   }
  },
  {
   "cell_type": "code",
   "execution_count": null,
   "outputs": [],
   "source": [
    "views = ted.groupby('year')['views'].sum()#/ted['views'].sum() #normalizzazione\n",
    "year = ted['year'].value_counts().sort_index()\n",
    "\n",
    "plt.figure(figsize=(15,5))\n",
    "plt.subplot(1,2,1)\n",
    "views.plot(kind='bar', color='blue', title=\"Views per anno\")\n",
    "plt.subplot(1,2,2)\n",
    "year.plot(kind='bar', color='red', title=\"Pubblicazioni per anno\")\n",
    "\n",
    "\n"
   ],
   "metadata": {
    "collapsed": false,
    "pycharm": {
     "name": "#%%\n"
    }
   }
  },
  {
   "cell_type": "markdown",
   "source": [
    "È possibile osservare che l'andamento del numero di pubblicazioni in un anno è simile a quello del numero di views, ma dal 2015 al 2019 i due andamenti sono andati diversamente, infatti mentre dal 2015 si è iniziato a registrare un calo nel numero di views, il numero di pubblicazioni ha continuato a crescere sino al 2019.\n",
    "Per osservare meglio i due andamenti andiamo a sovrapporre i due grafici."
   ],
   "metadata": {
    "collapsed": false,
    "pycharm": {
     "name": "#%% md\n"
    }
   }
  },
  {
   "cell_type": "markdown",
   "source": [
    "È possibile notare come in realtà sino al 2019 sono stati prodotti un numero sempre maggiore di talks, quindi questo ci fa pensare che a partire dal 2015 la gente ha iniziato a perdere interesse siccome è presente un aumento di talks prodotti (sino al 2019), ma una diminuzione nelle views.\n",
    "<br><br>\n",
    "Per vedere meglio i risultati ottenuti, andiamo a creare un grafico contenente i due risultati ottenuti. In questo caso i dati vengono normalizzati. Vengono rappresentati con la riga rossa il numero di talks prodotti e con la riga blu il numero di views registrate."
   ],
   "metadata": {
    "collapsed": false,
    "pycharm": {
     "name": "#%% md\n"
    }
   }
  },
  {
   "cell_type": "code",
   "execution_count": null,
   "outputs": [],
   "source": [
    "yearN = ted['year'].value_counts(normalize=True).sort_index()\n",
    "viewsN = views.div(views.sum())\n",
    "\n",
    "ax = viewsN.plot(kind='line', color='blue')\n",
    "ax = yearN.plot(ax=ax, kind='line', color='red')"
   ],
   "metadata": {
    "collapsed": false,
    "pycharm": {
     "name": "#%%\n"
    }
   }
  },
  {
   "cell_type": "markdown",
   "source": [
    "Un altro andamento che vogliamo osservare è quello del numero medio di views per anno. Sicuramente ci aspettiamo che a partire dal 2015 sia calato siccome, come abbiamo visto in precedenza, dal 2015 al 2019 sono aumentati il numero di talks prodotti, ma diminuiva il numero di views."
   ],
   "metadata": {
    "collapsed": false,
    "pycharm": {
     "name": "#%% md\n"
    }
   }
  },
  {
   "cell_type": "code",
   "execution_count": null,
   "outputs": [],
   "source": [
    "meanV = ted.groupby('year')['views'].mean().sort_index()\n",
    "ax = meanV.plot(kind='bar')"
   ],
   "metadata": {
    "collapsed": false,
    "pycharm": {
     "name": "#%%\n"
    }
   }
  },
  {
   "cell_type": "markdown",
   "source": [
    "Come ci aspettavamo a partire dal 2015 c'è stata una continua diminuzione del numero medio di views. Gli anni in cui le views medie sono andate meglio sono il 2004 ed il 2006. Andiamo a vedere quali sono i talks con più views pubblicati in quei due anni.\n"
   ],
   "metadata": {
    "collapsed": false,
    "pycharm": {
     "name": "#%% md\n"
    }
   }
  },
  {
   "cell_type": "code",
   "execution_count": null,
   "outputs": [],
   "source": [
    "ted[ted['year'] == 2004].sort_values(by='views', ascending=False, ignore_index=True).nlargest(10, 'views')[['author', 'title', 'views']]"
   ],
   "metadata": {
    "collapsed": false,
    "pycharm": {
     "name": "#%%\n"
    }
   }
  },
  {
   "cell_type": "code",
   "execution_count": null,
   "outputs": [],
   "source": [
    "ted[ted['year'] == 2006].sort_values(by='views', ascending=False, ignore_index=True).nlargest(10, 'views')[['author', 'title', 'views']]"
   ],
   "metadata": {
    "collapsed": false,
    "pycharm": {
     "name": "#%%\n"
    }
   }
  },
  {
   "cell_type": "markdown",
   "source": [
    "Si può notare come solo nel 2006 è presente uno dei 20 talks più visti in assoluto. Adesso andiamo a confrontare la distribuzione delle views in questi due anni con la distribuzione generale."
   ],
   "metadata": {
    "collapsed": false,
    "pycharm": {
     "name": "#%% md\n"
    }
   }
  },
  {
   "cell_type": "code",
   "execution_count": null,
   "outputs": [],
   "source": [
    "plt.figure(figsize=(15,5))\n",
    "labels = np.arange(0, 9e7, 1e7)\n",
    "\n",
    "plt.subplot(1,3,1)\n",
    "ax = ted[ted['year'] == 2004]['views'].plot(kind='box', title='2004')\n",
    "_ = ax.set_yticks(labels)\n",
    "\n",
    "plt.subplot(1,3,2)\n",
    "ax = ted[ted['year'] == 2006]['views'].plot(kind='box', title='2006')\n",
    "_ = ax.set_yticks(labels)\n",
    "\n",
    "plt.subplot(1,3,3)\n",
    "ax = ted['views'].plot(kind='box', title='Generale')\n",
    "_ = ax.set_yticks(labels)"
   ],
   "metadata": {
    "collapsed": false,
    "pycharm": {
     "name": "#%%\n"
    }
   }
  },
  {
   "cell_type": "markdown",
   "source": [
    "Per poter vedere meglio la distribuzione, andiamo a vedere la distribuzione considerando solo i talks con meno di 1e7 views."
   ],
   "metadata": {
    "collapsed": false,
    "pycharm": {
     "name": "#%% md\n"
    }
   }
  },
  {
   "cell_type": "code",
   "execution_count": null,
   "outputs": [],
   "source": [
    "plt.figure(figsize=(15,5))\n",
    "labels = np.arange(0, 1e7+2e6, 1e6)\n",
    "less = ted[ted['views'] < 1e7]\n",
    "\n",
    "\n",
    "plt.subplot(1,3,1)\n",
    "ax = less[ted['year'] == 2004]['views'].plot(kind='box', title='2004 e meno di 1e7 views')\n",
    "_ = ax.set_yticks(labels)\n",
    "\n",
    "plt.subplot(1,3,2)\n",
    "ax = less[ted['year'] == 2006]['views'].plot(kind='box', title='2006 e meno di 1e7 views')\n",
    "_ = ax.set_yticks(labels)\n",
    "\n",
    "plt.subplot(1,3,3)\n",
    "ax = less['views'].plot(kind='box', title='Meno di 1e7 views')\n",
    "_ = ax.set_yticks(labels)"
   ],
   "metadata": {
    "collapsed": false,
    "pycharm": {
     "name": "#%%\n"
    }
   }
  },
  {
   "cell_type": "markdown",
   "source": [
    "Si può osservare che la distribuzione delle views dei talks prodotti nel 2004 e nel 2006 e quella generale sono molto simili tra loro."
   ],
   "metadata": {
    "collapsed": false,
    "pycharm": {
     "name": "#%% md\n"
    }
   }
  },
  {
   "cell_type": "markdown",
   "source": [
    "Un altro tipo di analisi che vogliamo fare è sui titoli, infatti vogliamo vedere se sono presenti delle parole che compaiono la maggior parte delle volte per provare a trovare le tematiche più comuni."
   ],
   "metadata": {
    "collapsed": false,
    "pycharm": {
     "name": "#%% md\n"
    }
   }
  },
  {
   "cell_type": "code",
   "execution_count": null,
   "outputs": [],
   "source": [
    "import nltk\n",
    "from nltk.corpus import stopwords\n",
    "from termcolor import colored\n",
    "nltk.download('stopwords')\n",
    "\n",
    "def getWords(ds):\n",
    "  banned = list(stopwords.words('english'))+['—', 'new', 'us', 'could', 'we\\'re']\n",
    "  wordsList=[]\n",
    "  for v in ds.values:\n",
    "    for w in v.split():\n",
    "      if w.lower() not in banned:\n",
    "        wordsList.append(w.lower())\n",
    "  words = pd.DataFrame({'word':wordsList})['word'].value_counts().nlargest(6)\n",
    "  return words\n",
    "\n",
    "def getWordsColor(w, c):\n",
    "  word_color=dict()\n",
    "  count=0\n",
    "  for w in words.index: \n",
    "    word_color[w]=c[count]\n",
    "    count+=1\n",
    "  return word_color\n",
    "\n",
    "def plotWords(w, c):\n",
    "  ax = words.plot(kind='bar')\n",
    "  count=0\n",
    "  for rect in ax.patches:\n",
    "    rect.set_color(c[count])\n",
    "    count+=1\n",
    "\n",
    "def printTitleColor(t, w_dictionary):\n",
    "  for title in t:\n",
    "    for w in title.split():\n",
    "      if w.lower() in w_dictionary:\n",
    "        print(colored(w, w_dictionary[w.lower()]), end=' ')\n",
    "      else:\n",
    "        print(w, end=' ')\n",
    "    print()"
   ],
   "metadata": {
    "collapsed": false,
    "pycharm": {
     "name": "#%%\n"
    }
   }
  },
  {
   "cell_type": "code",
   "execution_count": null,
   "outputs": [],
   "source": [
    "color=['red','green','yellow','blue','magenta','cyan']\n",
    "\n",
    "words=getWords(ted['title'])\n",
    "word_color=getWordsColor(words,color)\n",
    "plotWords(words,color)"
   ],
   "metadata": {
    "collapsed": false,
    "pycharm": {
     "name": "#%%\n"
    }
   }
  },
  {
   "cell_type": "markdown",
   "source": [
    "Tra le paroli più comuni, si può notare come siano presenti, quasi nella stessa quantità, le parole `climate` e `change`, a suggerire come uno dei temi più importanti degli ultimi anni, ossia il cambiamento climatico, venga trattato molto frequentemente anche nei talks presenti su Ted Talks. Andiamo a verificare quante volte compaiono nello stesso titolo."
   ],
   "metadata": {
    "collapsed": false,
    "pycharm": {
     "name": "#%% md\n"
    }
   }
  },
  {
   "cell_type": "code",
   "execution_count": null,
   "outputs": [],
   "source": [
    "countBoth=0\n",
    "countClimate=0\n",
    "countChange=0\n",
    "for v in ted['title'].values:\n",
    "  v = v.lower()\n",
    "  if 'climate' in v and 'change' in v:\n",
    "    countBoth+=1\n",
    "  if 'climate' in v:\n",
    "    countClimate+=1\n",
    "  if 'change' in v:\n",
    "    countChange+=1\n",
    "print(f\"'Climate' compare {countClimate} volte, 'Change' compare {countChange} volte e compaiono entrambe nello stesso titolo {countBoth} volte\")"
   ],
   "metadata": {
    "collapsed": false,
    "pycharm": {
     "name": "#%%\n"
    }
   }
  },
  {
   "cell_type": "markdown",
   "source": [
    "`Change` ovviamente compare più volte essendo anche una parola che può essere usata in diversi abiti, ma è interessante notare come più del 50% delle volte la parola `Climate` compaia insieme a `Change`.\n",
    "\n"
   ],
   "metadata": {
    "collapsed": false,
    "pycharm": {
     "name": "#%% md\n"
    }
   }
  },
  {
   "cell_type": "markdown",
   "source": [
    "Adesso andiamo a vedere se è presente un legame tra le parole più usate ed i titoli dei 50 talks con più views"
   ],
   "metadata": {
    "collapsed": false,
    "pycharm": {
     "name": "#%% md\n"
    }
   }
  },
  {
   "cell_type": "code",
   "execution_count": null,
   "outputs": [],
   "source": [
    "bestTalksByViews = ted.sort_values(by='views', ascending=False, ignore_index=True).nlargest(50, 'views')['title']\n",
    "printTitleColor(bestTalksByViews, word_color)"
   ],
   "metadata": {
    "collapsed": false,
    "pycharm": {
     "name": "#%%\n"
    }
   }
  },
  {
   "cell_type": "markdown",
   "source": [
    "Si può notare come, tranne una volta `life` e `future`, le parole che abbiamo trovato che vengono utilizzate maggiormente, non compaiono nei primi 50 titoli, quindi non sono presenti legami tra temi trattati e numero di visualizzazioni.\n"
   ],
   "metadata": {
    "collapsed": false,
    "pycharm": {
     "name": "#%% md\n"
    }
   }
  },
  {
   "cell_type": "markdown",
   "source": [
    "Andiamo a vedere le parole più usate nei primi 50 titoli per vedere se sono presenti dei temi ricorrenti."
   ],
   "metadata": {
    "collapsed": false,
    "pycharm": {
     "name": "#%% md\n"
    }
   }
  },
  {
   "cell_type": "code",
   "execution_count": null,
   "outputs": [],
   "source": [
    "words=getWords(bestTalksByViews)\n",
    "word_color=getWordsColor(words,color)\n",
    "plotWords(words,color)"
   ],
   "metadata": {
    "collapsed": false,
    "pycharm": {
     "name": "#%%\n"
    }
   }
  },
  {
   "cell_type": "code",
   "execution_count": null,
   "outputs": [],
   "source": [
    "printTitleColor(bestTalksByViews, word_color)"
   ],
   "metadata": {
    "collapsed": false,
    "pycharm": {
     "name": "#%%\n"
    }
   }
  },
  {
   "cell_type": "markdown",
   "source": [
    "Analizzando le parole trovate, è possibile notare come nella top 50 dei talks più visti siano presenti:\n",
    "\n",
    "\n",
    "*   Due talks dove viene trattato un elenco di cose da fare (ed hanno in comune la parola `10`)\n",
    "*   Tre talks dove vengono analizzati i punti di forza (ed hanno in comune la parola `power`)\n",
    "*   Tre talks dove viene analizzato il linguaggio (ed hanno in comune la parola `language`)\n",
    "*   Due talks dove vengono dati consigli su come migliorare la propria vita e la propria persona (ed hanno in comune la parola `makes`)\n"
   ],
   "metadata": {
    "collapsed": false,
    "pycharm": {
     "name": "#%% md\n"
    }
   }
  },
  {
   "cell_type": "code",
   "source": [
    "color=['red','green','yellow','blue','magenta','cyan']\n",
    "\n",
    "words=getWords(ted['title'])\n",
    "word_color=getWordsColor(words,color)\n",
    "plotWords(words,color)"
   ],
   "metadata": {
    "id": "T63fbWXgTT5q",
    "outputId": "400f9742-7d4c-4772-b723-1e17aabd6546",
    "colab": {
     "base_uri": "https://localhost:8080/",
     "height": 292
    },
    "pycharm": {
     "name": "#%%\n"
    }
   },
   "execution_count": 309,
   "outputs": [
    {
     "output_type": "display_data",
     "data": {
      "text/plain": [
       "<Figure size 432x288 with 1 Axes>"
      ],
      "image/png": "[encoded data removed]"
     },
     "metadata": {
      "needs_background": "light"
     }
    }
   ]
  },
  {
   "cell_type": "markdown",
   "source": [
    "Tra le paroli più comuni, si può notare come siano presenti, quasi nella stessa quantità, le parole `climate` e `change`, a suggerire come uno dei temi più importanti degli ultimi anni, ossia il cambiamento climatico, venga trattato molto frequentemente anche nei talks presenti su Ted Talks. Andiamo a verificare quante volte compaiono nello stesso titolo."
   ],
   "metadata": {
    "id": "i_sQ9qPvdyyt",
    "pycharm": {
     "name": "#%% md\n"
    }
   }
  },
  {
   "cell_type": "code",
   "source": [
    "countBoth=0\n",
    "countClimate=0\n",
    "countChange=0\n",
    "for v in ted['title'].values:\n",
    "  v = v.lower()\n",
    "  if 'climate' in v and 'change' in v:\n",
    "    countBoth+=1\n",
    "  if 'climate' in v:\n",
    "    countClimate+=1\n",
    "  if 'change' in v:\n",
    "    countChange+=1\n",
    "print(f\"'Climate' compare {countClimate} volte, 'Change' compare {countChange} volte e compaiono entrambe nello stesso titolo {countBoth} volte\")"
   ],
   "metadata": {
    "id": "f6zjtrm_e9AP",
    "outputId": "2c938e64-354a-4b14-f1ff-3620452900cd",
    "colab": {
     "base_uri": "https://localhost:8080/"
    },
    "pycharm": {
     "name": "#%%\n"
    }
   },
   "execution_count": 310,
   "outputs": [
    {
     "output_type": "stream",
     "name": "stdout",
     "text": [
      "'Climate' compare 92 volte, 'Change' compare 136 volte e compaiono entrambe nello stesso titolo 48 volte\n"
     ]
    }
   ]
  },
  {
   "cell_type": "markdown",
   "source": [
    "`Change` ovviamente compare più volte essendo anche una parola che può essere usata in diversi abiti, ma è interessante notare come più del 50% delle volte la parola `Climate` compaia insieme a `Change`.\n",
    "\n"
   ],
   "metadata": {
    "id": "3YjBpPOjeoyc",
    "pycharm": {
     "name": "#%% md\n"
    }
   }
  },
  {
   "cell_type": "markdown",
   "source": [
    "Adesso andiamo a vedere se è presente un legame tra le parole più usate ed i titoli dei 50 talks con più views"
   ],
   "metadata": {
    "id": "UAYqETfSfBzN",
    "pycharm": {
     "name": "#%% md\n"
    }
   }
  },
  {
   "cell_type": "code",
   "source": [
    "bestTalksByViews = ted.sort_values(by='views', ascending=False, ignore_index=True).nlargest(50, 'views')['title']\n",
    "printTitleColor(bestTalksByViews, word_color)"
   ],
   "metadata": {
    "id": "pvLggDfhfJvK",
    "outputId": "a64bc099-fb9d-419b-c513-f83acbe2b2a8",
    "colab": {
     "base_uri": "https://localhost:8080/"
    },
    "pycharm": {
     "name": "#%%\n"
    }
   },
   "execution_count": 311,
   "outputs": [
    {
     "output_type": "stream",
     "name": "stdout",
     "text": [
      "Do schools kill creativity? \n",
      "Your body language may shape who you are \n",
      "Inside the mind of a master procrastinator \n",
      "How great leaders inspire action \n",
      "The power of vulnerability \n",
      "How to speak so that people want to listen \n",
      "My philosophy for a happy \u001B[31mlife\u001B[0m \n",
      "The next outbreak? We're not ready \n",
      "What makes a good life? Lessons from the longest study on happiness \n",
      "Looks aren't everything. Believe me, I'm a model. \n",
      "10 things you didn't know about orgasm \n",
      "Why people believe they can't draw \n",
      "The orchestra in my mouth \n",
      "The art of misdirection \n",
      "How to spot a liar \n",
      "The danger of a single story \n",
      "The power of introverts \n",
      "The \u001B[32mfuture\u001B[0m we're building — and boring \n",
      "How to make stress your friend \n",
      "How to stop screwing yourself over \n",
      "How I held my breath for 17 minutes \n",
      "The puzzle of motivation \n",
      "My stroke of insight \n",
      "Strange answers to the psychopath test \n",
      "Questions no one knows the answers to \n",
      "10 ways to have a better conversation \n",
      "Grit: The power of passion and perseverance \n",
      "Can you solve the prisoner hat riddle? \n",
      "The happy secret to better work \n",
      "My escape from North Korea \n",
      "The Infinite Hotel Paradox \n",
      "What are those floaty things in your eye? \n",
      "The price of shame \n",
      "What is depression? \n",
      "Your elusive creative genius \n",
      "The surprising science of happiness \n",
      "A Saudi, an Indian and an Iranian walk into a Qatari bar ... \n",
      "The secret to desire in a long-term relationship \n",
      "Can you solve the bridge riddle? \n",
      "The surprising habits of original thinkers \n",
      "Rethinking infidelity ... a talk for anyone who has ever loved \n",
      "The thrilling potential of SixthSense technology \n",
      "How to stay calm when you know you'll be stressed \n",
      "What makes you special? \n",
      "The language of lying \n",
      "Brain magic \n",
      "Everything you think you know about addiction is wrong \n",
      "A simple way to break a bad habit \n",
      "What would happen if you didn't drink water? \n",
      "How language shapes the way we think \n"
     ]
    }
   ]
  },
  {
   "cell_type": "markdown",
   "source": [
    "Si può notare come, tranne una volta `life` e `future`, le parole che abbiamo trovato che vengono utilizzate maggiormente, non compaiono nei primi 50 titoli, quindi non sono presenti legami tra temi trattati e numero di visualizzazioni.\n"
   ],
   "metadata": {
    "id": "FZUb4eqpleb5",
    "pycharm": {
     "name": "#%% md\n"
    }
   }
  },
  {
   "cell_type": "markdown",
   "source": [
    "Andiamo a vedere le parole più usate nei primi 50 titoli per vedere se sono presenti dei temi ricorrenti."
   ],
   "metadata": {
    "id": "pl8f81Mpl44j",
    "pycharm": {
     "name": "#%% md\n"
    }
   }
  },
  {
   "cell_type": "code",
   "source": [
    "words=getWords(bestTalksByViews)\n",
    "word_color=getWordsColor(words,color)\n",
    "plotWords(words,color)"
   ],
   "metadata": {
    "id": "cffrWgvKl38K",
    "outputId": "4a583871-3c78-4d46-a395-0419795e787c",
    "colab": {
     "base_uri": "https://localhost:8080/",
     "height": 302
    },
    "pycharm": {
     "name": "#%%\n"
    }
   },
   "execution_count": 312,
   "outputs": [
    {
     "output_type": "display_data",
     "data": {
      "text/plain": [
       "<Figure size 432x288 with 1 Axes>"
      ],
      "image/png": "[encoded data removed]"
     },
     "metadata": {
      "needs_background": "light"
     }
    }
   ]
  },
  {
   "cell_type": "code",
   "source": [
    "printTitleColor(bestTalksByViews, word_color)"
   ],
   "metadata": {
    "id": "nzcWNgLGqQRH",
    "outputId": "db906b31-d79e-463f-e44c-c187c28a7cb0",
    "colab": {
     "base_uri": "https://localhost:8080/"
    },
    "pycharm": {
     "name": "#%%\n"
    }
   },
   "execution_count": 313,
   "outputs": [
    {
     "output_type": "stream",
     "name": "stdout",
     "text": [
      "Do schools kill creativity? \n",
      "Your body \u001B[31mlanguage\u001B[0m may shape who you are \n",
      "Inside the mind of a master procrastinator \n",
      "How great leaders inspire action \n",
      "The \u001B[33mpower\u001B[0m of vulnerability \n",
      "How to speak so that people want to listen \n",
      "My philosophy for a happy life \n",
      "The next outbreak? We're not ready \n",
      "What \u001B[36mmakes\u001B[0m a good life? Lessons from the longest study on happiness \n",
      "Looks aren't everything. Believe me, I'm a model. \n",
      "\u001B[35m10\u001B[0m \u001B[34mthings\u001B[0m you didn't \u001B[32mknow\u001B[0m about orgasm \n",
      "Why people believe they can't draw \n",
      "The orchestra in my mouth \n",
      "The art of misdirection \n",
      "How to spot a liar \n",
      "The danger of a single story \n",
      "The \u001B[33mpower\u001B[0m of introverts \n",
      "The future we're building — and boring \n",
      "How to make stress your friend \n",
      "How to stop screwing yourself over \n",
      "How I held my breath for 17 minutes \n",
      "The puzzle of motivation \n",
      "My stroke of insight \n",
      "Strange answers to the psychopath test \n",
      "Questions no one knows the answers to \n",
      "\u001B[35m10\u001B[0m ways to have a better conversation \n",
      "Grit: The \u001B[33mpower\u001B[0m of passion and perseverance \n",
      "Can you solve the prisoner hat riddle? \n",
      "The happy secret to better work \n",
      "My escape from North Korea \n",
      "The Infinite Hotel Paradox \n",
      "What are those floaty \u001B[34mthings\u001B[0m in your eye? \n",
      "The price of shame \n",
      "What is depression? \n",
      "Your elusive creative genius \n",
      "The surprising science of happiness \n",
      "A Saudi, an Indian and an Iranian walk into a Qatari bar ... \n",
      "The secret to desire in a long-term relationship \n",
      "Can you solve the bridge riddle? \n",
      "The surprising habits of original thinkers \n",
      "Rethinking infidelity ... a talk for anyone who has ever loved \n",
      "The thrilling potential of SixthSense technology \n",
      "How to stay calm when you \u001B[32mknow\u001B[0m you'll be stressed \n",
      "What \u001B[36mmakes\u001B[0m you special? \n",
      "The \u001B[31mlanguage\u001B[0m of lying \n",
      "Brain magic \n",
      "Everything you think you \u001B[32mknow\u001B[0m about addiction is wrong \n",
      "A simple way to break a bad habit \n",
      "What would happen if you didn't drink water? \n",
      "How \u001B[31mlanguage\u001B[0m shapes the way we think \n"
     ]
    }
   ]
  },
  {
   "cell_type": "markdown",
   "source": [
    "Analizzando le parole trovate, è possibile notare come nella top 50 dei talks più visti siano presenti:\n",
    "\n",
    "\n",
    "*   Due talks dove viene trattato un elenco di cose da fare (ed hanno in comune la parola `10`)\n",
    "*   Tre talks dove vengono analizzati i punti di forza (ed hanno in comune la parola `power`)\n",
    "*   Tre talks dove viene analizzato il linguaggio (ed hanno in comune la parola `language`)\n",
    "*   Due talks dove vengono dati consigli su come migliorare la propria vita e la propria persona (ed hanno in comune la parola `makes`)\n"
   ],
   "metadata": {
    "id": "xk_EUCS0qc6V",
    "pycharm": {
     "name": "#%% md\n"
    }
   }
  }
 ],
 "metadata": {
  "kernelspec": {
   "display_name": "Python 3",
   "language": "python",
   "name": "python3"
  },
  "language_info": {
   "codemirror_mode": {
    "name": "ipython",
    "version": 2
   },
   "file_extension": ".py",
   "mimetype": "text/x-python",
   "name": "python",
   "nbconvert_exporter": "python",
   "pygments_lexer": "ipython2",
   "version": "2.7.6"
  },
  "colab": {
   "name": "progetto.ipynb",
   "provenance": []
  }
 },
 "nbformat": 4,
 "nbformat_minor": 0
}
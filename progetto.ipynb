{
 "cells": [
  {
   "cell_type": "raw",
   "metadata": {
    "collapsed": true,
    "pycharm": {
     "name": "#%% raw\n"
    }
   },
   "source": [
    "Progetto realizzato da: Siri Filippo (4819642)\n",
    "Analisi del dataset TED Talks"
   ]
  },
  {
   "cell_type": "code",
   "source": [
    "#TODO:Correlazione, funzione che prevede i likes dato num di views, ttest"
   ],
   "metadata": {
    "collapsed": false,
    "pycharm": {
     "name": "#%%\n"
    }
   },
   "execution_count": 185,
   "outputs": []
  },
  {
   "cell_type": "code",
   "execution_count": 186,
   "outputs": [],
   "source": [
    "import pandas as pd\n",
    "import matplotlib.pyplot as plt\n",
    "import numpy as np\n",
    "import scipy.stats as stats\n",
    "import scipy\n",
    "from sklearn import metrics\n",
    "from sklearn.model_selection import train_test_split\n",
    "from sklearn.linear_model import LinearRegression\n"
   ],
   "metadata": {
    "collapsed": false,
    "pycharm": {
     "name": "#%%\n"
    }
   }
  },
  {
   "cell_type": "raw",
   "source": [
    "Per poter analizzare il dataset iniziamo importando il file csv e vedendo le colonne presenti"
   ],
   "metadata": {
    "collapsed": false,
    "pycharm": {
     "name": "#%% raw\n"
    }
   }
  },
  {
   "cell_type": "code",
   "execution_count": 187,
   "outputs": [
    {
     "data": {
      "text/plain": "                                               title                author  \\\n0      Climate action needs new frontline leadership  Ozawa Bineshi Albert   \n1        The dark history of the overthrow of Hawaii         Sydney Iaukea   \n2     How play can spark new ideas for your business         Martin Reeves   \n3  Why is China appointing judges to combat clima...     James K. Thornton   \n4     Cement's carbon problem — and 2 ways to fix it       Mahendra Singhi   \n\n             date   views  likes  \\\n0   December 2021  404000  12000   \n1   February 2022  214000   6400   \n2  September 2021  412000  12000   \n3    October 2021  427000  12000   \n4    October 2021    2400     72   \n\n                                                link  \n0  https://ted.com/talks/ozawa_bineshi_albert_cli...  \n1  https://ted.com/talks/sydney_iaukea_the_dark_h...  \n2  https://ted.com/talks/martin_reeves_how_play_c...  \n3  https://ted.com/talks/james_k_thornton_why_is_...  \n4  https://ted.com/talks/mahendra_singhi_cement_s...  ",
      "text/html": "<div>\n<style scoped>\n    .dataframe tbody tr th:only-of-type {\n        vertical-align: middle;\n    }\n\n    .dataframe tbody tr th {\n        vertical-align: top;\n    }\n\n    .dataframe thead th {\n        text-align: right;\n    }\n</style>\n<table border=\"1\" class=\"dataframe\">\n  <thead>\n    <tr style=\"text-align: right;\">\n      <th></th>\n      <th>title</th>\n      <th>author</th>\n      <th>date</th>\n      <th>views</th>\n      <th>likes</th>\n      <th>link</th>\n    </tr>\n  </thead>\n  <tbody>\n    <tr>\n      <th>0</th>\n      <td>Climate action needs new frontline leadership</td>\n      <td>Ozawa Bineshi Albert</td>\n      <td>December 2021</td>\n      <td>404000</td>\n      <td>12000</td>\n      <td>https://ted.com/talks/ozawa_bineshi_albert_cli...</td>\n    </tr>\n    <tr>\n      <th>1</th>\n      <td>The dark history of the overthrow of Hawaii</td>\n      <td>Sydney Iaukea</td>\n      <td>February 2022</td>\n      <td>214000</td>\n      <td>6400</td>\n      <td>https://ted.com/talks/sydney_iaukea_the_dark_h...</td>\n    </tr>\n    <tr>\n      <th>2</th>\n      <td>How play can spark new ideas for your business</td>\n      <td>Martin Reeves</td>\n      <td>September 2021</td>\n      <td>412000</td>\n      <td>12000</td>\n      <td>https://ted.com/talks/martin_reeves_how_play_c...</td>\n    </tr>\n    <tr>\n      <th>3</th>\n      <td>Why is China appointing judges to combat clima...</td>\n      <td>James K. Thornton</td>\n      <td>October 2021</td>\n      <td>427000</td>\n      <td>12000</td>\n      <td>https://ted.com/talks/james_k_thornton_why_is_...</td>\n    </tr>\n    <tr>\n      <th>4</th>\n      <td>Cement's carbon problem — and 2 ways to fix it</td>\n      <td>Mahendra Singhi</td>\n      <td>October 2021</td>\n      <td>2400</td>\n      <td>72</td>\n      <td>https://ted.com/talks/mahendra_singhi_cement_s...</td>\n    </tr>\n  </tbody>\n</table>\n</div>"
     },
     "execution_count": 187,
     "metadata": {},
     "output_type": "execute_result"
    }
   ],
   "source": [
    "ted = pd.read_csv('data.csv')\n",
    "ted.head()"
   ],
   "metadata": {
    "collapsed": false,
    "pycharm": {
     "name": "#%%\n"
    }
   }
  },
  {
   "cell_type": "raw",
   "source": [
    "Adesso vogliamo osservare anche la dimensione del dataset"
   ],
   "metadata": {
    "collapsed": false,
    "pycharm": {
     "name": "#%% raw\n"
    }
   }
  },
  {
   "cell_type": "code",
   "execution_count": 188,
   "outputs": [
    {
     "data": {
      "text/plain": "(5440, 6)"
     },
     "execution_count": 188,
     "metadata": {},
     "output_type": "execute_result"
    }
   ],
   "source": [
    "ted.shape"
   ],
   "metadata": {
    "collapsed": false,
    "pycharm": {
     "name": "#%%\n"
    }
   }
  },
  {
   "cell_type": "raw",
   "source": [
    "Vogliamo fare una prima analisi dei dati andando ad fare una prima analisi di ogni feature. Per farlo dividiamo le features in quantitative e qualitative"
   ],
   "metadata": {
    "collapsed": false,
    "pycharm": {
     "name": "#%% raw\n"
    }
   }
  },
  {
   "cell_type": "code",
   "execution_count": 189,
   "outputs": [],
   "source": [
    "ted_quantitative = ted[['views','likes']]\n",
    "ted_qualitative = ted[['title', 'author', 'date', 'link']]"
   ],
   "metadata": {
    "collapsed": false,
    "pycharm": {
     "name": "#%%\n"
    }
   }
  },
  {
   "cell_type": "code",
   "execution_count": 190,
   "outputs": [
    {
     "data": {
      "text/plain": "                views          likes\ncount      5440.00000     5440.00000\nmean    2061575.95790    62607.61673\nstd     3567097.76512   107646.76946\nmin         532.00000       15.00000\n25%      670750.00000    20000.00000\n50%     1300000.00000    40500.00000\n75%     2100000.00000    65000.00000\nmax    72000000.00000  2100000.00000",
      "text/html": "<div>\n<style scoped>\n    .dataframe tbody tr th:only-of-type {\n        vertical-align: middle;\n    }\n\n    .dataframe tbody tr th {\n        vertical-align: top;\n    }\n\n    .dataframe thead th {\n        text-align: right;\n    }\n</style>\n<table border=\"1\" class=\"dataframe\">\n  <thead>\n    <tr style=\"text-align: right;\">\n      <th></th>\n      <th>views</th>\n      <th>likes</th>\n    </tr>\n  </thead>\n  <tbody>\n    <tr>\n      <th>count</th>\n      <td>5440.00000</td>\n      <td>5440.00000</td>\n    </tr>\n    <tr>\n      <th>mean</th>\n      <td>2061575.95790</td>\n      <td>62607.61673</td>\n    </tr>\n    <tr>\n      <th>std</th>\n      <td>3567097.76512</td>\n      <td>107646.76946</td>\n    </tr>\n    <tr>\n      <th>min</th>\n      <td>532.00000</td>\n      <td>15.00000</td>\n    </tr>\n    <tr>\n      <th>25%</th>\n      <td>670750.00000</td>\n      <td>20000.00000</td>\n    </tr>\n    <tr>\n      <th>50%</th>\n      <td>1300000.00000</td>\n      <td>40500.00000</td>\n    </tr>\n    <tr>\n      <th>75%</th>\n      <td>2100000.00000</td>\n      <td>65000.00000</td>\n    </tr>\n    <tr>\n      <th>max</th>\n      <td>72000000.00000</td>\n      <td>2100000.00000</td>\n    </tr>\n  </tbody>\n</table>\n</div>"
     },
     "execution_count": 190,
     "metadata": {},
     "output_type": "execute_result"
    }
   ],
   "source": [
    "ted_quantitative.describe().apply(lambda s: s.apply('{0:.5f}'.format))"
   ],
   "metadata": {
    "collapsed": false,
    "pycharm": {
     "name": "#%%\n"
    }
   }
  },
  {
   "cell_type": "code",
   "execution_count": 191,
   "outputs": [
    {
     "data": {
      "text/plain": "                                                title        author  \\\ncount                                            5440          5439   \nunique                                           5440          4443   \ntop     Climate action needs new frontline leadership  Alex Gendler   \nfreq                                                1            45   \n\n              date                                               link  \ncount         5440                                               5440  \nunique         200                                               5440  \ntop     April 2018  https://ted.com/talks/ozawa_bineshi_albert_cli...  \nfreq           127                                                  1  ",
      "text/html": "<div>\n<style scoped>\n    .dataframe tbody tr th:only-of-type {\n        vertical-align: middle;\n    }\n\n    .dataframe tbody tr th {\n        vertical-align: top;\n    }\n\n    .dataframe thead th {\n        text-align: right;\n    }\n</style>\n<table border=\"1\" class=\"dataframe\">\n  <thead>\n    <tr style=\"text-align: right;\">\n      <th></th>\n      <th>title</th>\n      <th>author</th>\n      <th>date</th>\n      <th>link</th>\n    </tr>\n  </thead>\n  <tbody>\n    <tr>\n      <th>count</th>\n      <td>5440</td>\n      <td>5439</td>\n      <td>5440</td>\n      <td>5440</td>\n    </tr>\n    <tr>\n      <th>unique</th>\n      <td>5440</td>\n      <td>4443</td>\n      <td>200</td>\n      <td>5440</td>\n    </tr>\n    <tr>\n      <th>top</th>\n      <td>Climate action needs new frontline leadership</td>\n      <td>Alex Gendler</td>\n      <td>April 2018</td>\n      <td>https://ted.com/talks/ozawa_bineshi_albert_cli...</td>\n    </tr>\n    <tr>\n      <th>freq</th>\n      <td>1</td>\n      <td>45</td>\n      <td>127</td>\n      <td>1</td>\n    </tr>\n  </tbody>\n</table>\n</div>"
     },
     "execution_count": 191,
     "metadata": {},
     "output_type": "execute_result"
    }
   ],
   "source": [
    "ted_qualitative.describe()"
   ],
   "metadata": {
    "collapsed": false,
    "pycharm": {
     "name": "#%%\n"
    }
   }
  },
  {
   "cell_type": "raw",
   "source": [
    "È possibile notare che per ogni feature sono presenti 5440 valori, tranne che per la feature author dove ne troviamo solo 5439. Andiamo a vedere se è presente un record con author con valore null."
   ],
   "metadata": {
    "collapsed": false,
    "pycharm": {
     "name": "#%% raw\n"
    }
   }
  },
  {
   "cell_type": "code",
   "execution_count": 192,
   "outputs": [
    {
     "data": {
      "text/plain": "                   title author           date  views  likes  \\\n3039  Year In Ideas 2015    NaN  December 2015    532     15   \n\n                                          link  \n3039  https://ted.com/talks/year_in_ideas_2015  ",
      "text/html": "<div>\n<style scoped>\n    .dataframe tbody tr th:only-of-type {\n        vertical-align: middle;\n    }\n\n    .dataframe tbody tr th {\n        vertical-align: top;\n    }\n\n    .dataframe thead th {\n        text-align: right;\n    }\n</style>\n<table border=\"1\" class=\"dataframe\">\n  <thead>\n    <tr style=\"text-align: right;\">\n      <th></th>\n      <th>title</th>\n      <th>author</th>\n      <th>date</th>\n      <th>views</th>\n      <th>likes</th>\n      <th>link</th>\n    </tr>\n  </thead>\n  <tbody>\n    <tr>\n      <th>3039</th>\n      <td>Year In Ideas 2015</td>\n      <td>NaN</td>\n      <td>December 2015</td>\n      <td>532</td>\n      <td>15</td>\n      <td>https://ted.com/talks/year_in_ideas_2015</td>\n    </tr>\n  </tbody>\n</table>\n</div>"
     },
     "execution_count": 192,
     "metadata": {},
     "output_type": "execute_result"
    }
   ],
   "source": [
    "ted[ted.isnull().any(axis=1)]"
   ],
   "metadata": {
    "collapsed": false,
    "pycharm": {
     "name": "#%%\n"
    }
   }
  },
  {
   "cell_type": "raw",
   "source": [],
   "metadata": {
    "collapsed": false,
    "pycharm": {
     "name": "#%% raw\n"
    }
   }
  },
  {
   "cell_type": "raw",
   "source": [
    "Adesso andiamo ad analizzare se è presente una correlazione tra il numero di views ed il numero di likes."
   ],
   "metadata": {
    "collapsed": false,
    "pycharm": {
     "name": "#%% raw\n"
    }
   }
  },
  {
   "cell_type": "code",
   "execution_count": 193,
   "outputs": [
    {
     "data": {
      "text/plain": "          views     likes\nviews  1.000000  0.999661\nlikes  0.999661  1.000000",
      "text/html": "<div>\n<style scoped>\n    .dataframe tbody tr th:only-of-type {\n        vertical-align: middle;\n    }\n\n    .dataframe tbody tr th {\n        vertical-align: top;\n    }\n\n    .dataframe thead th {\n        text-align: right;\n    }\n</style>\n<table border=\"1\" class=\"dataframe\">\n  <thead>\n    <tr style=\"text-align: right;\">\n      <th></th>\n      <th>views</th>\n      <th>likes</th>\n    </tr>\n  </thead>\n  <tbody>\n    <tr>\n      <th>views</th>\n      <td>1.000000</td>\n      <td>0.999661</td>\n    </tr>\n    <tr>\n      <th>likes</th>\n      <td>0.999661</td>\n      <td>1.000000</td>\n    </tr>\n  </tbody>\n</table>\n</div>"
     },
     "execution_count": 193,
     "metadata": {},
     "output_type": "execute_result"
    }
   ],
   "source": [
    "ted_quantitative.corr()"
   ],
   "metadata": {
    "collapsed": false,
    "pycharm": {
     "name": "#%%\n"
    }
   }
  },
  {
   "cell_type": "raw",
   "source": [
    "È possibile notare che è presente una forte correlazione. Decidiamo di mostrarlo anche tramite un grafico."
   ],
   "metadata": {
    "collapsed": false
   }
  },
  {
   "cell_type": "code",
   "execution_count": 194,
   "outputs": [
    {
     "data": {
      "text/plain": "<matplotlib.collections.PathCollection at 0x7fc262a12a90>"
     },
     "execution_count": 194,
     "metadata": {},
     "output_type": "execute_result"
    },
    {
     "data": {
      "text/plain": "<Figure size 432x288 with 1 Axes>",
      "image/png": "[encoded data removed]"
     },
     "metadata": {
      "needs_background": "light"
     },
     "output_type": "display_data"
    }
   ],
   "source": [
    "plt.scatter(ted['views'], ted['likes'])"
   ],
   "metadata": {
    "collapsed": false,
    "pycharm": {
     "name": "#%%\n"
    }
   }
  },
  {
   "cell_type": "raw",
   "source": [
    "Siccome è presente questa forte correlazione, vogliamo implementare ed allenare un modello di regressione lineare che consenta di prevedere il numero di likes dato il numero di views. Dividiamo il dataset nel training set (utilizzato per allenare il modello) e nel validation set (utilizzato per verificare il modello). Per dividere il dataset usiamo come percentuale 70/30 (training/validation)."
   ],
   "metadata": {
    "collapsed": false,
    "pycharm": {
     "name": "#%% raw\n"
    }
   }
  },
  {
   "cell_type": "code",
   "execution_count": 197,
   "outputs": [
    {
     "name": "stdout",
     "output_type": "stream",
     "text": [
      "intercept: 241.78538868208125\n",
      "coefficient: [0.03026663]\n"
     ]
    },
    {
     "data": {
      "text/plain": "<matplotlib.collections.PathCollection at 0x7fc262048cd0>"
     },
     "execution_count": 197,
     "metadata": {},
     "output_type": "execute_result"
    },
    {
     "data": {
      "text/plain": "<Figure size 432x288 with 1 Axes>",
      "image/png": "[encoded data removed]"
     },
     "metadata": {
      "needs_background": "light"
     },
     "output_type": "display_data"
    }
   ],
   "source": [
    "features = ['views']\n",
    "x = ted[features]\n",
    "y = ted['likes']\n",
    "X_train, X_valid, y_train, y_valid = train_test_split(x, y, test_size=0.3)\n",
    "regressor = LinearRegression()\n",
    "lin_reg = regressor.fit(X_train, y_train)\n",
    "\n",
    "print('intercept:', lin_reg.intercept_)\n",
    "print('coefficient:', lin_reg.coef_)\n",
    "\n",
    "plt.scatter(X_train, y_train)\n",
    "\n",
    "y_hat = X_train * lin_reg.coef_ + lin_reg.intercept_\n",
    "\n",
    "plt.scatter(X_train, y_hat, color='r') #TODO: mettere una linea"
   ],
   "metadata": {
    "collapsed": false,
    "pycharm": {
     "name": "#%%\n"
    }
   }
  },
  {
   "cell_type": "code",
   "execution_count": 195,
   "outputs": [],
   "source": [],
   "metadata": {
    "collapsed": false,
    "pycharm": {
     "name": "#%%\n"
    }
   }
  }
 ],
 "metadata": {
  "kernelspec": {
   "display_name": "Python 3",
   "language": "python",
   "name": "python3"
  },
  "language_info": {
   "codemirror_mode": {
    "name": "ipython",
    "version": 2
   },
   "file_extension": ".py",
   "mimetype": "text/x-python",
   "name": "python",
   "nbconvert_exporter": "python",
   "pygments_lexer": "ipython2",
   "version": "2.7.6"
  }
 },
 "nbformat": 4,
 "nbformat_minor": 0
}